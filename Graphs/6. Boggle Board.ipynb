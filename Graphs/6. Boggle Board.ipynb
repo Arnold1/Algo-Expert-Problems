{
 "cells": [
  {
   "cell_type": "markdown",
   "metadata": {},
   "source": [
    "# Given a boggle board (2D Array) and a list of words, write a function to return the words in the given list that are also in the boggle board. For a word to be found in the boggle board, it has to appear with all its character in order, all the characters have to adjacent either vertically, horizontally or diagonally. You cannot reuse a character at a given position more than once for a word."
   ]
  },
  {
   "cell_type": "code",
   "execution_count": null,
   "metadata": {},
   "outputs": [],
   "source": [
    "\"\"\"\n",
    "Sample Input:\n",
    "\n",
    "        Board:\n",
    "        \n",
    "        ['t','h','i','s','i','s','a']\n",
    "        ['s','i','m','p','l','e','x']\n",
    "        ['b','x','x','x','x','e','b']\n",
    "        ['x','o','g','g','l','x','o']\n",
    "        ['x','x','x','D','T','r','a']\n",
    "        ['R','E','P','E','A','d','x']\n",
    "        ['x','x','x','x','x','x','x']\n",
    "        ['N','O','T','R','E','-','P']\n",
    "        ['x','x','D','E','T','A','E']\n",
    "        \n",
    "        List of words:\n",
    "        \n",
    "        ['this','is','not','a','simple','boggle','board','test','REPEATED','NOTRE-PEATED']\n",
    "        \n",
    "Sample Output:\n",
    "        \n",
    "        ['this', 'is', 'simple', 'a', 'boggle', 'board', 'NOTRE-PEATED']\n",
    "        \n",
    "\"\"\""
   ]
  },
  {
   "cell_type": "code",
   "execution_count": 1,
   "metadata": {},
   "outputs": [],
   "source": [
    "# O(nm * (8^s) + ws)T / O(nm + ws)S\n",
    "# n is height of board and m is width of board\n",
    "# s is longest word in words and w is number of words\n",
    "\n",
    "def boggleBoard(board, words):\n",
    "    trie = Trie()\n",
    "    \n",
    "    for word in words:\n",
    "        trie.add(word)\n",
    "        \n",
    "    finalWords = {}\n",
    "    visited = [[False for letter in row] for row in board]\n",
    "    \n",
    "    for i in range(len(board)):\n",
    "        for j in range(len(board[i])):\n",
    "            explore(i, j, board, trie.root, visited, finalWords)\n",
    "            \n",
    "    return list(finalWords.keys())\n",
    "\n",
    "def explore(i, j, board, trieNode, visited, finalWords):\n",
    "    if visited[i][j]:\n",
    "        return\n",
    "    \n",
    "    letter = board[i][j]\n",
    "    \n",
    "    if letter not in trieNode:\n",
    "        return\n",
    "    \n",
    "    visited[i][j] = True\n",
    "    \n",
    "    trieNode = trieNode[letter]\n",
    "    \n",
    "    if '*' in trieNode:\n",
    "        finalWords[trieNode['*']] = True\n",
    "        \n",
    "    neighbours = getNeighbours(i, j, board)\n",
    "    \n",
    "    for neighbour in neighbours:\n",
    "        explore(neighbour[0], neighbour[1], board, trieNode, visited, finalWords)\n",
    "        \n",
    "    visited[i][j] = False\n",
    "    \n",
    "def getNeighbours(i, j, board):\n",
    "    neighbours = []\n",
    "    \n",
    "    if i > 0 and j > 0:\n",
    "        neighbours.append([i - 1, j - 1])\n",
    "    \n",
    "    if i > 0 and j < len(board[0]) - 1:\n",
    "        neighbours.append([i - 1, j + 1])\n",
    "        \n",
    "    if i < len(board) - 1 and j < len(board[0]) - 1:\n",
    "        neighbours.append([i + 1, j + 1])\n",
    "        \n",
    "    if i < len(board) - 1 and j > 0:\n",
    "        neighbours.append([i + 1, j - 1])\n",
    "        \n",
    "    if i > 0:\n",
    "        neighbours.append([i - 1, j])\n",
    "        \n",
    "    if i < len(board) - 1:\n",
    "        neighbours.append([i + 1, j])\n",
    "        \n",
    "    if j > 0:\n",
    "        neighbours.append([i, j - 1])\n",
    "        \n",
    "    if j < len(board[0]) - 1:\n",
    "        neighbours.append([i, j + 1])\n",
    "        \n",
    "    return neighbours\n",
    "\n",
    "class Trie:\n",
    "    def __init__(self):\n",
    "        self.root = {}\n",
    "        self.endSymbol = '*'\n",
    "        \n",
    "    def add(self, word):\n",
    "        current = self.root\n",
    "        \n",
    "        for letter in word:\n",
    "            if letter not in current:\n",
    "                current[letter] = {}\n",
    "                \n",
    "            current = current[letter]\n",
    "        \n",
    "        current[self.endSymbol] = word"
   ]
  },
  {
   "cell_type": "code",
   "execution_count": 2,
   "metadata": {},
   "outputs": [],
   "source": [
    "board = [['t','h','i','s','i','s','a'],['s','i','m','p','l','e','x'],\n",
    "         ['b','x','x','x','x','e','b'],['x','o','g','g','l','x','o'],\n",
    "         ['x','x','x','D','T','r','a'],['R','E','P','E','A','d','x'],\n",
    "         ['x','x','x','x','x','x','x'],['N','O','T','R','E','-','P'],\n",
    "         ['x','x','D','E','T','A','E']]\n",
    "\n",
    "words = ['this','is','not','a','simple','boggle','board',\n",
    "         'test','REPEATED','NOTRE-PEATED']"
   ]
  },
  {
   "cell_type": "code",
   "execution_count": 3,
   "metadata": {},
   "outputs": [
    {
     "data": {
      "text/plain": [
       "['this', 'is', 'simple', 'a', 'boggle', 'board', 'NOTRE-PEATED']"
      ]
     },
     "execution_count": 3,
     "metadata": {},
     "output_type": "execute_result"
    }
   ],
   "source": [
    "boggleBoard(board, words)"
   ]
  },
  {
   "cell_type": "code",
   "execution_count": null,
   "metadata": {},
   "outputs": [],
   "source": []
  }
 ],
 "metadata": {
  "kernelspec": {
   "display_name": "Python 3",
   "language": "python",
   "name": "python3"
  },
  "language_info": {
   "codemirror_mode": {
    "name": "ipython",
    "version": 3
   },
   "file_extension": ".py",
   "mimetype": "text/x-python",
   "name": "python",
   "nbconvert_exporter": "python",
   "pygments_lexer": "ipython3",
   "version": "3.8.3"
  }
 },
 "nbformat": 4,
 "nbformat_minor": 4
}
