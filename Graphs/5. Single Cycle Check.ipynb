{
 "cells": [
  {
   "cell_type": "markdown",
   "metadata": {},
   "source": [
    "# You are given a circular array of positive and negative integers. If a number k at an index is positive, then move forward k steps. Conversely, if it's negative (-k), move backward k steps. Since the array is circular, you may assume that the last element's next element is the first element, and the first element's previous element is the last element. Determine if there is a single loop (or a cycle) in the given array. A cycle must start and end at the same index and the cycle's length should equal length of array."
   ]
  },
  {
   "cell_type": "code",
   "execution_count": 1,
   "metadata": {},
   "outputs": [],
   "source": [
    "# O(n)T / O(1)S\n",
    "\n",
    "def hasSingleCycle(array):\n",
    "    numElementsVisited = 0\n",
    "    currentIdx = 0\n",
    "    \n",
    "    while numElementsVisited < len(array):\n",
    "        if numElementsVisited > 0 and currentIdx == 0:\n",
    "            return False\n",
    "        \n",
    "        numElementsVisited += 1\n",
    "        \n",
    "        currentIdx = getNextIdx(currentIdx, array)\n",
    "    \n",
    "    return currentIdx == 0\n",
    "\n",
    "def getNextIdx(currentIdx, array):\n",
    "    jump = array[currentIdx]\n",
    "    nextIdx = (currentIdx + jump) % len(array)\n",
    "    \n",
    "    return nextIdx if nextIdx >= 0 else nextIdx + len(array)"
   ]
  },
  {
   "cell_type": "code",
   "execution_count": 2,
   "metadata": {},
   "outputs": [],
   "source": [
    "array = [2,3,1,-4,-4,2]"
   ]
  },
  {
   "cell_type": "code",
   "execution_count": 3,
   "metadata": {},
   "outputs": [
    {
     "data": {
      "text/plain": [
       "True"
      ]
     },
     "execution_count": 3,
     "metadata": {},
     "output_type": "execute_result"
    }
   ],
   "source": [
    "hasSingleCycle(array)"
   ]
  },
  {
   "cell_type": "code",
   "execution_count": null,
   "metadata": {},
   "outputs": [],
   "source": []
  }
 ],
 "metadata": {
  "kernelspec": {
   "display_name": "Python 3",
   "language": "python",
   "name": "python3"
  },
  "language_info": {
   "codemirror_mode": {
    "name": "ipython",
    "version": 3
   },
   "file_extension": ".py",
   "mimetype": "text/x-python",
   "name": "python",
   "nbconvert_exporter": "python",
   "pygments_lexer": "ipython3",
   "version": "3.8.3"
  }
 },
 "nbformat": 4,
 "nbformat_minor": 4
}
