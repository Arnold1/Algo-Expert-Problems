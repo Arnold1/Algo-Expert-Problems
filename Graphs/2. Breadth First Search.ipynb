{
 "cells": [
  {
   "cell_type": "markdown",
   "metadata": {},
   "source": [
    "# Breadth First Search Algorithm"
   ]
  },
  {
   "cell_type": "code",
   "execution_count": 1,
   "metadata": {},
   "outputs": [],
   "source": [
    "class Node:\n",
    "    def __init__(self, name):\n",
    "        self.children = []\n",
    "        self.name = name\n",
    "    \n",
    "    def addChild(self, name):\n",
    "        self.children.append(Node(name))\n",
    "     \n",
    "    # O(v + e)T / O(v)S - v is vertex & e is edge in the graph\n",
    "    def breadthFirstSearch(self, array):\n",
    "        queue = [self]\n",
    "        \n",
    "        while len(queue) > 0:\n",
    "            current = queue.pop(0)\n",
    "            array.append(current.name)\n",
    "            \n",
    "            for child in current.children:\n",
    "                queue.append(child)\n",
    "            \n",
    "        return array"
   ]
  },
  {
   "cell_type": "code",
   "execution_count": 2,
   "metadata": {},
   "outputs": [],
   "source": [
    "a = Node('A')\n",
    "a.addChild('B')\n",
    "a.addChild('C')\n",
    "a.addChild('D')\n",
    "a.children[0].addChild('E')\n",
    "a.children[0].addChild('F')\n",
    "a.children[0].children[1].addChild('I')\n",
    "a.children[0].children[1].addChild('J')\n",
    "a.children[2].addChild('G')\n",
    "a.children[2].addChild('H')\n",
    "a.children[2].children[0].addChild('K')"
   ]
  },
  {
   "cell_type": "code",
   "execution_count": null,
   "metadata": {},
   "outputs": [],
   "source": [
    "\"\"\"\n",
    "            A\n",
    "         /  |  \\\n",
    "        B   C   D\n",
    "      /  \\     /  \\\n",
    "     E   F    G    H\n",
    "        / \\    \\\n",
    "       I   J    K \n",
    "\"\"\""
   ]
  },
  {
   "cell_type": "code",
   "execution_count": 3,
   "metadata": {},
   "outputs": [
    {
     "data": {
      "text/plain": [
       "['A', 'B', 'C', 'D', 'E', 'F', 'G', 'H', 'I', 'J', 'K']"
      ]
     },
     "execution_count": 3,
     "metadata": {},
     "output_type": "execute_result"
    }
   ],
   "source": [
    "a.breadthFirstSearch([])"
   ]
  },
  {
   "cell_type": "code",
   "execution_count": null,
   "metadata": {},
   "outputs": [],
   "source": []
  }
 ],
 "metadata": {
  "kernelspec": {
   "display_name": "Python 3",
   "language": "python",
   "name": "python3"
  },
  "language_info": {
   "codemirror_mode": {
    "name": "ipython",
    "version": 3
   },
   "file_extension": ".py",
   "mimetype": "text/x-python",
   "name": "python",
   "nbconvert_exporter": "python",
   "pygments_lexer": "ipython3",
   "version": "3.8.3"
  }
 },
 "nbformat": 4,
 "nbformat_minor": 4
}
