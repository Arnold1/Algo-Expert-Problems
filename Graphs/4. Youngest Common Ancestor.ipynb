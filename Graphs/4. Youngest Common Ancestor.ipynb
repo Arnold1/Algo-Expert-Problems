{
 "cells": [
  {
   "cell_type": "markdown",
   "metadata": {},
   "source": [
    "# Given a family tree, find the youngest common ancestor of two given nodes(descendants) in the tree. The youngest common ancestor is defined between two nodes p and q as the lowest node in the tree that has both p and q as descendants (where we allow a node to be a descendant of itself). All nodes have an ancestor property which gives its immediate ancestor."
   ]
  },
  {
   "cell_type": "code",
   "execution_count": null,
   "metadata": {},
   "outputs": [],
   "source": [
    "# O(d)T / O(1)S - d is depth of the lowest descendant\n",
    "\n",
    "def getYoungestCommonAncestor(topAncestor, descendantOne, descendantTwo):\n",
    "    depthOne = getDescendantDepth(descendantOne, topAncestor)\n",
    "    depthTwo = getDescendantDepth(descendantTwo, topAncestor)\n",
    "    \n",
    "    if depthOne > depthTwo:\n",
    "        return backtrackAncestralTree(descendantOne, descendantTwo, depthOne - depthTwo)\n",
    "    else:\n",
    "        return backtrackAncestralTree(descendantTwo, descendantOne, depthTwo - depthOne)\n",
    "\n",
    "def getDescendantDepth(descendant, topAncestor):\n",
    "    depth = 0\n",
    "    \n",
    "    while descendant != topAncestor:\n",
    "        depth += 1\n",
    "        descendant = descendant.ancestor\n",
    "    \n",
    "    return depth\n",
    "\n",
    "def backtrackAncestralTree(lowerDescendant, higherDescendant, diff):\n",
    "    while diff > 0:\n",
    "        lowerDescendant = lowerDescendant.ancestor\n",
    "        diff -= 1\n",
    "    \n",
    "    while lowerDescendant != higherDescendant:\n",
    "        lowerDescendant = lowerDescendant.ancestor\n",
    "        higherDescendant = higherDescendant.ancestor\n",
    "        \n",
    "    return lowerDescendant"
   ]
  }
 ],
 "metadata": {
  "kernelspec": {
   "display_name": "Python 3",
   "language": "python",
   "name": "python3"
  },
  "language_info": {
   "codemirror_mode": {
    "name": "ipython",
    "version": 3
   },
   "file_extension": ".py",
   "mimetype": "text/x-python",
   "name": "python",
   "nbconvert_exporter": "python",
   "pygments_lexer": "ipython3",
   "version": "3.8.3"
  }
 },
 "nbformat": 4,
 "nbformat_minor": 4
}
