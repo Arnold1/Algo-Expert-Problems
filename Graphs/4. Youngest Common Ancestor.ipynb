{
 "cells": [
  {
   "cell_type": "markdown",
   "metadata": {},
   "source": [
    "# Given a family tree, find the youngest common ancestor of two given nodes(descendants) in the tree. The youngest common ancestor is defined between two nodes p and q as the lowest node in the tree that has both p and q as descendants (where we allow a node to be a descendant of itself). All nodes have an ancestor property which gives its immediate ancestor."
   ]
  },
  {
   "cell_type": "code",
   "execution_count": 1,
   "metadata": {},
   "outputs": [],
   "source": [
    "class Ancestor:\n",
    "    def __init__(self, name, ancestor = None):\n",
    "        self.name = name\n",
    "        self.ancestor = ancestor"
   ]
  },
  {
   "cell_type": "code",
   "execution_count": 2,
   "metadata": {},
   "outputs": [],
   "source": [
    "a = Ancestor('A')\n",
    "b = Ancestor('B', a)\n",
    "c = Ancestor('C', a)\n",
    "d = Ancestor('D', a)\n",
    "e = Ancestor('E', b)\n",
    "f = Ancestor('F', b)\n",
    "g = Ancestor('G', b)\n",
    "h = Ancestor('H', f)\n",
    "i = Ancestor('I', f)\n",
    "j = Ancestor('J', f)\n",
    "k = Ancestor('K', i)\n",
    "l = Ancestor('L', i)"
   ]
  },
  {
   "cell_type": "code",
   "execution_count": null,
   "metadata": {},
   "outputs": [],
   "source": [
    "\"\"\"\n",
    "            A\n",
    "        /   |   \\\n",
    "       B    C    D\n",
    "    /  |  \\\n",
    "   E   F   G\n",
    "     / | \\\n",
    "    H  I  J\n",
    "      / \\\n",
    "     K   L\n",
    "\"\"\""
   ]
  },
  {
   "cell_type": "code",
   "execution_count": 3,
   "metadata": {},
   "outputs": [],
   "source": [
    "# O(d)T / O(1)S - d is depth of the lowest descendant\n",
    "\n",
    "def getYoungestCommonAncestor(topAncestor, descendantOne, descendantTwo):\n",
    "    depthOne = getDescendantDepth(descendantOne, topAncestor)\n",
    "    depthTwo = getDescendantDepth(descendantTwo, topAncestor)\n",
    "    \n",
    "    if depthOne > depthTwo:\n",
    "        return backtrackAncestralTree(descendantOne, descendantTwo, depthOne - depthTwo)\n",
    "    else:\n",
    "        return backtrackAncestralTree(descendantTwo, descendantOne, depthTwo - depthOne)\n",
    "\n",
    "def getDescendantDepth(descendant, topAncestor):\n",
    "    depth = 0\n",
    "    \n",
    "    while descendant != topAncestor:\n",
    "        depth += 1\n",
    "        descendant = descendant.ancestor\n",
    "    \n",
    "    return depth\n",
    "\n",
    "def backtrackAncestralTree(lowerDescendant, higherDescendant, diff):\n",
    "    while diff > 0:\n",
    "        lowerDescendant = lowerDescendant.ancestor\n",
    "        diff -= 1\n",
    "    \n",
    "    while lowerDescendant != higherDescendant:\n",
    "        lowerDescendant = lowerDescendant.ancestor\n",
    "        higherDescendant = higherDescendant.ancestor\n",
    "        \n",
    "    return lowerDescendant"
   ]
  },
  {
   "cell_type": "code",
   "execution_count": 4,
   "metadata": {},
   "outputs": [
    {
     "data": {
      "text/plain": [
       "'B'"
      ]
     },
     "execution_count": 4,
     "metadata": {},
     "output_type": "execute_result"
    }
   ],
   "source": [
    "getYoungestCommonAncestor(a, g, k).name"
   ]
  },
  {
   "cell_type": "code",
   "execution_count": 5,
   "metadata": {},
   "outputs": [
    {
     "data": {
      "text/plain": [
       "'A'"
      ]
     },
     "execution_count": 5,
     "metadata": {},
     "output_type": "execute_result"
    }
   ],
   "source": [
    "getYoungestCommonAncestor(a, d, f).name"
   ]
  },
  {
   "cell_type": "code",
   "execution_count": null,
   "metadata": {},
   "outputs": [],
   "source": []
  }
 ],
 "metadata": {
  "kernelspec": {
   "display_name": "Python 3",
   "language": "python",
   "name": "python3"
  },
  "language_info": {
   "codemirror_mode": {
    "name": "ipython",
    "version": 3
   },
   "file_extension": ".py",
   "mimetype": "text/x-python",
   "name": "python",
   "nbconvert_exporter": "python",
   "pygments_lexer": "ipython3",
   "version": "3.8.3"
  }
 },
 "nbformat": 4,
 "nbformat_minor": 4
}
