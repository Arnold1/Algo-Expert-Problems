{
 "cells": [
  {
   "cell_type": "markdown",
   "metadata": {},
   "source": [
    "# Depth First Seach Algorithm"
   ]
  },
  {
   "cell_type": "code",
   "execution_count": 1,
   "metadata": {},
   "outputs": [],
   "source": [
    "class Node:\n",
    "    def __init__(self, name):\n",
    "        self.children = []\n",
    "        self.name = name\n",
    "    \n",
    "    def addChild(self, name):\n",
    "        self.children.append(Node(name))\n",
    "    \n",
    "    # O(v + e)T / O(v)S - v is vertex & e is edge in the graph\n",
    "    def depthFirstSearch(self, array):\n",
    "        array.append(self.name)\n",
    "        \n",
    "        for child in self.children:\n",
    "            child.depthFirstSearch(array)\n",
    "        \n",
    "        return array"
   ]
  },
  {
   "cell_type": "code",
   "execution_count": 2,
   "metadata": {},
   "outputs": [],
   "source": [
    "a = Node('A')\n",
    "a.addChild('B')\n",
    "a.addChild('G')\n",
    "a.addChild('H')\n",
    "a.children[0].addChild('C')\n",
    "a.children[0].addChild('D')\n",
    "a.children[0].children[1].addChild('E')\n",
    "a.children[0].children[1].addChild('F')\n",
    "a.children[2].addChild('I')\n",
    "a.children[2].addChild('K')\n",
    "a.children[2].children[0].addChild('J')"
   ]
  },
  {
   "cell_type": "code",
   "execution_count": null,
   "metadata": {},
   "outputs": [],
   "source": [
    "\"\"\"\n",
    "            A\n",
    "         /  |  \\\n",
    "        B   G   H\n",
    "      /  \\     /  \\\n",
    "     C   D    I    K\n",
    "        / \\    \\\n",
    "       E   F    J \n",
    "\"\"\""
   ]
  },
  {
   "cell_type": "code",
   "execution_count": 3,
   "metadata": {},
   "outputs": [
    {
     "data": {
      "text/plain": [
       "['A', 'B', 'C', 'D', 'E', 'F', 'G', 'H', 'I', 'J', 'K']"
      ]
     },
     "execution_count": 3,
     "metadata": {},
     "output_type": "execute_result"
    }
   ],
   "source": [
    "a.depthFirstSearch([])"
   ]
  },
  {
   "cell_type": "code",
   "execution_count": null,
   "metadata": {},
   "outputs": [],
   "source": []
  }
 ],
 "metadata": {
  "kernelspec": {
   "display_name": "Python 3",
   "language": "python",
   "name": "python3"
  },
  "language_info": {
   "codemirror_mode": {
    "name": "ipython",
    "version": 3
   },
   "file_extension": ".py",
   "mimetype": "text/x-python",
   "name": "python",
   "nbconvert_exporter": "python",
   "pygments_lexer": "ipython3",
   "version": "3.8.3"
  }
 },
 "nbformat": 4,
 "nbformat_minor": 4
}
