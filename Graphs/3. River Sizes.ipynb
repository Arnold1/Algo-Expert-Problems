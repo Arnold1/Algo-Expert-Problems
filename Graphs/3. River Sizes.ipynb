{
 "cells": [
  {
   "cell_type": "markdown",
   "metadata": {},
   "source": [
    "# You are given a two-dimensional array of potentially unequal height and width. It contains only 0s and 1s. This array represents a map: 0s are land, and 1s are water. A \"river\" on this map consists of any number of contiguous, adjacent water squares, where \"adjacent\" means \"above\", \"below\", \"to the left of\", or \"to the right of\" (that is, diagonal squares are not adjacent). Write a function which returns an array of the sizes of all rivers represented in the input matrix. Note that these sizes do not need to be in any particular order."
   ]
  },
  {
   "cell_type": "code",
   "execution_count": null,
   "metadata": {},
   "outputs": [],
   "source": [
    "\"\"\"\n",
    "Input:\n",
    "          [1, 0, 0, 1, 0],\n",
    "          [1, 0, 1, 0, 0],\n",
    "          [0, 0, 1, 0, 1],\n",
    "          [1, 0, 1, 0, 1],\n",
    "          [1, 0, 1, 1, 0]\n",
    "          \n",
    "Output:\n",
    "          [1, 2, 2, 2, 5]\n",
    "\n",
    "\"\"\""
   ]
  },
  {
   "cell_type": "code",
   "execution_count": 1,
   "metadata": {},
   "outputs": [],
   "source": [
    "# O(wh)T / O(wh)S"
    "def riverSizes(matrix):\n",
    "    sizes = []\n",
    "    visited = [[False for value in row] for row in matrix]\n",
    "    \n",
    "    for i in range(len(matrix)):\n",
    "        for j in range(len(matrix[i])):\n",
    "            if visited[i][j]:\n",
    "                continue\n",
    "            traverseNode(i, j, matrix, visited, sizes)\n",
    "        \n",
    "    return sizes\n",
    "\n",
    "def traverseNode(i, j, matrix, visited, sizes):\n",
    "    currentRiverSize = 0\n",
    "    nodesToExplore = [[i, j]]\n",
    "    \n",
    "    while len(nodesToExplore):\n",
    "        currentNode = nodesToExplore.pop()\n",
    "        i = currentNode[0]\n",
    "        j = currentNode[1]\n",
    "        \n",
    "        if visited[i][j]:\n",
    "            continue\n",
    "        \n",
    "        visited[i][j] = True\n",
    "        \n",
    "        if matrix[i][j] == 0:\n",
    "            continue\n",
    "            \n",
    "        currentRiverSize += 1\n",
    "        \n",
    "        unvisitedNeighbours = getUnvisitedNeighbours(i, j, matrix, visited)\n",
    "        \n",
    "        for neighbour in unvisitedNeighbours:\n",
    "            nodesToExplore.append(neighbour)\n",
    "    \n",
    "    if currentRiverSize > 0:\n",
    "        sizes.append(currentRiverSize)\n",
    "    \n",
    "def getUnvisitedNeighbours(i, j, matrix, visited):\n",
    "    unvisitedNeighbours = []\n",
    "    \n",
    "    if i > 0 and not visited[i - 1][j]:\n",
    "        unvisitedNeighbours.append([i - 1, j])\n",
    "        \n",
    "    if i < len(matrix) - 1 and not visited[i + 1][j]:\n",
    "        unvisitedNeighbours.append([i + 1, j])\n",
    "        \n",
    "    if j > 0 and not visited[i][j - 1]:\n",
    "        unvisitedNeighbours.append([i, j - 1])\n",
    "    \n",
    "    if j < len(matrix[0]) - 1 and not visited[i][j + 1]:\n",
    "        unvisitedNeighbours.append([i, j + 1])\n",
    "        \n",
    "    return unvisitedNeighbours"
   ]
  },
  {
   "cell_type": "code",
   "execution_count": 2,
   "metadata": {},
   "outputs": [],
   "source": [
    "matrix = [[1,0,0,1,0],[1,0,1,0,0],[0,0,1,0,1],[1,0,1,0,1],[1,0,1,1,0]]"
   ]
  },
  {
   "cell_type": "code",
   "execution_count": 3,
   "metadata": {},
   "outputs": [
    {
     "data": {
      "text/plain": [
       "[2, 1, 5, 2, 2]"
      ]
     },
     "execution_count": 3,
     "metadata": {},
     "output_type": "execute_result"
    }
   ],
   "source": [
    "riverSizes(matrix)"
   ]
  },
  {
   "cell_type": "code",
   "execution_count": null,
   "metadata": {},
   "outputs": [],
   "source": []
  }
 ],
 "metadata": {
  "kernelspec": {
   "display_name": "Python 3",
   "language": "python",
   "name": "python3"
  },
  "language_info": {
   "codemirror_mode": {
    "name": "ipython",
    "version": 3
   },
   "file_extension": ".py",
   "mimetype": "text/x-python",
   "name": "python",
   "nbconvert_exporter": "python",
   "pygments_lexer": "ipython3",
   "version": "3.8.3"
  }
 },
 "nbformat": 4,
 "nbformat_minor": 4
}
