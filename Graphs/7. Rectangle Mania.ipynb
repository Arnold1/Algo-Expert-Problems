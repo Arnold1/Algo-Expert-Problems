{
 "cells": [
  {
   "cell_type": "markdown",
   "metadata": {},
   "source": [
    "# Given a list of cartesian-coordinates i.e (x, y), find the number of rectangles formed by those coordinates. Note: Find rectangles whose sides are parallel to the x and y axis."
   ]
  },
  {
   "cell_type": "code",
   "execution_count": 1,
   "metadata": {},
   "outputs": [],
   "source": [
    "# O(n^2)T / O(n)S\n",
    "\n",
    "# Strategy - We take every coordinate as bottom-left(x1, y1) of a triangle and search for top-right(x2, y2) coordinate\n",
    "# Where x2 > x1 and y2 > y1\n",
    "# If we find top-right then mathematically top-left is (x1, y2) and bottom-right is (x2, y1)\n",
    "\n",
    "def rectangleMania(coords):\n",
    "    coordsTable = getCoordsTable(coords)\n",
    "    \n",
    "    return getRectangleCount(coords, coordsTable)\n",
    "\n",
    "def getCoordsTable(coords):\n",
    "    coordsTable = {}\n",
    "    \n",
    "    for coord in coords:\n",
    "        coordsTable[tuple(coord)] = True\n",
    "        \n",
    "    return coordsTable\n",
    "\n",
    "def getRectangleCount(coords, coordsTable):\n",
    "    rectangleCount = 0\n",
    "    \n",
    "    for x1, y1 in coords:\n",
    "        for x2, y2 in coords:\n",
    "            if not inTopRight([x1, y1], [x2, y2]):\n",
    "                continue\n",
    "            if (x1, y2) in coordsTable and (x2, y1) in coordsTable:\n",
    "                rectangleCount += 1\n",
    "    \n",
    "    return rectangleCount\n",
    "\n",
    "def inTopRight(coord1, coord2):\n",
    "    x1, y1 = coord1\n",
    "    x2, y2 = coord2\n",
    "    \n",
    "    return x2 > x1 and y2 > y1"
   ]
  },
  {
   "cell_type": "code",
   "execution_count": 2,
   "metadata": {},
   "outputs": [],
   "source": [
    "coords = [[0,1], [1,1], [2,1], [0,0], [1,0], [2,0]]"
   ]
  },
  {
   "cell_type": "code",
   "execution_count": null,
   "metadata": {},
   "outputs": [],
   "source": [
    "\"\"\"\n",
    "        |\n",
    "        |\n",
    "        |*(0,1)   *(1,1)    *(2,1)\n",
    "        |\n",
    "   _____|______________________\n",
    "        |*(0,0)   *(1,0)    *(2,0)\n",
    "        |\n",
    "        |\n",
    "        |\n",
    "        |\n",
    "        \n",
    "    Three rectangles form here:\n",
    "        First - (0,0),(0,1),(1,1),(1,0),(0,0)\n",
    "        Second - (1,0),(1,1),(2,1),(2,0),(1,0)\n",
    "        Third - (0,0),(0,1),(1,1),(2,1),(2,0),(1,0),(0,0)\n",
    "\"\"\""
   ]
  },
  {
   "cell_type": "code",
   "execution_count": 3,
   "metadata": {},
   "outputs": [
    {
     "data": {
      "text/plain": [
       "3"
      ]
     },
     "execution_count": 3,
     "metadata": {},
     "output_type": "execute_result"
    }
   ],
   "source": [
    "rectangleMania(coords)"
   ]
  },
  {
   "cell_type": "code",
   "execution_count": null,
   "metadata": {},
   "outputs": [],
   "source": []
  }
 ],
 "metadata": {
  "kernelspec": {
   "display_name": "Python 3",
   "language": "python",
   "name": "python3"
  },
  "language_info": {
   "codemirror_mode": {
    "name": "ipython",
    "version": 3
   },
   "file_extension": ".py",
   "mimetype": "text/x-python",
   "name": "python",
   "nbconvert_exporter": "python",
   "pygments_lexer": "ipython3",
   "version": "3.8.3"
  }
 },
 "nbformat": 4,
 "nbformat_minor": 4
}
