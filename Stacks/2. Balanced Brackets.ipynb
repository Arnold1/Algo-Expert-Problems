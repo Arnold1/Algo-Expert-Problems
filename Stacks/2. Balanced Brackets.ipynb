{
 "cells": [
  {
   "cell_type": "markdown",
   "metadata": {},
   "source": [
    "# Given a string containing just the characters '(', ')', '{', '}', '[', ']', determine if the input string is valid. Note: Open brackets must be closed by the same type of brackets. Open brackets must be closed in the correct order."
   ]
  },
  {
   "cell_type": "code",
   "execution_count": 1,
   "metadata": {},
   "outputs": [],
   "source": [
    "# O(n)T / O(n)S - n is length of the string\n",
    "\n",
    "def balancedBrackets(string):\n",
    "    openingBrackets = '({['\n",
    "    closingBrackets = ']})'\n",
    "    matchingBrackets = {')': '(', ']': '[', '}': '{'}\n",
    "    stack = []\n",
    "    \n",
    "    for char in string:\n",
    "        if char in openingBrackets:\n",
    "            stack.append(char)\n",
    "        elif char in closingBrackets:\n",
    "            if len(stack) == 0:\n",
    "                return False\n",
    "            \n",
    "            if stack[-1] == matchingBrackets[char]:\n",
    "                stack.pop()\n",
    "            else:\n",
    "                return False\n",
    "            \n",
    "    return len(stack) == 0"
   ]
  },
  {
   "cell_type": "code",
   "execution_count": 2,
   "metadata": {},
   "outputs": [
    {
     "data": {
      "text/plain": [
       "True"
      ]
     },
     "execution_count": 2,
     "metadata": {},
     "output_type": "execute_result"
    }
   ],
   "source": [
    "string = '(([]()()){})'\n",
    "\n",
    "balancedBrackets(string)"
   ]
  },
  {
   "cell_type": "code",
   "execution_count": 3,
   "metadata": {},
   "outputs": [
    {
     "data": {
      "text/plain": [
       "False"
      ]
     },
     "execution_count": 3,
     "metadata": {},
     "output_type": "execute_result"
    }
   ],
   "source": [
    "string = '){{[]}}'\n",
    "\n",
    "balancedBrackets(string)"
   ]
  },
  {
   "cell_type": "code",
   "execution_count": null,
   "metadata": {},
   "outputs": [],
   "source": []
  }
 ],
 "metadata": {
  "kernelspec": {
   "display_name": "Python 3",
   "language": "python",
   "name": "python3"
  },
  "language_info": {
   "codemirror_mode": {
    "name": "ipython",
    "version": 3
   },
   "file_extension": ".py",
   "mimetype": "text/x-python",
   "name": "python",
   "nbconvert_exporter": "python",
   "pygments_lexer": "ipython3",
   "version": "3.8.3"
  }
 },
 "nbformat": 4,
 "nbformat_minor": 4
}
