{
 "cells": [
  {
   "cell_type": "markdown",
   "metadata": {},
   "source": [
    "# Given a non empty string which is a valid unix shell path, return a shortened version of the path."
   ]
  },
  {
   "cell_type": "code",
   "execution_count": 1,
   "metadata": {},
   "outputs": [],
   "source": [
    "# O(n)T / O(n)S\n",
    "\n",
    "def shortenPath(path):\n",
    "    startsWithSlash = path[0] == '/'\n",
    "    tokens = filter(isImportantToken, path.split('/'))\n",
    "    stack = []\n",
    "    \n",
    "    if startsWithSlash:\n",
    "        stack.append('')\n",
    "        \n",
    "    for token in tokens:\n",
    "        if token == '..':\n",
    "            if len(stack) == 0 or stack[-1] == '..':\n",
    "                stack.append(token)\n",
    "            elif stack[-1] != '':\n",
    "                stack.pop()\n",
    "        else:\n",
    "            stack.append(token)\n",
    "            \n",
    "    if len(stack) == 1 and stack[0] == '':\n",
    "        return '/'\n",
    "    \n",
    "    return '/'.join(stack)\n",
    "\n",
    "def isImportantToken(token):\n",
    "    return len(token) > 0 and token != '.'"
   ]
  },
  {
   "cell_type": "code",
   "execution_count": 2,
   "metadata": {},
   "outputs": [
    {
     "data": {
      "text/plain": [
       "'/foo/bar/baz'"
      ]
     },
     "execution_count": 2,
     "metadata": {},
     "output_type": "execute_result"
    }
   ],
   "source": [
    "string = '/foo/../test/../test/../foo//bar/./baz'\n",
    "\n",
    "shortenPath(string)"
   ]
  },
  {
   "cell_type": "code",
   "execution_count": null,
   "metadata": {},
   "outputs": [],
   "source": []
  }
 ],
 "metadata": {
  "kernelspec": {
   "display_name": "Python 3",
   "language": "python",
   "name": "python3"
  },
  "language_info": {
   "codemirror_mode": {
    "name": "ipython",
    "version": 3
   },
   "file_extension": ".py",
   "mimetype": "text/x-python",
   "name": "python",
   "nbconvert_exporter": "python",
   "pygments_lexer": "ipython3",
   "version": "3.8.3"
  }
 },
 "nbformat": 4,
 "nbformat_minor": 4
}
