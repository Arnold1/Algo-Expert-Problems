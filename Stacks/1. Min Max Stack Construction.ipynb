{
 "cells": [
  {
   "cell_type": "markdown",
   "metadata": {},
   "source": [
    "# Construct a min max stack where the peek, push, pop, get min value & get max value at any given time are constant time operations."
   ]
  },
  {
   "cell_type": "code",
   "execution_count": 1,
   "metadata": {},
   "outputs": [],
   "source": [
    "class MinMaxStack:\n",
    "    def __init__(self):\n",
    "        self.minMaxStack = []\n",
    "        self.stack = []\n",
    "    \n",
    "    # O(1)T / O(1)S\n",
    "    def peek(self):\n",
    "        self.stack[len(self.stack) - 1]\n",
    "    \n",
    "    # O(1)T / O(1)S\n",
    "    def pop(self):\n",
    "        self.minMaxStack.pop()\n",
    "        \n",
    "        return self.stack.pop()\n",
    "    \n",
    "    # O(1)T / O(1)S\n",
    "    def push(self, number):\n",
    "        newMinMax = {'min': number, 'max': number}\n",
    "        \n",
    "        if len(self.minMaxStack):\n",
    "            lastMinMax = self.minMaxStack[len(self.minMaxStack) - 1]\n",
    "            newMinMax['min'] = min(lastMinMax['min'], number)\n",
    "            newMinMax['max'] = max(lastMinMax['max'], number)\n",
    "            \n",
    "        self.minMaxStack.append(newMinMax)\n",
    "        self.stack.append(number)\n",
    "        \n",
    "    # O(1)T / O(1)S\n",
    "    def getMin(self):\n",
    "        return self.minMaxStack[len(self.minMaxStack) - 1]['min']\n",
    "    \n",
    "    # O(1)T / O(1)S\n",
    "    def getMax(self):\n",
    "        return self.minMaxStack[len(self.minMaxStack) - 1]['max']"
   ]
  },
  {
   "cell_type": "code",
   "execution_count": 2,
   "metadata": {},
   "outputs": [],
   "source": [
    "a = MinMaxStack()"
   ]
  },
  {
   "cell_type": "code",
   "execution_count": 3,
   "metadata": {},
   "outputs": [],
   "source": [
    "a.push(5)"
   ]
  },
  {
   "cell_type": "code",
   "execution_count": 4,
   "metadata": {},
   "outputs": [],
   "source": [
    "a.push(7)"
   ]
  },
  {
   "cell_type": "code",
   "execution_count": 5,
   "metadata": {},
   "outputs": [
    {
     "data": {
      "text/plain": [
       "7"
      ]
     },
     "execution_count": 5,
     "metadata": {},
     "output_type": "execute_result"
    }
   ],
   "source": [
    "a.getMax()"
   ]
  },
  {
   "cell_type": "code",
   "execution_count": 6,
   "metadata": {},
   "outputs": [
    {
     "data": {
      "text/plain": [
       "5"
      ]
     },
     "execution_count": 6,
     "metadata": {},
     "output_type": "execute_result"
    }
   ],
   "source": [
    "a.getMin()"
   ]
  },
  {
   "cell_type": "code",
   "execution_count": 7,
   "metadata": {},
   "outputs": [],
   "source": [
    "a.push(2)"
   ]
  },
  {
   "cell_type": "code",
   "execution_count": 8,
   "metadata": {},
   "outputs": [],
   "source": [
    "a.push(1)"
   ]
  },
  {
   "cell_type": "code",
   "execution_count": 9,
   "metadata": {},
   "outputs": [
    {
     "data": {
      "text/plain": [
       "1"
      ]
     },
     "execution_count": 9,
     "metadata": {},
     "output_type": "execute_result"
    }
   ],
   "source": [
    "a.getMin()"
   ]
  },
  {
   "cell_type": "code",
   "execution_count": 10,
   "metadata": {},
   "outputs": [
    {
     "data": {
      "text/plain": [
       "1"
      ]
     },
     "execution_count": 10,
     "metadata": {},
     "output_type": "execute_result"
    }
   ],
   "source": [
    "a.pop()"
   ]
  },
  {
   "cell_type": "code",
   "execution_count": 11,
   "metadata": {},
   "outputs": [
    {
     "data": {
      "text/plain": [
       "2"
      ]
     },
     "execution_count": 11,
     "metadata": {},
     "output_type": "execute_result"
    }
   ],
   "source": [
    "a.getMin()"
   ]
  },
  {
   "cell_type": "code",
   "execution_count": null,
   "metadata": {},
   "outputs": [],
   "source": []
  }
 ],
 "metadata": {
  "kernelspec": {
   "display_name": "Python 3",
   "language": "python",
   "name": "python3"
  },
  "language_info": {
   "codemirror_mode": {
    "name": "ipython",
    "version": 3
   },
   "file_extension": ".py",
   "mimetype": "text/x-python",
   "name": "python",
   "nbconvert_exporter": "python",
   "pygments_lexer": "ipython3",
   "version": "3.8.3"
  }
 },
 "nbformat": 4,
 "nbformat_minor": 4
}
