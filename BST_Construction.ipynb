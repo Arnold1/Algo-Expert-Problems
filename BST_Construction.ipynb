{
 "cells": [
  {
   "cell_type": "markdown",
   "metadata": {},
   "source": [
    "# Construct a Binary Search Tree"
   ]
  },
  {
   "cell_type": "code",
   "execution_count": 1,
   "metadata": {},
   "outputs": [],
   "source": [
    "class BST:\n",
    "    \n",
    "    def __init__(self, value):\n",
    "        self.value = value\n",
    "        self.left = None\n",
    "        self.right = None\n",
    "    \n",
    "    \n",
    "    # Average: O(log(n))T / O(1)S\n",
    "    # Worst: O(n)T / O(1)S\n",
    "    def insert(self, value):\n",
    "        currentNode = self\n",
    "        \n",
    "        while True:\n",
    "            if value < currentNode.value:\n",
    "                if currentNode.left is None:\n",
    "                    currentNode.left = BST(value)\n",
    "                    break\n",
    "                else:\n",
    "                    currentNode = currentNode.left\n",
    "            else:\n",
    "                if currentNode.right is None:\n",
    "                    currentNode.right = BST(value)\n",
    "                    break\n",
    "                else:\n",
    "                    currentNode = currentNode.right\n",
    "        \n",
    "        return self # allow us to call insert function one after other during test\n",
    "    \n",
    "    \n",
    "    # Average: O(log(n))T / O(1)S\n",
    "    # Worst: O(n)T / O(1)S\n",
    "    def contains(self, value):\n",
    "        currentNode = self\n",
    "        \n",
    "        while currentNode is not None:\n",
    "            if value < currentNode.value:\n",
    "                currentNode = currentNode.left\n",
    "            elif value > currentNode.value:\n",
    "                currentNode = currentNode.right\n",
    "            else:\n",
    "                return True\n",
    "        \n",
    "        return False\n",
    "\n",
    "    \n",
    "    # Average: O(log(n))T / O(1)S\n",
    "    # Worst: O(n)T / O(1)S\n",
    "    def remove(self, value, parentNode = None):\n",
    "        currentNode = self\n",
    "        \n",
    "        while currentNode is not None:\n",
    "            if value < currentNode.value:\n",
    "                parentNode = currentNode\n",
    "                currentNode = currentNode.left\n",
    "            elif value > currentNode.value:\n",
    "                parentNode = currentNode \n",
    "                currentNode = currentNode.right\n",
    "            else:\n",
    "                if currentNode.left is not None and currentNode.right is not None:\n",
    "                    currentNode.value = currentNode.right.getMinValue()\n",
    "                    currentNode.right.remove(currentNode.value, currentNode)\n",
    "                elif parentNode is None:\n",
    "                    if currentNode.left is not None:\n",
    "                        currentNode.value = currentNode.left.value\n",
    "                        currentNode.right = currentNode.left.right\n",
    "                        currentNode.left = currentNode.left.left\n",
    "                    elif currentNode.right is not None:\n",
    "                        currentNode.value = currentNode.right.value\n",
    "                        currentNode.left = currentNode.right.left\n",
    "                        currentNode.right = currentNode.right.right\n",
    "                    else:\n",
    "                        currentNode.value = None\n",
    "                elif parentNode.left == currentNode:\n",
    "                    parentNode.left = currentNode.left if currentNode.left is not None else currentNode.right\n",
    "                elif parentNode.right == currentNode:\n",
    "                    parentNode.right = currentNode.left if currentNode.left is not None else currentNode.right\n",
    "                break\n",
    "        \n",
    "        return self\n",
    "    \n",
    "    def getMinValue(self):\n",
    "        currentNode = self\n",
    "        \n",
    "        while currentNode.left is not None:\n",
    "            currentNode = currentNode.left\n",
    "        \n",
    "        return currentNode.value"
   ]
  },
  {
   "cell_type": "code",
   "execution_count": 2,
   "metadata": {},
   "outputs": [],
   "source": [
    "a = BST(12)"
   ]
  },
  {
   "cell_type": "code",
   "execution_count": 3,
   "metadata": {},
   "outputs": [
    {
     "data": {
      "text/plain": [
       "<__main__.BST at 0x188e09160d0>"
      ]
     },
     "execution_count": 3,
     "metadata": {},
     "output_type": "execute_result"
    }
   ],
   "source": [
    "a.insert(5).insert(15).insert(2).insert(5).insert(1).insert(13).insert(22).insert(14)"
   ]
  },
  {
   "cell_type": "code",
   "execution_count": 4,
   "metadata": {},
   "outputs": [
    {
     "data": {
      "text/plain": [
       "False"
      ]
     },
     "execution_count": 4,
     "metadata": {},
     "output_type": "execute_result"
    }
   ],
   "source": [
    "a.contains(21)"
   ]
  },
  {
   "cell_type": "code",
   "execution_count": 5,
   "metadata": {},
   "outputs": [
    {
     "data": {
      "text/plain": [
       "True"
      ]
     },
     "execution_count": 5,
     "metadata": {},
     "output_type": "execute_result"
    }
   ],
   "source": [
    "a.contains(14)"
   ]
  },
  {
   "cell_type": "code",
   "execution_count": 6,
   "metadata": {},
   "outputs": [
    {
     "data": {
      "text/plain": [
       "True"
      ]
     },
     "execution_count": 6,
     "metadata": {},
     "output_type": "execute_result"
    }
   ],
   "source": [
    "a.contains(2)"
   ]
  },
  {
   "cell_type": "code",
   "execution_count": 7,
   "metadata": {},
   "outputs": [
    {
     "data": {
      "text/plain": [
       "<__main__.BST at 0x188e09160d0>"
      ]
     },
     "execution_count": 7,
     "metadata": {},
     "output_type": "execute_result"
    }
   ],
   "source": [
    "a.remove(1)"
   ]
  },
  {
   "cell_type": "code",
   "execution_count": 8,
   "metadata": {},
   "outputs": [
    {
     "data": {
      "text/plain": [
       "False"
      ]
     },
     "execution_count": 8,
     "metadata": {},
     "output_type": "execute_result"
    }
   ],
   "source": [
    "a.contains(1)"
   ]
  },
  {
   "cell_type": "code",
   "execution_count": 9,
   "metadata": {},
   "outputs": [
    {
     "data": {
      "text/plain": [
       "<__main__.BST at 0x188e09160d0>"
      ]
     },
     "execution_count": 9,
     "metadata": {},
     "output_type": "execute_result"
    }
   ],
   "source": [
    "a.remove(12)"
   ]
  },
  {
   "cell_type": "code",
   "execution_count": 10,
   "metadata": {},
   "outputs": [
    {
     "data": {
      "text/plain": [
       "False"
      ]
     },
     "execution_count": 10,
     "metadata": {},
     "output_type": "execute_result"
    }
   ],
   "source": [
    "a.contains(12) # removing root node"
   ]
  },
  {
   "cell_type": "code",
   "execution_count": 11,
   "metadata": {},
   "outputs": [
    {
     "data": {
      "text/plain": [
       "13"
      ]
     },
     "execution_count": 11,
     "metadata": {},
     "output_type": "execute_result"
    }
   ],
   "source": [
    "a.value # checking the new root node"
   ]
  },
  {
   "cell_type": "code",
   "execution_count": null,
   "metadata": {},
   "outputs": [],
   "source": []
  }
 ],
 "metadata": {
  "kernelspec": {
   "display_name": "Python 3",
   "language": "python",
   "name": "python3"
  },
  "language_info": {
   "codemirror_mode": {
    "name": "ipython",
    "version": 3
   },
   "file_extension": ".py",
   "mimetype": "text/x-python",
   "name": "python",
   "nbconvert_exporter": "python",
   "pygments_lexer": "ipython3",
   "version": "3.8.3"
  }
 },
 "nbformat": 4,
 "nbformat_minor": 4
}
