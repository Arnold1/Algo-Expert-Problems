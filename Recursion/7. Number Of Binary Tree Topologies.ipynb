{
 "cells": [
  {
   "cell_type": "markdown",
   "metadata": {},
   "source": [
    "# Given a non negative integer 'n', find how many binary tree topologies you can generate with 'n' nodes."
   ]
  },
  {
   "cell_type": "code",
   "execution_count": null,
   "metadata": {},
   "outputs": [],
   "source": [
    "\"\"\"\n",
    "Sample Input: 3\n",
    "Sample Output: 5\n",
    "Explanation:\n",
    "\n",
    "     1   1     1     1    1   \n",
    "    /   /     / \\     \\    \\\n",
    "   2   2     2   3     2    2\n",
    "  /     \\             /      \\\n",
    " 3       3           3        3\n",
    " \n",
    "\"\"\""
   ]
  },
  {
   "cell_type": "code",
   "execution_count": 1,
   "metadata": {},
   "outputs": [],
   "source": [
    "# Upper Bound: O((n*(2n)!/(n!(n+1)!)))T / O(n)S\n",
    "# Naive Solution.. must not use.. must be improved with caching\n",
    "\n",
    "def numberOfBinaryTreeTopologies_1(n):\n",
    "    if n == 0:\n",
    "        return 1\n",
    "    \n",
    "    numberOfTopologies = 0\n",
    "    \n",
    "    for leftTreeSize in range(n):\n",
    "        rightTreeSize = n - 1 - leftTreeSize\n",
    "        \n",
    "        numberOfLeftTrees = numberOfBinaryTreeTopologies_1(leftTreeSize)\n",
    "        numberOfRightTrees = numberOfBinaryTreeTopologies_1(rightTreeSize)\n",
    "        \n",
    "        numberOfTopologies += numberOfLeftTrees * numberOfRightTrees\n",
    "        \n",
    "    return numberOfTopologies"
   ]
  },
  {
   "cell_type": "code",
   "execution_count": 2,
   "metadata": {},
   "outputs": [
    {
     "data": {
      "text/plain": [
       "5"
      ]
     },
     "execution_count": 2,
     "metadata": {},
     "output_type": "execute_result"
    }
   ],
   "source": [
    "numberOfBinaryTreeTopologies_1(3)"
   ]
  },
  {
   "cell_type": "code",
   "execution_count": 3,
   "metadata": {},
   "outputs": [
    {
     "data": {
      "text/plain": [
       "16796"
      ]
     },
     "execution_count": 3,
     "metadata": {},
     "output_type": "execute_result"
    }
   ],
   "source": [
    "numberOfBinaryTreeTopologies_1(10)"
   ]
  },
  {
   "cell_type": "code",
   "execution_count": 4,
   "metadata": {},
   "outputs": [],
   "source": [
    "# Optimal Solution... O(n^2)T / O(n)S\n",
    "# Must use this, decreases time complexity drastically\n",
    "\n",
    "def numberOfBinaryTreeTopologies_2(n, cache = {0: 1}):   \n",
    "    if n in cache:\n",
    "        return cache[n]\n",
    "    \n",
    "    numberOfTopologies = 0\n",
    "    \n",
    "    for leftTreeSize in range(n):\n",
    "        rightTreeSize = n - 1 - leftTreeSize\n",
    "        \n",
    "        numberOfLeftTrees = numberOfBinaryTreeTopologies_2(leftTreeSize, cache)\n",
    "        numberOfRightTrees = numberOfBinaryTreeTopologies_2(rightTreeSize, cache)\n",
    "        \n",
    "        numberOfTopologies += numberOfLeftTrees * numberOfRightTrees\n",
    "        \n",
    "    cache[n] = numberOfTopologies\n",
    "        \n",
    "    return numberOfTopologies"
   ]
  },
  {
   "cell_type": "code",
   "execution_count": 5,
   "metadata": {},
   "outputs": [
    {
     "data": {
      "text/plain": [
       "5"
      ]
     },
     "execution_count": 5,
     "metadata": {},
     "output_type": "execute_result"
    }
   ],
   "source": [
    "numberOfBinaryTreeTopologies_2(3)"
   ]
  },
  {
   "cell_type": "code",
   "execution_count": 6,
   "metadata": {},
   "outputs": [
    {
     "data": {
      "text/plain": [
       "42"
      ]
     },
     "execution_count": 6,
     "metadata": {},
     "output_type": "execute_result"
    }
   ],
   "source": [
    "numberOfBinaryTreeTopologies_2(5)"
   ]
  },
  {
   "cell_type": "code",
   "execution_count": 7,
   "metadata": {},
   "outputs": [],
   "source": [
    "# Iterative Solution... O(n^2)T / O(n)S\n",
    "\n",
    "def numberOfBinaryTreeTopologies_3(n):\n",
    "    cache = [1]\n",
    "    \n",
    "    for m in range(1, n+1):\n",
    "        numberOfTopologies = 0\n",
    "        \n",
    "        for leftTreeSize in range(m):\n",
    "            rightTreeSize = m - 1 - leftTreeSize\n",
    "            \n",
    "            numberOfLeftTrees = cache[leftTreeSize]\n",
    "            numberOfRightTrees = cache[rightTreeSize]\n",
    "            \n",
    "            numberOfTopologies += numberOfLeftTrees * numberOfRightTrees\n",
    "            \n",
    "        cache.append(numberOfTopologies)\n",
    "        \n",
    "    return cache[n]"
   ]
  },
  {
   "cell_type": "code",
   "execution_count": 8,
   "metadata": {},
   "outputs": [
    {
     "data": {
      "text/plain": [
       "42"
      ]
     },
     "execution_count": 8,
     "metadata": {},
     "output_type": "execute_result"
    }
   ],
   "source": [
    "numberOfBinaryTreeTopologies_3(5)"
   ]
  },
  {
   "cell_type": "code",
   "execution_count": 9,
   "metadata": {},
   "outputs": [
    {
     "data": {
      "text/plain": [
       "16796"
      ]
     },
     "execution_count": 9,
     "metadata": {},
     "output_type": "execute_result"
    }
   ],
   "source": [
    "numberOfBinaryTreeTopologies_3(10)"
   ]
  },
  {
   "cell_type": "code",
   "execution_count": null,
   "metadata": {},
   "outputs": [],
   "source": []
  }
 ],
 "metadata": {
  "kernelspec": {
   "display_name": "Python 3",
   "language": "python",
   "name": "python3"
  },
  "language_info": {
   "codemirror_mode": {
    "name": "ipython",
    "version": 3
   },
   "file_extension": ".py",
   "mimetype": "text/x-python",
   "name": "python",
   "nbconvert_exporter": "python",
   "pygments_lexer": "ipython3",
   "version": "3.8.3"
  }
 },
 "nbformat": 4,
 "nbformat_minor": 4
}
