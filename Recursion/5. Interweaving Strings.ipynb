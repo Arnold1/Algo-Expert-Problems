{
 "cells": [
  {
   "cell_type": "markdown",
   "metadata": {},
   "source": [
    "# Given three strings A, B and C. Write a function that checks whether C is an interweaving of A and B. C is said to be interweaving A and B, if it contains all characters of A and B and order of all characters in individual strings is preserved."
   ]
  },
  {
   "cell_type": "code",
   "execution_count": 1,
   "metadata": {},
   "outputs": [],
   "source": [
    "# O(2^(n + m))T / O(n + m)S\n",
    "\n",
    "def interweavingStrings_1(one, two, three):\n",
    "    if len(three) != len(one) + len(two):\n",
    "        return False\n",
    "    \n",
    "    return areInterwoven_1(one, two, three, 0, 0)\n",
    "\n",
    "def areInterwoven_1(one, two, three, i, j):\n",
    "    k = i + j\n",
    "    \n",
    "    if k == len(three):\n",
    "        return True\n",
    "    \n",
    "    if i < len(one) and one[i] == three[k]:\n",
    "        if areInterwoven_1(one, two, three, i + 1, j):\n",
    "            return True\n",
    "        \n",
    "    if j < len(two) and two[j] == three[k]:\n",
    "        return areInterwoven_1(one, two, three, i, j + 1)\n",
    "    \n",
    "    return False"
   ]
  },
  {
   "cell_type": "code",
   "execution_count": 2,
   "metadata": {},
   "outputs": [
    {
     "data": {
      "text/plain": [
       "True"
      ]
     },
     "execution_count": 2,
     "metadata": {},
     "output_type": "execute_result"
    }
   ],
   "source": [
    "interweavingStrings_1('aaa', 'aaaf', 'aaafaaa')"
   ]
  },
  {
   "cell_type": "code",
   "execution_count": 3,
   "metadata": {},
   "outputs": [],
   "source": [
    "# Using memoization.. O(nm)T / O(nm)S\n",
    "\n",
    "def interweavingStrings_2(one, two, three):\n",
    "    if len(three) != len(one) + len(two):\n",
    "        return False\n",
    "    \n",
    "    cache = [[None for j in range(len(two) + 1)] for i in range(len(one) + 1)]\n",
    "    \n",
    "    return areInterwoven_2(one, two, three, 0, 0, cache)\n",
    "\n",
    "def areInterwoven_2(one, two, three, i, j, cache):\n",
    "    if cache[i][j] is not None:\n",
    "        return cache[i][j]\n",
    "    \n",
    "    k = i + j\n",
    "    \n",
    "    if k == len(three):\n",
    "        return True\n",
    "    \n",
    "    if i < len(one) and one[i] == three[k]:\n",
    "        cache[i][j] = areInterwoven_2(one, two, three, i + 1, j, cache)\n",
    "        \n",
    "        if cache[i][j]:\n",
    "            return True\n",
    "        \n",
    "    if j < len(two) and two[j] == three[k]:\n",
    "        cache[i][j] = areInterwoven_2(one, two, three, i, j + 1, cache)\n",
    "        \n",
    "        return cache[i][j]\n",
    "    \n",
    "    cache[i][j] = False\n",
    "    \n",
    "    return False"
   ]
  },
  {
   "cell_type": "code",
   "execution_count": 4,
   "metadata": {},
   "outputs": [
    {
     "data": {
      "text/plain": [
       "True"
      ]
     },
     "execution_count": 4,
     "metadata": {},
     "output_type": "execute_result"
    }
   ],
   "source": [
    "interweavingStrings_2('aaa', 'aaaf', 'aaafaaa')"
   ]
  },
  {
   "cell_type": "code",
   "execution_count": null,
   "metadata": {},
   "outputs": [],
   "source": []
  }
 ],
 "metadata": {
  "kernelspec": {
   "display_name": "Python 3",
   "language": "python",
   "name": "python3"
  },
  "language_info": {
   "codemirror_mode": {
    "name": "ipython",
    "version": 3
   },
   "file_extension": ".py",
   "mimetype": "text/x-python",
   "name": "python",
   "nbconvert_exporter": "python",
   "pygments_lexer": "ipython3",
   "version": "3.8.3"
  }
 },
 "nbformat": 4,
 "nbformat_minor": 4
}
