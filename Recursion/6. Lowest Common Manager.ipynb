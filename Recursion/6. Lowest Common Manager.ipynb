{
 "cells": [
  {
   "cell_type": "markdown",
   "metadata": {},
   "source": [
    "# You are given three inputs, first one is the top manager of an organizational chain, other two inputs are two employees in that organizational chain. Find the lowest common manager to these two employees.\n",
    "\n",
    "# The inputs are instances of a class that have a property called directReports which is a list of employees that directly report to that person."
   ]
  },
  {
   "cell_type": "code",
   "execution_count": null,
   "metadata": {},
   "outputs": [],
   "source": [
    "# O(n)T / O(d)S\n",
    "\n",
    "def getLowestCommonManager(topManager, reportOne, reportTwo):\n",
    "    return getOrgInfo(topManager, reportOne, reportTwo).lowestCommonManager\n",
    "\n",
    "def getOrgInfo(manager, reportOne, reportTwo):\n",
    "    numImportantReports = 0\n",
    "    for directReport in manager.directReports:\n",
    "        orgInfo = getOrgInfo(directReport, reportOne, reportTwo)\n",
    "        \n",
    "        if orgInfo.lowestCommonManager is not None:\n",
    "            return orgInfo\n",
    "        \n",
    "        numImportantReports += orgInfo.numImportantReports\n",
    "    \n",
    "    if manager == reportOne or manager == reportTwo:\n",
    "        numImportantReports += 1\n",
    "    \n",
    "    lowestCommonManager = manager if numImportantReports == 2 else None\n",
    "    \n",
    "    return OrgInfo(lowestCommonManager, numImportantReports)\n",
    "            \n",
    "\n",
    "class OrgInfo:\n",
    "    def __init__(self, lowestCommonManager, numImportantReports):\n",
    "        self.lowestCommonManager = lowestCommonManager\n",
    "        self.numImportantReports = numImportantReports"
   ]
  },
  {
   "cell_type": "code",
   "execution_count": null,
   "metadata": {},
   "outputs": [],
   "source": []
  }
 ],
 "metadata": {
  "kernelspec": {
   "display_name": "Python 3",
   "language": "python",
   "name": "python3"
  },
  "language_info": {
   "codemirror_mode": {
    "name": "ipython",
    "version": 3
   },
   "file_extension": ".py",
   "mimetype": "text/x-python",
   "name": "python",
   "nbconvert_exporter": "python",
   "pygments_lexer": "ipython3",
   "version": "3.8.3"
  }
 },
 "nbformat": 4,
 "nbformat_minor": 4
}
