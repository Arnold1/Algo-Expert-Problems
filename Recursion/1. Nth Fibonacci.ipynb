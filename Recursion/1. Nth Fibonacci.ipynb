{
 "cells": [
  {
   "cell_type": "markdown",
   "metadata": {},
   "source": [
    "# Find the n'th number in the Fibonacci series starting with 0."
   ]
  },
  {
   "cell_type": "code",
   "execution_count": null,
   "metadata": {},
   "outputs": [],
   "source": [
    "\"\"\"\n",
    "    0,1,1,2,3,5,8,13,21,34...\n",
    "\"\"\""
   ]
  },
  {
   "cell_type": "code",
   "execution_count": 1,
   "metadata": {},
   "outputs": [],
   "source": [
    "# Naive Recursive sol... O(2^n)T / O(n)S\n",
    "\n",
    "def getNthFib_1(n):\n",
    "    if n == 2:\n",
    "        return 1\n",
    "    elif n == 1:\n",
    "        return 0\n",
    "    else:\n",
    "        return getNthFib_1(n - 1) + getNthFib_1(n - 2)"
   ]
  },
  {
   "cell_type": "code",
   "execution_count": null,
   "metadata": {},
   "outputs": [],
   "source": [
    "\"\"\"\n",
    "                               fib(6)\n",
    "                               3+2=5\n",
    "                             /        \\  \n",
    "                       fib(5)          fib(4)\n",
    "                       2+1=3                1+1=2\n",
    "                    /       \\             /          \\   \n",
    "               fib(4)       fib(3)       fib(3)       fib(2)\n",
    "             1+1=2          1+0=1        1+0=1          1\n",
    "       /         \\        /       \\      /       \\\n",
    "    fib(3)   fib(2)    fib(2)   fib(1)  fib(2)   fib(1)\n",
    "    1+0=1       1         1       0         1        0\n",
    "    /   \\\n",
    "fib(2) fib(1)\n",
    "   1      0\n",
    "\n",
    "\"\"\""
   ]
  },
  {
   "cell_type": "code",
   "execution_count": 2,
   "metadata": {},
   "outputs": [
    {
     "data": {
      "text/plain": [
       "5"
      ]
     },
     "execution_count": 2,
     "metadata": {},
     "output_type": "execute_result"
    }
   ],
   "source": [
    "getNthFib_1(6)"
   ]
  },
  {
   "cell_type": "code",
   "execution_count": 3,
   "metadata": {},
   "outputs": [],
   "source": [
    "# Recursive sol using Memoization... O(n)T / O(n)S\n",
    "\n",
    "def nthFib_2(n, memoize = {1:0, 2:1}):\n",
    "    if n in memoize:\n",
    "        return memoize[n]\n",
    "    else:\n",
    "        memoize[n] = nthFib_2(n - 1, memoize) + nthFib_2(n - 2, memoize)\n",
    "        return memoize[n]"
   ]
  },
  {
   "cell_type": "code",
   "execution_count": 4,
   "metadata": {},
   "outputs": [
    {
     "data": {
      "text/plain": [
       "8"
      ]
     },
     "execution_count": 4,
     "metadata": {},
     "output_type": "execute_result"
    }
   ],
   "source": [
    "nthFib_2(7)"
   ]
  },
  {
   "cell_type": "code",
   "execution_count": 5,
   "metadata": {},
   "outputs": [],
   "source": [
    "# Iterative sol... O(n)T / O(1)S\n",
    "\n",
    "def nthFib_3(n):\n",
    "    lastTwo = [0, 1]\n",
    "    counter = 3\n",
    "    \n",
    "    while counter <= n:\n",
    "        nextNum = lastTwo[0] + lastTwo[1]\n",
    "        lastTwo[0] = lastTwo[1]\n",
    "        lastTwo[1] = nextNum\n",
    "        counter += 1\n",
    "    \n",
    "    return lastTwo[1] if n > 1 else lastTwo[0]"
   ]
  },
  {
   "cell_type": "code",
   "execution_count": 6,
   "metadata": {},
   "outputs": [
    {
     "data": {
      "text/plain": [
       "13"
      ]
     },
     "execution_count": 6,
     "metadata": {},
     "output_type": "execute_result"
    }
   ],
   "source": [
    "nthFib_3(8)"
   ]
  },
  {
   "cell_type": "code",
   "execution_count": null,
   "metadata": {},
   "outputs": [],
   "source": []
  }
 ],
 "metadata": {
  "kernelspec": {
   "display_name": "Python 3",
   "language": "python",
   "name": "python3"
  },
  "language_info": {
   "codemirror_mode": {
    "name": "ipython",
    "version": 3
   },
   "file_extension": ".py",
   "mimetype": "text/x-python",
   "name": "python",
   "nbconvert_exporter": "python",
   "pygments_lexer": "ipython3",
   "version": "3.8.3"
  }
 },
 "nbformat": 4,
 "nbformat_minor": 4
}
