{
 "cells": [
  {
   "cell_type": "markdown",
   "metadata": {},
   "source": [
    "# Given an array of unique integers, write a function that returns all of the permutations of these integers."
   ]
  },
  {
   "cell_type": "code",
   "execution_count": 1,
   "metadata": {},
   "outputs": [],
   "source": [
    "# O(n^2 * n!)T / O(n * n!)S\n",
    "\n",
    "def getPermutations_1(array):\n",
    "    permutations = []\n",
    "    \n",
    "    permutationsHelper(array, [], permutations)\n",
    "    \n",
    "    return permutations\n",
    "    \n",
    "def permutationsHelper(array, currentPermutation, permutations):\n",
    "    if not len(array) and len(currentPermutation):\n",
    "        permutations.append(currentPermutation)\n",
    "    else:\n",
    "        for i in range(len(array)):\n",
    "            newArray = array[:i] + array[i+1:]\n",
    "            print('newArray:',newArray) # for understanding\n",
    "            \n",
    "            newPermutation = currentPermutation + [array[i]]\n",
    "            print('newPermutation:',newPermutation) # for understanding\n",
    "            \n",
    "            permutationsHelper(newArray, newPermutation, permutations)"
   ]
  },
  {
   "cell_type": "code",
   "execution_count": 2,
   "metadata": {},
   "outputs": [
    {
     "name": "stdout",
     "output_type": "stream",
     "text": [
      "newArray: [2, 3]\n",
      "newPermutation: [1]\n",
      "newArray: [3]\n",
      "newPermutation: [1, 2]\n",
      "newArray: []\n",
      "newPermutation: [1, 2, 3]\n",
      "newArray: [2]\n",
      "newPermutation: [1, 3]\n",
      "newArray: []\n",
      "newPermutation: [1, 3, 2]\n",
      "newArray: [1, 3]\n",
      "newPermutation: [2]\n",
      "newArray: [3]\n",
      "newPermutation: [2, 1]\n",
      "newArray: []\n",
      "newPermutation: [2, 1, 3]\n",
      "newArray: [1]\n",
      "newPermutation: [2, 3]\n",
      "newArray: []\n",
      "newPermutation: [2, 3, 1]\n",
      "newArray: [1, 2]\n",
      "newPermutation: [3]\n",
      "newArray: [2]\n",
      "newPermutation: [3, 1]\n",
      "newArray: []\n",
      "newPermutation: [3, 1, 2]\n",
      "newArray: [1]\n",
      "newPermutation: [3, 2]\n",
      "newArray: []\n",
      "newPermutation: [3, 2, 1]\n"
     ]
    },
    {
     "data": {
      "text/plain": [
       "[[1, 2, 3], [1, 3, 2], [2, 1, 3], [2, 3, 1], [3, 1, 2], [3, 2, 1]]"
      ]
     },
     "execution_count": 2,
     "metadata": {},
     "output_type": "execute_result"
    }
   ],
   "source": [
    "getPermutations_1([1,2,3])"
   ]
  },
  {
   "cell_type": "code",
   "execution_count": 3,
   "metadata": {},
   "outputs": [],
   "source": [
    "# O(n * n!)T / O(n * n!)S\n",
    "\n",
    "def getPermutations_2(array):\n",
    "    permutations = []\n",
    "    \n",
    "    permutationsHelper(0, array, permutations)\n",
    "    \n",
    "    return permutations\n",
    "\n",
    "def permutationsHelper(i, array, permutations):\n",
    "    if i == len(array) - 1:\n",
    "        permutations.append(array[:])\n",
    "    else:\n",
    "        for j in range(i, len(array)):\n",
    "            swap(array, i, j)\n",
    "            permutationsHelper(i + 1, array, permutations)\n",
    "            swap(array, i, j)\n",
    "            \n",
    "def swap(array, i, j):\n",
    "    array[i], array[j] = array[j], array[i]"
   ]
  },
  {
   "cell_type": "code",
   "execution_count": 4,
   "metadata": {},
   "outputs": [
    {
     "data": {
      "text/plain": [
       "[[1, 2, 3], [1, 3, 2], [2, 1, 3], [2, 3, 1], [3, 2, 1], [3, 1, 2]]"
      ]
     },
     "execution_count": 4,
     "metadata": {},
     "output_type": "execute_result"
    }
   ],
   "source": [
    "getPermutations_2([1,2,3])"
   ]
  },
  {
   "cell_type": "code",
   "execution_count": null,
   "metadata": {},
   "outputs": [],
   "source": []
  }
 ],
 "metadata": {
  "kernelspec": {
   "display_name": "Python 3",
   "language": "python",
   "name": "python3"
  },
  "language_info": {
   "codemirror_mode": {
    "name": "ipython",
    "version": 3
   },
   "file_extension": ".py",
   "mimetype": "text/x-python",
   "name": "python",
   "nbconvert_exporter": "python",
   "pygments_lexer": "ipython3",
   "version": "3.8.3"
  }
 },
 "nbformat": 4,
 "nbformat_minor": 4
}
