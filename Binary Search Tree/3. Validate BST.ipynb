{
 "cells": [
  {
   "cell_type": "markdown",
   "metadata": {},
   "source": [
    "# Given a binary tree, validate if it's a BST."
   ]
  },
  {
   "cell_type": "code",
   "execution_count": 1,
   "metadata": {},
   "outputs": [],
   "source": [
    "class BST:\n",
    "    \n",
    "    def __init__(self, value):\n",
    "        self.value = value\n",
    "        self.left = None\n",
    "        self.right = None\n",
    "    \n",
    "    def insert(self, value):\n",
    "        currentNode = self\n",
    "        \n",
    "        while True:\n",
    "            if value < currentNode.value:\n",
    "                if currentNode.left is None:\n",
    "                    currentNode.left = BST(value)\n",
    "                    break\n",
    "                else:\n",
    "                    currentNode = currentNode.left\n",
    "            else:\n",
    "                if currentNode.right is None:\n",
    "                    currentNode.right = BST(value)\n",
    "                    break\n",
    "                else:\n",
    "                    currentNode = currentNode.right\n",
    "        \n",
    "        return self"
   ]
  },
  {
   "cell_type": "code",
   "execution_count": 2,
   "metadata": {},
   "outputs": [],
   "source": [
    "a = BST(10)"
   ]
  },
  {
   "cell_type": "code",
   "execution_count": 3,
   "metadata": {},
   "outputs": [
    {
     "data": {
      "text/plain": [
       "<__main__.BST at 0x28840325d30>"
      ]
     },
     "execution_count": 3,
     "metadata": {},
     "output_type": "execute_result"
    }
   ],
   "source": [
    "a.insert(5).insert(5).insert(2).insert(15).insert(22).insert(1).insert(13).insert(14)"
   ]
  },
  {
   "cell_type": "code",
   "execution_count": null,
   "metadata": {},
   "outputs": [],
   "source": [
    "\"\"\"\n",
    "       10\n",
    "      /  \\\n",
    "     5    15\n",
    "    / \\  /  \\\n",
    "   2   5 13  22\n",
    "  /       \\\n",
    " 1        14 \n",
    " \n",
    "\"\"\""
   ]
  },
  {
   "cell_type": "code",
   "execution_count": 4,
   "metadata": {},
   "outputs": [],
   "source": [
    "# O(n)T / O(d)S... d is depth of the tree.\n",
    "\n",
    "def validateBST(tree):\n",
    "    return helper(tree, float('-inf'), float('inf'))\n",
    "\n",
    "def helper(tree, minValue, maxValue):\n",
    "    if tree is None:\n",
    "        return True\n",
    "    \n",
    "    if tree.value < minValue or tree.value >= maxValue:\n",
    "        return False\n",
    "    \n",
    "    leftIsValid = helper(tree.left, minValue, tree.value)\n",
    "    \n",
    "    return leftIsValid and helper(tree.right, tree.value, maxValue)"
   ]
  },
  {
   "cell_type": "code",
   "execution_count": 5,
   "metadata": {},
   "outputs": [
    {
     "data": {
      "text/plain": [
       "True"
      ]
     },
     "execution_count": 5,
     "metadata": {},
     "output_type": "execute_result"
    }
   ],
   "source": [
    "validateBST(a)"
   ]
  },
  {
   "cell_type": "code",
   "execution_count": null,
   "metadata": {},
   "outputs": [],
   "source": []
  }
 ],
 "metadata": {
  "kernelspec": {
   "display_name": "Python 3",
   "language": "python",
   "name": "python3"
  },
  "language_info": {
   "codemirror_mode": {
    "name": "ipython",
    "version": 3
   },
   "file_extension": ".py",
   "mimetype": "text/x-python",
   "name": "python",
   "nbconvert_exporter": "python",
   "pygments_lexer": "ipython3",
   "version": "3.8.3"
  }
 },
 "nbformat": 4,
 "nbformat_minor": 4
}
