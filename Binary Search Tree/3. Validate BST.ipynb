{
 "cells": [
  {
   "cell_type": "markdown",
   "metadata": {},
   "source": [
    "# Given a binary tree, validate if it's a BST."
   ]
  },
  {
   "cell_type": "code",
   "execution_count": 1,
   "metadata": {},
   "outputs": [],
   "source": [
    "# O(n)T / O(d)S... d is depth of the tree.\n",
    "\n",
    "def validateBST(tree):\n",
    "    return helper(tree, float('-inf'), float('inf'))\n",
    "\n",
    "def helper(tree, minValue, maxValue):\n",
    "    if tree is None:\n",
    "        return True\n",
    "    \n",
    "    if tree.value < minValue or tree.value >= maxValue:\n",
    "        return False\n",
    "    \n",
    "    leftIsValid = helper(tree.left, minValue, tree.value)\n",
    "    \n",
    "    return leftIsValid and helper(tree.right, tree.value, maxValue)"
   ]
  },
  {
   "cell_type": "code",
   "execution_count": null,
   "metadata": {},
   "outputs": [],
   "source": []
  }
 ],
 "metadata": {
  "kernelspec": {
   "display_name": "Python 3",
   "language": "python",
   "name": "python3"
  },
  "language_info": {
   "codemirror_mode": {
    "name": "ipython",
    "version": 3
   },
   "file_extension": ".py",
   "mimetype": "text/x-python",
   "name": "python",
   "nbconvert_exporter": "python",
   "pygments_lexer": "ipython3",
   "version": "3.8.3"
  }
 },
 "nbformat": 4,
 "nbformat_minor": 4
}
