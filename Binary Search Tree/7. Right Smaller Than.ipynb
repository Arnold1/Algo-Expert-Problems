{
 "cells": [
  {
   "cell_type": "markdown",
   "metadata": {},
   "source": [
    "# Given an unsorted array arr[] of distinct integers, construct another array such that it contains count of smaller elements on right side of each element arr[i] in array."
   ]
  },
  {
   "cell_type": "code",
   "execution_count": 1,
   "metadata": {},
   "outputs": [],
   "source": [
    "# Naive sol... O(n^2)T / O(n)S\n",
    " \n",
    "def rightSmallerThan_1(array):\n",
    "    rightSmallerCounts = []\n",
    "    \n",
    "    for i in range(len(array)):\n",
    "        rightSmallerCount = 0\n",
    "        \n",
    "        for j in range(i+1, len(array)):\n",
    "            if array[j] < array[i]:\n",
    "                rightSmallerCount += 1\n",
    "        \n",
    "        rightSmallerCounts.append(rightSmallerCount)\n",
    "    \n",
    "    return rightSmallerCounts"
   ]
  },
  {
   "cell_type": "code",
   "execution_count": 2,
   "metadata": {},
   "outputs": [],
   "source": [
    "array = [8,5,11,-1,3,4,2]"
   ]
  },
  {
   "cell_type": "code",
   "execution_count": 3,
   "metadata": {},
   "outputs": [
    {
     "data": {
      "text/plain": [
       "[5, 4, 4, 0, 1, 1, 0]"
      ]
     },
     "execution_count": 3,
     "metadata": {},
     "output_type": "execute_result"
    }
   ],
   "source": [
    "rightSmallerThan_1(array)"
   ]
  },
  {
   "cell_type": "code",
   "execution_count": 4,
   "metadata": {},
   "outputs": [],
   "source": [
    "# Optimal sol... O(nlog(n))T / O(n)S\n",
    "\n",
    "def rightSmallerThan_2(array):\n",
    "    if len(array) == 0:\n",
    "        return []\n",
    "    \n",
    "    lastIdx = len(array) - 1\n",
    "    bst = SpecialBST(array[lastIdx], lastIdx, 0)\n",
    "    \n",
    "    for i in reversed(range(len(array) - 1)):\n",
    "        bst.insert(array[i], i)\n",
    "        \n",
    "    rightSmallerCounts = array[:]\n",
    "    \n",
    "    getRightSmallerCounts(bst, rightSmallerCounts)\n",
    "    \n",
    "    return rightSmallerCounts\n",
    "\n",
    "def getRightSmallerCounts(bst, rightSmallerCounts):\n",
    "    if bst is None:\n",
    "        return \n",
    "    \n",
    "    rightSmallerCounts[bst.idx] = bst.numSmallerAtInsertTime\n",
    "    \n",
    "    getRightSmallerCounts(bst.left, rightSmallerCounts)\n",
    "    getRightSmallerCounts(bst.right, rightSmallerCounts)\n",
    "    \n",
    "class SpecialBST:\n",
    "    def __init__(self, value, idx, numSmallerAtInsertTime):\n",
    "        self.value = value\n",
    "        self.idx = idx\n",
    "        self.numSmallerAtInsertTime = numSmallerAtInsertTime\n",
    "        self.leftSubtreeSize = 0\n",
    "        self.left = None\n",
    "        self.right = None\n",
    "        \n",
    "    def insert(self, value, idx, numSmallerAtInsertTime = 0):\n",
    "        if value < self.value:\n",
    "            self.leftSubtreeSize += 1\n",
    "            if self.left is None:\n",
    "                self.left = SpecialBST(value, idx, numSmallerAtInsertTime)\n",
    "            else:\n",
    "                self.left.insert(value, idx, numSmallerAtInsertTime)\n",
    "        else:\n",
    "            numSmallerAtInsertTime += self.leftSubtreeSize\n",
    "            if value > self.value:\n",
    "                numSmallerAtInsertTime += 1\n",
    "            if self.right is None:\n",
    "                self.right = SpecialBST(value, idx, numSmallerAtInsertTime)\n",
    "            else:\n",
    "                self.right.insert(value, idx, numSmallerAtInsertTime)"
   ]
  },
  {
   "cell_type": "code",
   "execution_count": 5,
   "metadata": {},
   "outputs": [
    {
     "data": {
      "text/plain": [
       "[5, 4, 4, 0, 1, 1, 0]"
      ]
     },
     "execution_count": 5,
     "metadata": {},
     "output_type": "execute_result"
    }
   ],
   "source": [
    "rightSmallerThan_2(array)"
   ]
  },
  {
   "cell_type": "code",
   "execution_count": 6,
   "metadata": {},
   "outputs": [],
   "source": [
    "# Optimal sol improved code... O(nlog(n))T / O(n)S\n",
    "\n",
    "def rightSmallerThan_3(array):\n",
    "    if len(array) == 0:\n",
    "        return []\n",
    "    \n",
    "    rightSmallerCounts = array[:]\n",
    "    lastIdx = len(array) - 1\n",
    "    bst = SpecialBST(array[lastIdx])\n",
    "    rightSmallerCounts[lastIdx] = 0\n",
    "    \n",
    "    for i in reversed(range(len(array) - 1)):\n",
    "        bst.insert(array[i], i, rightSmallerCounts)\n",
    "    \n",
    "    return rightSmallerCounts\n",
    "    \n",
    "class SpecialBST:\n",
    "    def __init__(self, value):\n",
    "        self.value = value\n",
    "        self.leftSubtreeSize = 0\n",
    "        self.left = None\n",
    "        self.right = None\n",
    "        \n",
    "    def insert(self, value, idx, rightSmallerCounts, numSmallerAtInsertTime = 0):\n",
    "        if value < self.value:\n",
    "            self.leftSubtreeSize += 1\n",
    "            if self.left is None:\n",
    "                self.left = SpecialBST(value)\n",
    "                rightSmallerCounts[idx] = numSmallerAtInsertTime\n",
    "            else:\n",
    "                self.left.insert(value, idx, rightSmallerCounts, numSmallerAtInsertTime)\n",
    "        else:\n",
    "            numSmallerAtInsertTime += self.leftSubtreeSize\n",
    "            if value > self.value:\n",
    "                numSmallerAtInsertTime += 1\n",
    "            if self.right is None:\n",
    "                self.right = SpecialBST(value)\n",
    "                rightSmallerCounts[idx] = numSmallerAtInsertTime\n",
    "            else:\n",
    "                self.right.insert(value, idx, rightSmallerCounts, numSmallerAtInsertTime)"
   ]
  },
  {
   "cell_type": "code",
   "execution_count": 7,
   "metadata": {},
   "outputs": [
    {
     "data": {
      "text/plain": [
       "[5, 4, 4, 0, 1, 1, 0]"
      ]
     },
     "execution_count": 7,
     "metadata": {},
     "output_type": "execute_result"
    }
   ],
   "source": [
    "rightSmallerThan_3(array)"
   ]
  },
  {
   "cell_type": "code",
   "execution_count": null,
   "metadata": {},
   "outputs": [],
   "source": []
  }
 ],
 "metadata": {
  "kernelspec": {
   "display_name": "Python 3",
   "language": "python",
   "name": "python3"
  },
  "language_info": {
   "codemirror_mode": {
    "name": "ipython",
    "version": 3
   },
   "file_extension": ".py",
   "mimetype": "text/x-python",
   "name": "python",
   "nbconvert_exporter": "python",
   "pygments_lexer": "ipython3",
   "version": "3.8.3"
  }
 },
 "nbformat": 4,
 "nbformat_minor": 4
}
