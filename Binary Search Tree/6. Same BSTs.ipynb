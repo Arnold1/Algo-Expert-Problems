{
 "cells": [
  {
   "cell_type": "markdown",
   "metadata": {},
   "source": [
    "# Given two array of integers, find if they both form the same BST, without constructing the BST."
   ]
  },
  {
   "cell_type": "code",
   "execution_count": 1,
   "metadata": {},
   "outputs": [],
   "source": [
    "# O(n^2)T / O(n^2)S\n",
    "\n",
    "def sameBST_1(arrayOne, arrayTwo):\n",
    "    if len(arrayOne) != len(arrayTwo):\n",
    "        return False\n",
    "    \n",
    "    if len(arrayOne) == 0 and len(arrayTwo) == 0:\n",
    "        return True\n",
    "    \n",
    "    if arrayOne[0] != arrayTwo[0]:\n",
    "        return False\n",
    "    \n",
    "    leftOne = getSmaller(arrayOne)\n",
    "    leftTwo = getSmaller(arrayTwo)\n",
    "    rightOne = getBiggerOrEqual(arrayOne)\n",
    "    rightTwo = getBiggerOrEqual(arrayTwo)\n",
    "    \n",
    "    return sameBST_1(leftOne, leftTwo) and sameBST_1(rightOne, rightTwo)\n",
    "\n",
    "def getSmaller(array):\n",
    "    smaller = []\n",
    "    \n",
    "    for i in range(1, len(array)):\n",
    "        if array[i] < array[0]:\n",
    "            smaller.append(array[i])\n",
    "    \n",
    "    return smaller\n",
    "\n",
    "def getBiggerOrEqual(array):\n",
    "    biggerOrEqual = []\n",
    "    \n",
    "    for i in range(1, len(array)):\n",
    "        if array[i] >= array[0]:\n",
    "            biggerOrEqual.append(array[i])\n",
    "    \n",
    "    return biggerOrEqual"
   ]
  },
  {
   "cell_type": "code",
   "execution_count": 2,
   "metadata": {},
   "outputs": [],
   "source": [
    "arrayOne = [10,15,8,12,94,81,5,2,11]\n",
    "arrayTwo = [10,8,5,15,2,12,11,94,81]"
   ]
  },
  {
   "cell_type": "code",
   "execution_count": 3,
   "metadata": {},
   "outputs": [
    {
     "data": {
      "text/plain": [
       "True"
      ]
     },
     "execution_count": 3,
     "metadata": {},
     "output_type": "execute_result"
    }
   ],
   "source": [
    "sameBST_1(arrayOne, arrayTwo)"
   ]
  },
  {
   "cell_type": "code",
   "execution_count": 4,
   "metadata": {},
   "outputs": [],
   "source": [
    "# O(n^2)T / O(d)S... d is depth of BST\n",
    "\n",
    "def sameBST_2(arrayOne, arrayTwo):\n",
    "    return areSameBst(arrayOne, arrayTwo, 0, 0, float('-inf'), float('inf'))\n",
    "\n",
    "def areSameBst(arrayOne, arrayTwo, rootIdxOne, rootIdxTwo, minVal, maxVal):\n",
    "    if rootIdxOne == -1 or rootIdxTwo == -1:\n",
    "        return rootIdxOne == rootIdxTwo\n",
    "    \n",
    "    if arrayOne[rootIdxOne] != arrayTwo[rootIdxTwo]:\n",
    "        return False\n",
    "    \n",
    "    leftRootIdxOne = getIdxOfFirstSmaller(arrayOne, rootIdxOne, minVal)\n",
    "    leftRootIdxTwo = getIdxOfFirstSmaller(arrayTwo, rootIdxTwo, minVal)\n",
    "    rightRootIdxOne = getIdxOfFirstBiggerOrEqual(arrayOne, rootIdxOne, maxVal)\n",
    "    rightRootIdxTwo = getIdxOfFirstBiggerOrEqual(arrayTwo, rootIdxTwo, maxVal)\n",
    "    \n",
    "    currentValue = arrayOne[rootIdxOne]\n",
    "    \n",
    "    leftAreSame = areSameBst(arrayOne, arrayTwo, leftRootIdxOne, leftRootIdxTwo, minVal, currentValue)\n",
    "    rightAreSame = areSameBst(arrayOne, arrayTwo, rightRootIdxOne, rightRootIdxTwo, currentValue, maxVal)\n",
    "    \n",
    "    return leftAreSame and rightAreSame\n",
    "\n",
    "def getIdxOfFirstSmaller(array, startingIdx, minVal):\n",
    "    for i in range(startingIdx + 1, len(array)):\n",
    "        if array[i] < array[startingIdx] and array[i] >= minVal:\n",
    "            return i\n",
    "    \n",
    "    return -1\n",
    "\n",
    "def getIdxOfFirstBiggerOrEqual(array, startingIdx, maxVal):\n",
    "    for i in range(startingIdx + 1, len(array)):\n",
    "        if array[i] >= array[startingIdx] and array[i] < maxVal:\n",
    "            return i\n",
    "        \n",
    "    return -1"
   ]
  },
  {
   "cell_type": "code",
   "execution_count": 5,
   "metadata": {},
   "outputs": [
    {
     "data": {
      "text/plain": [
       "True"
      ]
     },
     "execution_count": 5,
     "metadata": {},
     "output_type": "execute_result"
    }
   ],
   "source": [
    "sameBST_2(arrayOne, arrayTwo)"
   ]
  },
  {
   "cell_type": "code",
   "execution_count": null,
   "metadata": {},
   "outputs": [],
   "source": []
  }
 ],
 "metadata": {
  "kernelspec": {
   "display_name": "Python 3",
   "language": "python",
   "name": "python3"
  },
  "language_info": {
   "codemirror_mode": {
    "name": "ipython",
    "version": 3
   },
   "file_extension": ".py",
   "mimetype": "text/x-python",
   "name": "python",
   "nbconvert_exporter": "python",
   "pygments_lexer": "ipython3",
   "version": "3.8.3"
  }
 },
 "nbformat": 4,
 "nbformat_minor": 4
}
