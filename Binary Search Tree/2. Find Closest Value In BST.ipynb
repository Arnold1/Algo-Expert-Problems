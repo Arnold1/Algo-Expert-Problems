{
 "cells": [
  {
   "cell_type": "markdown",
   "metadata": {},
   "source": [
    "# Given a BST and a target value, find if there are any value that is closer to the target value in the BST."
   ]
  },
  {
   "cell_type": "code",
   "execution_count": 1,
   "metadata": {},
   "outputs": [],
   "source": [
    "# Iterative Solution... \n",
    "\n",
    "# Average: O(log(n))T / O(1)S\n",
    "# Worst: O(n)T / O(1)S\n",
    "\n",
    "def findClosestValue(tree, target):\n",
    "    currentNode = tree\n",
    "    closest = float(\"inf\")\n",
    "    \n",
    "    while currentNode is not None:\n",
    "        if abs(target-closest) > abs(target-currentNode.value):\n",
    "            closest = currentNode.value\n",
    "        \n",
    "        if target < currentNode.value:\n",
    "            currentNode = currentNode.left\n",
    "        elif target > currentNode.value:\n",
    "            currentNode = currentNode.right\n",
    "        else:\n",
    "            break\n",
    "    \n",
    "    return closest"
   ]
  },
  {
   "cell_type": "code",
   "execution_count": 2,
   "metadata": {},
   "outputs": [],
   "source": [
    "# Recursive Solution...\n",
    "\n",
    "# Average: O(log(n))T / O(log(n))S\n",
    "# Worst: O(n)T / O(n)S\n",
    "\n",
    "def findClosestValue(tree, target):\n",
    "    return helper(tree, target, float(\"inf\"))\n",
    "\n",
    "def helper(tree, target, closest):\n",
    "    if tree is None:\n",
    "        return closest\n",
    "    \n",
    "    if abs(target-closest) > abs(target-tree.value):\n",
    "        closest = tree.value\n",
    "        \n",
    "    if target < tree.value:\n",
    "        return helper(tree.left, target, closest)\n",
    "    elif target > tree.value:\n",
    "        return helper(tree.right, target, closest)\n",
    "    else:\n",
    "        return closest"
   ]
  },
  {
   "cell_type": "code",
   "execution_count": null,
   "metadata": {},
   "outputs": [],
   "source": []
  }
 ],
 "metadata": {
  "kernelspec": {
   "display_name": "Python 3",
   "language": "python",
   "name": "python3"
  },
  "language_info": {
   "codemirror_mode": {
    "name": "ipython",
    "version": 3
   },
   "file_extension": ".py",
   "mimetype": "text/x-python",
   "name": "python",
   "nbconvert_exporter": "python",
   "pygments_lexer": "ipython3",
   "version": "3.8.3"
  }
 },
 "nbformat": 4,
 "nbformat_minor": 4
}
