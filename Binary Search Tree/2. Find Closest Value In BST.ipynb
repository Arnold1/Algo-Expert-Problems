{
 "cells": [
  {
   "cell_type": "markdown",
   "metadata": {},
   "source": [
    "# Given a BST and a target value, find if there are any value that is closer to the target value in the BST."
   ]
  },
  {
   "cell_type": "code",
   "execution_count": 1,
   "metadata": {},
   "outputs": [],
   "source": [
    "class BST:\n",
    "    \n",
    "    def __init__(self, value):\n",
    "        self.value = value\n",
    "        self.left = None\n",
    "        self.right = None\n",
    "    \n",
    "    def insert(self, value):\n",
    "        currentNode = self\n",
    "        \n",
    "        while True:\n",
    "            if value < currentNode.value:\n",
    "                if currentNode.left is None:\n",
    "                    currentNode.left = BST(value)\n",
    "                    break\n",
    "                else:\n",
    "                    currentNode = currentNode.left\n",
    "            else:\n",
    "                if currentNode.right is None:\n",
    "                    currentNode.right = BST(value)\n",
    "                    break\n",
    "                else:\n",
    "                    currentNode = currentNode.right\n",
    "        \n",
    "        return self"
   ]
  },
  {
   "cell_type": "code",
   "execution_count": 2,
   "metadata": {},
   "outputs": [],
   "source": [
    "a = BST(10)"
   ]
  },
  {
   "cell_type": "code",
   "execution_count": 3,
   "metadata": {},
   "outputs": [
    {
     "data": {
      "text/plain": [
       "<__main__.BST at 0x24856ab4c70>"
      ]
     },
     "execution_count": 3,
     "metadata": {},
     "output_type": "execute_result"
    }
   ],
   "source": [
    "a.insert(5).insert(5).insert(2).insert(15).insert(22).insert(1).insert(13).insert(14)"
   ]
  },
  {
   "cell_type": "code",
   "execution_count": null,
   "metadata": {},
   "outputs": [],
   "source": [
    "\"\"\"\n",
    "       10\n",
    "      /  \\\n",
    "     5    15\n",
    "    / \\  /  \\\n",
    "   2   5 13  22\n",
    "  /       \\\n",
    " 1        14 \n",
    " \n",
    "\"\"\""
   ]
  },
  {
   "cell_type": "code",
   "execution_count": 4,
   "metadata": {},
   "outputs": [],
   "source": [
    "# Iterative Solution... \n",
    "\n",
    "# Average: O(log(n))T / O(1)S\n",
    "# Worst: O(n)T / O(1)S\n",
    "\n",
    "def findClosestValue1(tree, target):\n",
    "    currentNode = tree\n",
    "    closest = float(\"inf\")\n",
    "    \n",
    "    while currentNode is not None:\n",
    "        if abs(target-closest) > abs(target-currentNode.value):\n",
    "            closest = currentNode.value\n",
    "        \n",
    "        if target < currentNode.value:\n",
    "            currentNode = currentNode.left\n",
    "        elif target > currentNode.value:\n",
    "            currentNode = currentNode.right\n",
    "        else:\n",
    "            break\n",
    "    \n",
    "    return closest"
   ]
  },
  {
   "cell_type": "code",
   "execution_count": 5,
   "metadata": {},
   "outputs": [
    {
     "data": {
      "text/plain": [
       "13"
      ]
     },
     "execution_count": 5,
     "metadata": {},
     "output_type": "execute_result"
    }
   ],
   "source": [
    "findClosestValue1(a, 12)"
   ]
  },
  {
   "cell_type": "code",
   "execution_count": 6,
   "metadata": {},
   "outputs": [
    {
     "name": "stdout",
     "output_type": "stream",
     "text": [
      "1.89 µs ± 76.6 ns per loop (mean ± std. dev. of 7 runs, 1000000 loops each)\n"
     ]
    }
   ],
   "source": [
    "timeit(findClosestValue1(a, 12))"
   ]
  },
  {
   "cell_type": "code",
   "execution_count": 7,
   "metadata": {},
   "outputs": [],
   "source": [
    "# Recursive Solution...\n",
    "\n",
    "# Average: O(log(n))T / O(log(n))S\n",
    "# Worst: O(n)T / O(n)S\n",
    "\n",
    "def findClosestValue2(tree, target):\n",
    "    return helper(tree, target, float(\"inf\"))\n",
    "\n",
    "def helper(tree, target, closest):\n",
    "    if tree is None:\n",
    "        return closest\n",
    "    \n",
    "    if abs(target-closest) > abs(target-tree.value):\n",
    "        closest = tree.value\n",
    "        \n",
    "    if target < tree.value:\n",
    "        return helper(tree.left, target, closest)\n",
    "    elif target > tree.value:\n",
    "        return helper(tree.right, target, closest)\n",
    "    else:\n",
    "        return closest"
   ]
  },
  {
   "cell_type": "code",
   "execution_count": 8,
   "metadata": {},
   "outputs": [
    {
     "data": {
      "text/plain": [
       "13"
      ]
     },
     "execution_count": 8,
     "metadata": {},
     "output_type": "execute_result"
    }
   ],
   "source": [
    "findClosestValue2(a, 12)"
   ]
  },
  {
   "cell_type": "code",
   "execution_count": 9,
   "metadata": {},
   "outputs": [
    {
     "name": "stdout",
     "output_type": "stream",
     "text": [
      "2.21 µs ± 101 ns per loop (mean ± std. dev. of 7 runs, 100000 loops each)\n"
     ]
    }
   ],
   "source": [
    "timeit(findClosestValue2(a, 12))"
   ]
  },
  {
   "cell_type": "code",
   "execution_count": null,
   "metadata": {},
   "outputs": [],
   "source": []
  }
 ],
 "metadata": {
  "kernelspec": {
   "display_name": "Python 3",
   "language": "python",
   "name": "python3"
  },
  "language_info": {
   "codemirror_mode": {
    "name": "ipython",
    "version": 3
   },
   "file_extension": ".py",
   "mimetype": "text/x-python",
   "name": "python",
   "nbconvert_exporter": "python",
   "pygments_lexer": "ipython3",
   "version": "3.8.3"
  }
 },
 "nbformat": 4,
 "nbformat_minor": 4
}
