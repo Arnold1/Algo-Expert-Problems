{
 "cells": [
  {
   "cell_type": "markdown",
   "metadata": {},
   "source": [
    "# Given a sorted array of distinct integers, constructs a BST that has minimum height and return root node. Note: You are given a BST class with insert method."
   ]
  },
  {
   "cell_type": "code",
   "execution_count": 1,
   "metadata": {},
   "outputs": [],
   "source": [
    "class BST:\n",
    "    \n",
    "    def __init__(self, value):\n",
    "        self.value = value\n",
    "        self.left = None\n",
    "        self.right = None\n",
    "    \n",
    "    def insert(self, value):\n",
    "        if value < self.value:\n",
    "            if self.left is None:\n",
    "                self.left = BST(value)\n",
    "            else:\n",
    "                self.left.insert(value)\n",
    "        else:\n",
    "            if self.right is None:\n",
    "                self.right = BST(value)\n",
    "            else:\n",
    "                self.right.insert(value)"
   ]
  },
  {
   "cell_type": "code",
   "execution_count": 2,
   "metadata": {},
   "outputs": [],
   "source": [
    "# O(nlog(n))T / O(n)S\n",
    "\n",
    "def minHeightBST_1(array):\n",
    "    return constructBST(array, None, 0, len(array)-1).value\n",
    "\n",
    "def constructBST(array, bst, startIdx, endIdx):\n",
    "    if endIdx < startIdx:\n",
    "        return \n",
    "    \n",
    "    midIdx = (startIdx + endIdx) // 2\n",
    "    valueToAdd = array[midIdx]\n",
    "    \n",
    "    if bst is None:\n",
    "        bst = BST(valueToAdd)\n",
    "    else:\n",
    "        bst.insert(valueToAdd)\n",
    "    \n",
    "    constructBST(array, bst, startIdx, midIdx-1)\n",
    "    constructBST(array, bst, midIdx+1, endIdx)\n",
    "    \n",
    "    return bst"
   ]
  },
  {
   "cell_type": "code",
   "execution_count": 3,
   "metadata": {},
   "outputs": [],
   "source": [
    "array = [1,2,5,7,10,13,14,15,22]"
   ]
  },
  {
   "cell_type": "code",
   "execution_count": 4,
   "metadata": {},
   "outputs": [
    {
     "data": {
      "text/plain": [
       "10"
      ]
     },
     "execution_count": 4,
     "metadata": {},
     "output_type": "execute_result"
    }
   ],
   "source": [
    "minHeightBST_1(array)"
   ]
  },
  {
   "cell_type": "code",
   "execution_count": 5,
   "metadata": {},
   "outputs": [
    {
     "name": "stdout",
     "output_type": "stream",
     "text": [
      "17.8 µs ± 1.84 µs per loop (mean ± std. dev. of 7 runs, 10000 loops each)\n"
     ]
    }
   ],
   "source": [
    "timeit(minHeightBST_1(array))"
   ]
  },
  {
   "cell_type": "code",
   "execution_count": 6,
   "metadata": {},
   "outputs": [],
   "source": [
    "# O(n)T / O(n)S\n",
    "\n",
    "def minHeightBST_2(array):\n",
    "    return constructBST(array, None, 0, len(array)-1).value\n",
    "\n",
    "def constructBST(array, bst, startIdx, endIdx):\n",
    "    if endIdx < startIdx:\n",
    "        return \n",
    "    \n",
    "    midIdx = (startIdx + endIdx) // 2\n",
    "    newBstNode = BST(array[midIdx])\n",
    "    \n",
    "    if bst is None:\n",
    "        bst = newBstNode\n",
    "    else:\n",
    "        if array[midIdx] < bst.value:\n",
    "            bst.left = newBstNode\n",
    "            bst = bst.left\n",
    "        else:\n",
    "            bst.right = newBstNode\n",
    "            bst = bst.right\n",
    "            \n",
    "    constructBST(array, bst, startIdx, midIdx-1)\n",
    "    constructBST(array, bst, midIdx+1, endIdx)\n",
    "    \n",
    "    return bst"
   ]
  },
  {
   "cell_type": "code",
   "execution_count": 7,
   "metadata": {},
   "outputs": [
    {
     "data": {
      "text/plain": [
       "10"
      ]
     },
     "execution_count": 7,
     "metadata": {},
     "output_type": "execute_result"
    }
   ],
   "source": [
    "minHeightBST_2(array)"
   ]
  },
  {
   "cell_type": "code",
   "execution_count": 8,
   "metadata": {},
   "outputs": [
    {
     "name": "stdout",
     "output_type": "stream",
     "text": [
      "11.9 µs ± 746 ns per loop (mean ± std. dev. of 7 runs, 100000 loops each)\n"
     ]
    }
   ],
   "source": [
    "timeit(minHeightBST_2(array))"
   ]
  },
  {
   "cell_type": "code",
   "execution_count": 9,
   "metadata": {},
   "outputs": [],
   "source": [
    "# O(n)T / O(n)S\n",
    "\n",
    "def minHeightBST_3(array):\n",
    "    return constructBST(array, 0, len(array)-1).value\n",
    "\n",
    "def constructBST(array, startIdx, endIdx):\n",
    "    if endIdx < startIdx:\n",
    "        return None\n",
    "    \n",
    "    midIdx = (startIdx + endIdx) // 2\n",
    "    bst = BST(array[midIdx])\n",
    "    \n",
    "    bst.left = constructBST(array, startIdx, midIdx-1)\n",
    "    bst.right = constructBST(array, midIdx+1, endIdx)\n",
    "    \n",
    "    return bst"
   ]
  },
  {
   "cell_type": "code",
   "execution_count": 10,
   "metadata": {},
   "outputs": [
    {
     "data": {
      "text/plain": [
       "10"
      ]
     },
     "execution_count": 10,
     "metadata": {},
     "output_type": "execute_result"
    }
   ],
   "source": [
    "minHeightBST_3(array)"
   ]
  },
  {
   "cell_type": "code",
   "execution_count": 11,
   "metadata": {},
   "outputs": [
    {
     "name": "stdout",
     "output_type": "stream",
     "text": [
      "10.3 µs ± 368 ns per loop (mean ± std. dev. of 7 runs, 100000 loops each)\n"
     ]
    }
   ],
   "source": [
    "timeit(minHeightBST_3(array))"
   ]
  },
  {
   "cell_type": "code",
   "execution_count": null,
   "metadata": {},
   "outputs": [],
   "source": []
  }
 ],
 "metadata": {
  "kernelspec": {
   "display_name": "Python 3",
   "language": "python",
   "name": "python3"
  },
  "language_info": {
   "codemirror_mode": {
    "name": "ipython",
    "version": 3
   },
   "file_extension": ".py",
   "mimetype": "text/x-python",
   "name": "python",
   "nbconvert_exporter": "python",
   "pygments_lexer": "ipython3",
   "version": "3.8.3"
  }
 },
 "nbformat": 4,
 "nbformat_minor": 4
}
