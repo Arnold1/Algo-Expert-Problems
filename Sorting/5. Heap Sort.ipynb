{
 "cells": [
  {
   "cell_type": "markdown",
   "metadata": {},
   "source": [
    "# Heap Sort Algorithm"
   ]
  },
  {
   "cell_type": "code",
   "execution_count": 1,
   "metadata": {},
   "outputs": [],
   "source": [
    "# O(n * log(n))T / O(1)S\n",
    "\n",
    "def heapSort(array):\n",
    "    buildMaxHeap(array)\n",
    "    \n",
    "    for endIdx in reversed(range(1, len(array))):\n",
    "        swap(0, endIdx, array)\n",
    "        siftDown(0, endIdx - 1, array)\n",
    "        \n",
    "    return array\n",
    "\n",
    "def buildMaxHeap(array):\n",
    "    firstParentIdx = (len(array) - 1 - 1) // 2\n",
    "    \n",
    "    for currentIdx in reversed(range(firstParentIdx + 1)):\n",
    "        siftDown(currentIdx, len(array) - 1, array)\n",
    "        \n",
    "def siftDown(currentIdx, endIdx, heap):\n",
    "    childOneIdx = (currentIdx * 2) + 1\n",
    "    \n",
    "    while childOneIdx <= endIdx:\n",
    "        childTwoIdx = (currentIdx * 2) + 2 if (currentIdx * 2) + 2 <= endIdx else -1\n",
    "        \n",
    "        if childTwoIdx > -1 and heap[childTwoIdx] > heap[childOneIdx]:\n",
    "            idxToSwap = childTwoIdx\n",
    "        else:\n",
    "            idxToSwap = childOneIdx\n",
    "            \n",
    "        if heap[idxToSwap] > heap[currentIdx]:\n",
    "            swap(currentIdx, idxToSwap, heap)\n",
    "            currentIdx = idxToSwap\n",
    "            childOneIdx = (currentIdx * 2) + 1\n",
    "        else:\n",
    "            return \n",
    "    \n",
    "def swap(i, j, array):\n",
    "    array[i], array[j] = array[j], array[i]"
   ]
  },
  {
   "cell_type": "code",
   "execution_count": 2,
   "metadata": {},
   "outputs": [
    {
     "data": {
      "text/plain": [
       "[1, 2, 3, 4, 5, 6, 7, 8, 9, 10]"
      ]
     },
     "execution_count": 2,
     "metadata": {},
     "output_type": "execute_result"
    }
   ],
   "source": [
    "array = [9,4,1,7,10,5,3,6,2,8]\n",
    "\n",
    "heapSort(array)"
   ]
  },
  {
   "cell_type": "code",
   "execution_count": null,
   "metadata": {},
   "outputs": [],
   "source": []
  }
 ],
 "metadata": {
  "kernelspec": {
   "display_name": "Python 3",
   "language": "python",
   "name": "python3"
  },
  "language_info": {
   "codemirror_mode": {
    "name": "ipython",
    "version": 3
   },
   "file_extension": ".py",
   "mimetype": "text/x-python",
   "name": "python",
   "nbconvert_exporter": "python",
   "pygments_lexer": "ipython3",
   "version": "3.8.3"
  }
 },
 "nbformat": 4,
 "nbformat_minor": 4
}
