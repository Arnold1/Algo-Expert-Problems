{
 "cells": [
  {
   "cell_type": "markdown",
   "metadata": {},
   "source": [
    "# Quick Sort Algorithm"
   ]
  },
  {
   "cell_type": "code",
   "execution_count": 1,
   "metadata": {},
   "outputs": [],
   "source": [
    "def quickSort(array):\n",
    "    helper(array, 0, len(array) - 1)\n",
    "    \n",
    "    return array\n",
    "\n",
    "def helper(array, startIdx, endIdx):\n",
    "    if startIdx >= endIdx:\n",
    "        return\n",
    "    \n",
    "    pivotIdx = startIdx\n",
    "    leftIdx = startIdx + 1\n",
    "    righIdx = endIdx\n",
    "    \n",
    "    while righIdx >= leftIdx:\n",
    "        if array[leftIdx] > array[pivotIdx] and array[righIdx] < array[pivotIdx]:\n",
    "            swap(leftIdx, righIdx, array)\n",
    "        \n",
    "        if array[leftIdx] <= array[pivotIdx]:\n",
    "            leftIdx += 1\n",
    "            \n",
    "        if array[righIdx] >= array[pivotIdx]:\n",
    "            righIdx -= 1\n",
    "    \n",
    "    swap(pivotIdx, righIdx, array)\n",
    "    \n",
    "    leftSubarrayIsSmaller = righIdx - 1 - startIdx < endIdx - (righIdx + 1)\n",
    "    \n",
    "    if leftSubarrayIsSmaller:\n",
    "        helper(array, startIdx, righIdx - 1)\n",
    "        helper(array, righIdx + 1, endIdx)\n",
    "    else:\n",
    "        helper(array, righIdx + 1, endIdx)\n",
    "        helper(array, startIdx, righIdx - 1)\n",
    "            \n",
    "def swap(i, j, array):\n",
    "    array[i], array[j] = array[j], array[i]"
   ]
  },
  {
   "cell_type": "code",
   "execution_count": 2,
   "metadata": {},
   "outputs": [
    {
     "data": {
      "text/plain": [
       "[2, 3, 5, 5, 6, 8, 9]"
      ]
     },
     "execution_count": 2,
     "metadata": {},
     "output_type": "execute_result"
    }
   ],
   "source": [
    "array = [8,5,2,9,5,6,3]\n",
    "\n",
    "quickSort(array)"
   ]
  },
  {
   "cell_type": "code",
   "execution_count": null,
   "metadata": {},
   "outputs": [],
   "source": []
  }
 ],
 "metadata": {
  "kernelspec": {
   "display_name": "Python 3",
   "language": "python",
   "name": "python3"
  },
  "language_info": {
   "codemirror_mode": {
    "name": "ipython",
    "version": 3
   },
   "file_extension": ".py",
   "mimetype": "text/x-python",
   "name": "python",
   "nbconvert_exporter": "python",
   "pygments_lexer": "ipython3",
   "version": "3.8.3"
  }
 },
 "nbformat": 4,
 "nbformat_minor": 4
}
