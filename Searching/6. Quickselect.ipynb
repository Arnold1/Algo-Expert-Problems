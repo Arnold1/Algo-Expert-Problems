{
 "cells": [
  {
   "cell_type": "markdown",
   "metadata": {},
   "source": [
    "# Given a list of integers and a number k, find the k'th smallest element in the array."
   ]
  },
  {
   "cell_type": "code",
   "execution_count": null,
   "metadata": {},
   "outputs": [],
   "source": [
    "\"\"\"\n",
    "Sample Input: array = [7, 10, 4, 3, 20, 15], k = 4\n",
    "Sample Output: 10\n",
    "\"\"\""
   ]
  },
  {
   "cell_type": "code",
   "execution_count": 1,
   "metadata": {},
   "outputs": [],
   "source": [
    "# O(n)T / O(1)S\n",
    "\n",
    "def quickSelect(array, k):\n",
    "    position = k - 1\n",
    "    \n",
    "    return helper(array, 0, len(array) - 1, position)\n",
    "\n",
    "def helper(array, startIdx, endIdx, position):\n",
    "    while True:\n",
    "        if startIdx > endIdx:\n",
    "            raise Exception('Your algorithm should never arrive here!')\n",
    "            \n",
    "        pivotIdx = startIdx\n",
    "        leftIdx = startIdx + 1\n",
    "        rightIdx = endIdx\n",
    "        \n",
    "        while leftIdx <= rightIdx:\n",
    "            if array[leftIdx] > array[pivotIdx] and array[rightIdx] < array[pivotIdx]:\n",
    "                swap(leftIdx, rightIdx, array)\n",
    "            \n",
    "            if array[leftIdx] <= array[pivotIdx]:\n",
    "                leftIdx += 1\n",
    "                \n",
    "            if array[rightIdx] >= array[pivotIdx]:\n",
    "                rightIdx -= 1\n",
    "                \n",
    "        swap(pivotIdx, rightIdx, array)\n",
    "        \n",
    "        if rightIdx == position:\n",
    "            return array[rightIdx]\n",
    "        elif rightIdx < position:\n",
    "            startIdx = rightIdx + 1\n",
    "        else:\n",
    "            endIdx = rightIdx - 1\n",
    "            \n",
    "def swap(i, j, array):\n",
    "    array[i], array[j] = array[j], array[i]"
   ]
  },
  {
   "cell_type": "code",
   "execution_count": 2,
   "metadata": {},
   "outputs": [
    {
     "data": {
      "text/plain": [
       "10"
      ]
     },
     "execution_count": 2,
     "metadata": {},
     "output_type": "execute_result"
    }
   ],
   "source": [
    "array = [7, 10, 4, 3, 20, 15]\n",
    "k = 4\n",
    "\n",
    "quickSelect(array, k)"
   ]
  },
  {
   "cell_type": "code",
   "execution_count": 3,
   "metadata": {},
   "outputs": [
    {
     "data": {
      "text/plain": [
       "5"
      ]
     },
     "execution_count": 3,
     "metadata": {},
     "output_type": "execute_result"
    }
   ],
   "source": [
    "array = [8, 5, 2, 9, 7, 6, 3]\n",
    "k = 3\n",
    "\n",
    "quickSelect(array, k)"
   ]
  },
  {
   "cell_type": "code",
   "execution_count": null,
   "metadata": {},
   "outputs": [],
   "source": []
  }
 ],
 "metadata": {
  "kernelspec": {
   "display_name": "Python 3",
   "language": "python",
   "name": "python3"
  },
  "language_info": {
   "codemirror_mode": {
    "name": "ipython",
    "version": 3
   },
   "file_extension": ".py",
   "mimetype": "text/x-python",
   "name": "python",
   "nbconvert_exporter": "python",
   "pygments_lexer": "ipython3",
   "version": "3.8.3"
  }
 },
 "nbformat": 4,
 "nbformat_minor": 4
}
