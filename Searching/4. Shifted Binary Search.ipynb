{
 "cells": [
  {
   "cell_type": "markdown",
   "metadata": {},
   "source": [
    "# Given a shifted sorted array, find if the given target element is in the array. Return the position of the element if it is in the array else return -1."
   ]
  },
  {
   "cell_type": "code",
   "execution_count": 1,
   "metadata": {},
   "outputs": [],
   "source": [
    "# Recursive sol.. O(log(n))T / O(log(n))S\n",
    "\n",
    "def shiftedBinarySearch_1(array, target):\n",
    "    return helper(array, target, 0, len(array) - 1)\n",
    "\n",
    "def helper(array, target, left, right):\n",
    "    if left > right:\n",
    "        return -1\n",
    "    \n",
    "    middle = (left + right) // 2\n",
    "    middleNum = array[middle]\n",
    "    \n",
    "    if middleNum == target:\n",
    "        return middle\n",
    "    \n",
    "    leftNum = array[left]\n",
    "    rightNum = array[right]\n",
    "    \n",
    "    if leftNum <= middleNum:\n",
    "        if target < middleNum and target >= leftNum:\n",
    "            return helper(array, target, left, middle - 1)\n",
    "        else:\n",
    "            return helper(array, target, middle + 1, right)\n",
    "    else:\n",
    "        if target > middleNum and target <= rightNum:\n",
    "            return helper(array, target, middle + 1, right)\n",
    "        else:\n",
    "            return helper(array, target, left, middle - 1)"
   ]
  },
  {
   "cell_type": "code",
   "execution_count": 2,
   "metadata": {},
   "outputs": [
    {
     "data": {
      "text/plain": [
       "8"
      ]
     },
     "execution_count": 2,
     "metadata": {},
     "output_type": "execute_result"
    }
   ],
   "source": [
    "array = [45,61,71,72,73,0,1,21,33,45]\n",
    "target = 33\n",
    "\n",
    "shiftedBinarySearch_1(array, target)"
   ]
  },
  {
   "cell_type": "code",
   "execution_count": 3,
   "metadata": {},
   "outputs": [
    {
     "data": {
      "text/plain": [
       "-1"
      ]
     },
     "execution_count": 3,
     "metadata": {},
     "output_type": "execute_result"
    }
   ],
   "source": [
    "array = [45,61,71,72,73,0,1,21,33,45]\n",
    "target = 100\n",
    "\n",
    "shiftedBinarySearch_1(array, target)"
   ]
  },
  {
   "cell_type": "code",
   "execution_count": 4,
   "metadata": {},
   "outputs": [],
   "source": [
    "# Iterative sol.. O(log(n))T / O(1)S\n",
    "\n",
    "def shiftedBinarySearch_2(array, target):\n",
    "    left = 0\n",
    "    right = len(array) - 1\n",
    "        \n",
    "    while left <= right:\n",
    "        middle = (left + right) // 2\n",
    "        middleNum = array[middle]\n",
    "        leftNum = array[left]\n",
    "        rightNum = array[right]\n",
    "        \n",
    "        if middleNum == target:\n",
    "            return middle\n",
    "        elif leftNum <= middleNum:\n",
    "            if target < middleNum and target >= leftNum:\n",
    "                right = middle - 1\n",
    "            else:\n",
    "                left = middle + 1\n",
    "        else:\n",
    "            if target > middleNum and target <= rightNum:\n",
    "                left = middle + 1\n",
    "            else:\n",
    "                right = middle - 1\n",
    "                \n",
    "    return -1"
   ]
  },
  {
   "cell_type": "code",
   "execution_count": 5,
   "metadata": {},
   "outputs": [
    {
     "data": {
      "text/plain": [
       "8"
      ]
     },
     "execution_count": 5,
     "metadata": {},
     "output_type": "execute_result"
    }
   ],
   "source": [
    "array = [45,61,71,72,73,0,1,21,33,45]\n",
    "target = 33\n",
    "\n",
    "shiftedBinarySearch_2(array, target)"
   ]
  },
  {
   "cell_type": "code",
   "execution_count": 6,
   "metadata": {},
   "outputs": [
    {
     "data": {
      "text/plain": [
       "-1"
      ]
     },
     "execution_count": 6,
     "metadata": {},
     "output_type": "execute_result"
    }
   ],
   "source": [
    "array = [45,61,71,72,73,0,1,21,33,45]\n",
    "target = 100\n",
    "\n",
    "shiftedBinarySearch_2(array, target)"
   ]
  },
  {
   "cell_type": "code",
   "execution_count": null,
   "metadata": {},
   "outputs": [],
   "source": []
  }
 ],
 "metadata": {
  "kernelspec": {
   "display_name": "Python 3",
   "language": "python",
   "name": "python3"
  },
  "language_info": {
   "codemirror_mode": {
    "name": "ipython",
    "version": 3
   },
   "file_extension": ".py",
   "mimetype": "text/x-python",
   "name": "python",
   "nbconvert_exporter": "python",
   "pygments_lexer": "ipython3",
   "version": "3.8.3"
  }
 },
 "nbformat": 4,
 "nbformat_minor": 4
}
