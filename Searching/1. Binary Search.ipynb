{
 "cells": [
  {
   "cell_type": "markdown",
   "metadata": {},
   "source": [
    "# Binary Search Algorithm"
   ]
  },
  {
   "cell_type": "code",
   "execution_count": 1,
   "metadata": {},
   "outputs": [],
   "source": [
    "# Recursive sol.. O(log(n))T / O(log(n))S\n",
    "\n",
    "def binarySearch_1(array, target):\n",
    "    return helper(0, len(array) - 1, array, target)\n",
    "\n",
    "def helper(left, right, array, target):\n",
    "    if left > right:\n",
    "        return False\n",
    "    \n",
    "    middle = (left + right) // 2\n",
    "    potentialMatch = array[middle]\n",
    "    \n",
    "    if target == potentialMatch:\n",
    "        return True\n",
    "    elif target < potentialMatch:\n",
    "        return helper(left, middle - 1, array, target)\n",
    "    else:\n",
    "        return helper(middle + 1, right, array, target)"
   ]
  },
  {
   "cell_type": "code",
   "execution_count": 2,
   "metadata": {},
   "outputs": [
    {
     "data": {
      "text/plain": [
       "True"
      ]
     },
     "execution_count": 2,
     "metadata": {},
     "output_type": "execute_result"
    }
   ],
   "source": [
    "array = [0,1,21,33,45,45,61,71,72,73]\n",
    "target = 33\n",
    "\n",
    "binarySearch_1(array, target)"
   ]
  },
  {
   "cell_type": "code",
   "execution_count": 3,
   "metadata": {},
   "outputs": [],
   "source": [
    "# Iterative sol.. O(log(n))T / O(1)S\n",
    "\n",
    "def binarySearch_2(array, target):\n",
    "    left = 0\n",
    "    right = len(array) - 1\n",
    "    \n",
    "    while left <= right:\n",
    "        middle = (left + right) // 2\n",
    "        potentialMatch = array[middle]\n",
    "        \n",
    "        if target == potentialMatch:\n",
    "            return True\n",
    "        elif target < potentialMatch:\n",
    "            right = middle - 1\n",
    "        else:\n",
    "            left = middle + 1\n",
    "            \n",
    "    return False"
   ]
  },
  {
   "cell_type": "code",
   "execution_count": 4,
   "metadata": {},
   "outputs": [
    {
     "data": {
      "text/plain": [
       "True"
      ]
     },
     "execution_count": 4,
     "metadata": {},
     "output_type": "execute_result"
    }
   ],
   "source": [
    "array = [0,1,21,33,45,45,61,71,72,73]\n",
    "target = 33\n",
    "\n",
    "binarySearch_2(array, target)"
   ]
  },
  {
   "cell_type": "code",
   "execution_count": 5,
   "metadata": {},
   "outputs": [
    {
     "data": {
      "text/plain": [
       "False"
      ]
     },
     "execution_count": 5,
     "metadata": {},
     "output_type": "execute_result"
    }
   ],
   "source": [
    "array = [0,1,21,33,45,45,61,71,72,73]\n",
    "target = 100\n",
    "\n",
    "binarySearch_2(array, target)"
   ]
  },
  {
   "cell_type": "code",
   "execution_count": null,
   "metadata": {},
   "outputs": [],
   "source": []
  }
 ],
 "metadata": {
  "kernelspec": {
   "display_name": "Python 3",
   "language": "python",
   "name": "python3"
  },
  "language_info": {
   "codemirror_mode": {
    "name": "ipython",
    "version": 3
   },
   "file_extension": ".py",
   "mimetype": "text/x-python",
   "name": "python",
   "nbconvert_exporter": "python",
   "pygments_lexer": "ipython3",
   "version": "3.8.3"
  }
 },
 "nbformat": 4,
 "nbformat_minor": 4
}
