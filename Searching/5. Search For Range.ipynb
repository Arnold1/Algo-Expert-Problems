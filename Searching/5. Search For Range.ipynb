{
 "cells": [
  {
   "cell_type": "markdown",
   "metadata": {},
   "source": [
    "# Given a sorted list of integers and a target number, find the range of indices where we can find the target number."
   ]
  },
  {
   "cell_type": "code",
   "execution_count": 1,
   "metadata": {},
   "outputs": [],
   "source": [
    "# Recursive sol.. O(log(n))T / O(log(n))S\n",
    "\n",
    "def searchForRange_1(array, target):\n",
    "    finalRange = [-1, -1]\n",
    "    \n",
    "    alteredBinarySearch(array, target, 0, len(array) - 1, finalRange, True)\n",
    "    alteredBinarySearch(array, target, 0, len(array) - 1, finalRange, False)\n",
    "    \n",
    "    return finalRange\n",
    "\n",
    "def alteredBinarySearch(array, target, left, right, finalRange, goLeft):\n",
    "    if left > right:\n",
    "        return \n",
    "    \n",
    "    mid = (left + right) // 2\n",
    "    \n",
    "    if array[mid] < target:\n",
    "        alteredBinarySearch(array, target, mid + 1, right, finalRange, goLeft)\n",
    "    elif array[mid] > target:\n",
    "        alteredBinarySearch(array, target, left, mid - 1, finalRange, goLeft)\n",
    "    else:\n",
    "        if goLeft:\n",
    "            if mid == 0 or array[mid - 1] != target:\n",
    "                finalRange[0] = mid\n",
    "            else:\n",
    "                alteredBinarySearch(array, target, left, mid - 1, finalRange, goLeft)\n",
    "        else:\n",
    "            if mid == len(array) - 1 or array[mid + 1] != target:\n",
    "                finalRange[1] = mid\n",
    "            else:\n",
    "                alteredBinarySearch(array, target, mid + 1, right, finalRange, goLeft)"
   ]
  },
  {
   "cell_type": "code",
   "execution_count": 2,
   "metadata": {},
   "outputs": [
    {
     "data": {
      "text/plain": [
       "[4, 9]"
      ]
     },
     "execution_count": 2,
     "metadata": {},
     "output_type": "execute_result"
    }
   ],
   "source": [
    "array = [0,1,21,33,45,45,45,45,45,45,61,71,73]\n",
    "target = 45\n",
    "\n",
    "searchForRange_1(array, target)"
   ]
  },
  {
   "cell_type": "code",
   "execution_count": 3,
   "metadata": {},
   "outputs": [
    {
     "data": {
      "text/plain": [
       "[-1, -1]"
      ]
     },
     "execution_count": 3,
     "metadata": {},
     "output_type": "execute_result"
    }
   ],
   "source": [
    "array = [0,1,21,33,45,45,45,45,45,45,61,71,73]\n",
    "target = 100\n",
    "\n",
    "searchForRange_1(array, target)"
   ]
  },
  {
   "cell_type": "code",
   "execution_count": 4,
   "metadata": {},
   "outputs": [],
   "source": [
    "# Iterative sol.. O(log(n))T / O(1)S\n",
    "\n",
    "def searchForRange_2(array, target):\n",
    "    finalRange = [-1, -1]\n",
    "    \n",
    "    alteredBinarySearch_2(array, target, 0, len(array) - 1, finalRange, True)\n",
    "    alteredBinarySearch_2(array, target, 0, len(array) - 1, finalRange, False)\n",
    "    \n",
    "    return finalRange\n",
    "\n",
    "def alteredBinarySearch_2(array, target, left, right, finalRange, goLeft):\n",
    "    while left <= right:\n",
    "        mid = (left + right) // 2\n",
    "\n",
    "        if array[mid] < target:\n",
    "            left = mid + 1\n",
    "        elif array[mid] > target:\n",
    "            right = mid - 1\n",
    "        else:\n",
    "            if goLeft:\n",
    "                if mid == 0 or array[mid - 1] != target:\n",
    "                    finalRange[0] = mid\n",
    "                    return \n",
    "                else:\n",
    "                    right = mid - 1\n",
    "            else:\n",
    "                if mid == len(array) - 1 or array[mid + 1] != target:\n",
    "                    finalRange[1] = mid\n",
    "                    return \n",
    "                else:\n",
    "                    left = mid + 1"
   ]
  },
  {
   "cell_type": "code",
   "execution_count": 5,
   "metadata": {},
   "outputs": [
    {
     "data": {
      "text/plain": [
       "[4, 9]"
      ]
     },
     "execution_count": 5,
     "metadata": {},
     "output_type": "execute_result"
    }
   ],
   "source": [
    "array = [0,1,21,33,45,45,45,45,45,45,61,71,73]\n",
    "target = 45\n",
    "\n",
    "searchForRange_2(array, target)"
   ]
  },
  {
   "cell_type": "code",
   "execution_count": 6,
   "metadata": {},
   "outputs": [
    {
     "data": {
      "text/plain": [
       "[-1, -1]"
      ]
     },
     "execution_count": 6,
     "metadata": {},
     "output_type": "execute_result"
    }
   ],
   "source": [
    "array = [0,1,21,33,45,45,45,45,45,45,61,71,73]\n",
    "target = 100\n",
    "\n",
    "searchForRange_1(array, target)"
   ]
  },
  {
   "cell_type": "code",
   "execution_count": null,
   "metadata": {},
   "outputs": [],
   "source": []
  }
 ],
 "metadata": {
  "kernelspec": {
   "display_name": "Python 3",
   "language": "python",
   "name": "python3"
  },
  "language_info": {
   "codemirror_mode": {
    "name": "ipython",
    "version": 3
   },
   "file_extension": ".py",
   "mimetype": "text/x-python",
   "name": "python",
   "nbconvert_exporter": "python",
   "pygments_lexer": "ipython3",
   "version": "3.8.3"
  }
 },
 "nbformat": 4,
 "nbformat_minor": 4
}
