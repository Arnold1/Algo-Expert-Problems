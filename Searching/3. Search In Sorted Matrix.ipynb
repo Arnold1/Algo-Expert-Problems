{
 "cells": [
  {
   "cell_type": "markdown",
   "metadata": {},
   "source": [
    "# Given a matrix, find if the given target element is in the matrix. If yes, then return the position of the element in the matrix else return [-1, -1]. Note: Every row and column in the matrix are in sorted order."
   ]
  },
  {
   "cell_type": "code",
   "execution_count": 1,
   "metadata": {},
   "outputs": [],
   "source": [
    "# O(n + m)T / O(1)S\n",
    "\n",
    "def searchInSortedMatrix(matrix, target):\n",
    "    row = 0\n",
    "    col = len(matrix[0]) - 1\n",
    "    \n",
    "    while row < len(matrix) and col >= 0:\n",
    "        if matrix[row][col] > target:\n",
    "            col -= 1\n",
    "        elif matrix[row][col] < target:\n",
    "            row += 1\n",
    "        else:\n",
    "            return [row, col]\n",
    "        \n",
    "    return [-1, -1]"
   ]
  },
  {
   "cell_type": "code",
   "execution_count": 2,
   "metadata": {},
   "outputs": [
    {
     "data": {
      "text/plain": [
       "[3, 3]"
      ]
     },
     "execution_count": 2,
     "metadata": {},
     "output_type": "execute_result"
    }
   ],
   "source": [
    "matrix = [[1,   4,  7, 12, 15,1000],\n",
    "          [2,   5, 19, 31, 32,1001],\n",
    "          [3,   8, 24, 33, 35,1002],\n",
    "          [40, 41, 42, 44, 45,1003], \n",
    "          [99,100,103,106,128,1004]]\n",
    "target = 44\n",
    "\n",
    "searchInSortedMatrix(matrix, target)"
   ]
  },
  {
   "cell_type": "code",
   "execution_count": 3,
   "metadata": {},
   "outputs": [
    {
     "data": {
      "text/plain": [
       "[-1, -1]"
      ]
     },
     "execution_count": 3,
     "metadata": {},
     "output_type": "execute_result"
    }
   ],
   "source": [
    "matrix = [[1,   4,  7, 12, 15,1000],\n",
    "          [2,   5, 19, 31, 32,1001],\n",
    "          [3,   8, 24, 33, 35,1002],\n",
    "          [40, 41, 42, 44, 45,1003], \n",
    "          [99,100,103,106,128,1004]]\n",
    "target = 80\n",
    "\n",
    "searchInSortedMatrix(matrix, target)"
   ]
  },
  {
   "cell_type": "code",
   "execution_count": null,
   "metadata": {},
   "outputs": [],
   "source": []
  }
 ],
 "metadata": {
  "kernelspec": {
   "display_name": "Python 3",
   "language": "python",
   "name": "python3"
  },
  "language_info": {
   "codemirror_mode": {
    "name": "ipython",
    "version": 3
   },
   "file_extension": ".py",
   "mimetype": "text/x-python",
   "name": "python",
   "nbconvert_exporter": "python",
   "pygments_lexer": "ipython3",
   "version": "3.8.3"
  }
 },
 "nbformat": 4,
 "nbformat_minor": 4
}
