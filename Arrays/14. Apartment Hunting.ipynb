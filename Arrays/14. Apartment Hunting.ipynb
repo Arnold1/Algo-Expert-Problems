{
 "cells": [
  {
   "cell_type": "markdown",
   "metadata": {},
   "source": [
    "# Given a list of hash tables and list of requirements, where each hash table represents a block and you have to find a block which makes you reach all the required places in less distance."
   ]
  },
  {
   "cell_type": "code",
   "execution_count": 1,
   "metadata": {},
   "outputs": [],
   "source": [
    "# O(b^2 * r)T / O(b)S\n",
    "\n",
    "def apartment_Hunting_1(blocks, reqs):\n",
    "    maxDistancesAtBlocks = [float(\"-inf\") for block in blocks]\n",
    "    \n",
    "    for i in range(len(blocks)):\n",
    "        for req in reqs:\n",
    "            closestReqDistance = float(\"inf\")\n",
    "            \n",
    "            for j in range(len(blocks)):\n",
    "                if blocks[j][req]:\n",
    "                    closestReqDistance = min(closestReqDistance, distanceBetween(i, j))\n",
    "            \n",
    "            maxDistancesAtBlocks[i] = max(maxDistancesAtBlocks[i], closestReqDistance)\n",
    "    \n",
    "    return getIdxAtMinValue(maxDistancesAtBlocks)\n",
    "\n",
    "def getIdxAtMinValue(array):\n",
    "    idxAtMinValue = 0\n",
    "    minValue = float(\"inf\")\n",
    "    \n",
    "    for i in range(len(array)):\n",
    "        currentValue = array[i]\n",
    "        if currentValue < minValue:\n",
    "            minValue = currentValue\n",
    "            idxAtMinValue = i\n",
    "    \n",
    "    return idxAtMinValue\n",
    "\n",
    "def distanceBetween(a, b):\n",
    "    return abs(a-b)"
   ]
  },
  {
   "cell_type": "code",
   "execution_count": 2,
   "metadata": {},
   "outputs": [],
   "source": [
    "array = [{\"sc\":True, \"st\":False, \"g\":False}, {\"sc\":False, \"st\":False, \"g\":True},{\"sc\":True, \"st\":False, \"g\":True},{\"sc\":True, \"st\":False, \"g\":False},{\"sc\":True, \"st\":True, \"g\":False}]\n",
    "reqs = [\"sc\", \"st\", \"g\"]"
   ]
  },
  {
   "cell_type": "code",
   "execution_count": 3,
   "metadata": {},
   "outputs": [
    {
     "data": {
      "text/plain": [
       "3"
      ]
     },
     "execution_count": 3,
     "metadata": {},
     "output_type": "execute_result"
    }
   ],
   "source": [
    "apartment_Hunting_1(array, reqs)"
   ]
  },
  {
   "cell_type": "code",
   "execution_count": 4,
   "metadata": {},
   "outputs": [
    {
     "name": "stdout",
     "output_type": "stream",
     "text": [
      "41 µs ± 2.11 µs per loop (mean ± std. dev. of 7 runs, 10000 loops each)\n"
     ]
    }
   ],
   "source": [
    "timeit(apartment_Hunting_1(array, reqs))"
   ]
  },
  {
   "cell_type": "code",
   "execution_count": 5,
   "metadata": {},
   "outputs": [],
   "source": [
    "# O(b * r)T / O(b * r)S... Optimal Solution\n",
    "\n",
    "def apartment_Hunting_2(blocks, reqs):\n",
    "    minDistancesFromBlocks = list(map(lambda req: getMinDistances(blocks, req), reqs))\n",
    "    maxDistanceAtBlocks = getMaxDistancesAtBlocks(blocks, minDistancesFromBlocks)\n",
    "    \n",
    "    return getIdxAtMinValue(maxDistanceAtBlocks)\n",
    "\n",
    "def getMinDistances(blocks, req):\n",
    "    minDistances = [0 for block in blocks]\n",
    "    closestReqIdx = float(\"inf\")\n",
    "    \n",
    "    for i in range(len(blocks)):\n",
    "        if blocks[i][req]:\n",
    "            closestReqIdx = i\n",
    "        minDistances[i] = distanceBetween(i, closestReqIdx)\n",
    "    for i in reversed(range(len(blocks))):\n",
    "        if blocks[i][req]:\n",
    "            closestReqIdx = i\n",
    "        minDistances[i] = min(minDistances[i], distanceBetween(i, closestReqIdx))\n",
    "    \n",
    "    return minDistances\n",
    "\n",
    "def getIdxAtMinValue(array):\n",
    "    idxAtMinValue = 0\n",
    "    minValue = float(\"inf\")\n",
    "    \n",
    "    for i in range(len(array)):\n",
    "        currentValue = array[i]  \n",
    "        if currentValue < minValue:\n",
    "            minValue = currentValue\n",
    "            idxAtMinValue = i\n",
    "    \n",
    "    return idxAtMinValue\n",
    "\n",
    "def getMaxDistancesAtBlocks(blocks, minDistancesFromBlocks):\n",
    "    maxDistancesAtBlocks = [0 for block in blocks]\n",
    "    \n",
    "    for i in range(len(blocks)):\n",
    "        minDistancesAtBlocks = list(map(lambda distances: distances[i], minDistancesFromBlocks))\n",
    "        maxDistancesAtBlocks[i] = max(minDistancesAtBlocks)\n",
    "    \n",
    "    return maxDistancesAtBlocks\n",
    "\n",
    "def distanceBetween(a, b):\n",
    "    return abs(a - b)"
   ]
  },
  {
   "cell_type": "code",
   "execution_count": 6,
   "metadata": {},
   "outputs": [],
   "source": [
    "array = [{\"sc\":True, \"st\":False, \"g\":False}, {\"sc\":False, \"st\":False, \"g\":True},{\"sc\":True, \"st\":False, \"g\":True},{\"sc\":True, \"st\":False, \"g\":False},{\"sc\":True, \"st\":True, \"g\":False}]\n",
    "reqs = [\"sc\", \"st\", \"g\"]"
   ]
  },
  {
   "cell_type": "code",
   "execution_count": 7,
   "metadata": {},
   "outputs": [
    {
     "data": {
      "text/plain": [
       "3"
      ]
     },
     "execution_count": 7,
     "metadata": {},
     "output_type": "execute_result"
    }
   ],
   "source": [
    "apartment_Hunting_2(array, reqs)"
   ]
  },
  {
   "cell_type": "code",
   "execution_count": 8,
   "metadata": {},
   "outputs": [
    {
     "name": "stdout",
     "output_type": "stream",
     "text": [
      "28.6 µs ± 1.35 µs per loop (mean ± std. dev. of 7 runs, 10000 loops each)\n"
     ]
    }
   ],
   "source": [
    "timeit(apartment_Hunting_2(array, reqs))"
   ]
  },
  {
   "cell_type": "code",
   "execution_count": null,
   "metadata": {},
   "outputs": [],
   "source": []
  }
 ],
 "metadata": {
  "kernelspec": {
   "display_name": "Python 3",
   "language": "python",
   "name": "python3"
  },
  "language_info": {
   "codemirror_mode": {
    "name": "ipython",
    "version": 3
   },
   "file_extension": ".py",
   "mimetype": "text/x-python",
   "name": "python",
   "nbconvert_exporter": "python",
   "pygments_lexer": "ipython3",
   "version": "3.8.3"
  }
 },
 "nbformat": 4,
 "nbformat_minor": 4
}
