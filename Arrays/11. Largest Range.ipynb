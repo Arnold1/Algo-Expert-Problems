{
 "cells": [
  {
   "cell_type": "markdown",
   "metadata": {},
   "source": [
    "# Find the largest range of numbers in the given array."
   ]
  },
  {
   "cell_type": "code",
   "execution_count": 1,
   "metadata": {},
   "outputs": [],
   "source": [
    "# O(n)T / O(n)S\n",
    "\n",
    "def largest_Range(array):\n",
    "    bestRange = []\n",
    "    longestLength = 0\n",
    "    nums = {}\n",
    "    \n",
    "    for num in array:\n",
    "        nums[num] = True\n",
    "    \n",
    "    for num in array:\n",
    "        if not nums[num]:\n",
    "            continue\n",
    "        \n",
    "        nums[num] = False\n",
    "        currentLength = 1\n",
    "        \n",
    "        left = num - 1\n",
    "        right = num + 1\n",
    "        \n",
    "        while left in nums:\n",
    "            nums[left] = False\n",
    "            currentLength += 1\n",
    "            left -= 1\n",
    "        \n",
    "        while right in nums:\n",
    "            nums[right] = False\n",
    "            currentLength += 1\n",
    "            right += 1\n",
    "        \n",
    "        if currentLength > longestLength:\n",
    "            longestLength = currentLength\n",
    "            bestRange = [left+1, right-1]\n",
    "    \n",
    "    return bestRange"
   ]
  },
  {
   "cell_type": "code",
   "execution_count": 2,
   "metadata": {},
   "outputs": [],
   "source": [
    "array = [1,11,3,0,15,5,2,4,10,7,12,6]"
   ]
  },
  {
   "cell_type": "code",
   "execution_count": 3,
   "metadata": {},
   "outputs": [
    {
     "data": {
      "text/plain": [
       "[0, 7]"
      ]
     },
     "execution_count": 3,
     "metadata": {},
     "output_type": "execute_result"
    }
   ],
   "source": [
    "largest_Range(array)"
   ]
  },
  {
   "cell_type": "code",
   "execution_count": 4,
   "metadata": {},
   "outputs": [
    {
     "name": "stdout",
     "output_type": "stream",
     "text": [
      "5.65 µs ± 545 ns per loop (mean ± std. dev. of 7 runs, 100000 loops each)\n"
     ]
    }
   ],
   "source": [
    "timeit(largest_Range(array))"
   ]
  },
  {
   "cell_type": "code",
   "execution_count": null,
   "metadata": {},
   "outputs": [],
   "source": []
  }
 ],
 "metadata": {
  "kernelspec": {
   "display_name": "Python 3",
   "language": "python",
   "name": "python3"
  },
  "language_info": {
   "codemirror_mode": {
    "name": "ipython",
    "version": 3
   },
   "file_extension": ".py",
   "mimetype": "text/x-python",
   "name": "python",
   "nbconvert_exporter": "python",
   "pygments_lexer": "ipython3",
   "version": "3.8.3"
  }
 },
 "nbformat": 4,
 "nbformat_minor": 4
}
