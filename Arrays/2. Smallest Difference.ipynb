{
 "cells": [
  {
   "cell_type": "markdown",
   "metadata": {},
   "source": [
    "# Given two arrays, find the pair of numbers from both arrays that has the smallest difference."
   ]
  },
  {
   "cell_type": "code",
   "execution_count": 1,
   "metadata": {},
   "outputs": [],
   "source": [
    "# Using Two Pointers... O(nlog(n) + mlog(m))T / O(1)S\n",
    "\n",
    "def smallest_Difference(arrayOne, arrayTwo):\n",
    "    arrayOne.sort()\n",
    "    arrayTwo.sort()\n",
    "    \n",
    "    idxOne = 0\n",
    "    idxTwo = 0\n",
    "    \n",
    "    smallest = float(\"inf\")\n",
    "    current = float(\"inf\")\n",
    "    \n",
    "    smallestPair = []\n",
    "    \n",
    "    while idxOne < len(arrayOne) and idxTwo < len(arrayTwo):\n",
    "        first_Num = arrayOne[idxOne]\n",
    "        second_Num = arrayTwo[idxTwo]\n",
    "        \n",
    "        if first_Num < second_Num:\n",
    "            current = second_Num - first_Num\n",
    "            idxOne += 1\n",
    "        elif second_Num < first_Num:\n",
    "            current = first_Num - second_Num\n",
    "            idxTwo += 1\n",
    "        else:\n",
    "            return [first_Num, second_Num]\n",
    "        \n",
    "        if smallest > current:\n",
    "            smallest = current\n",
    "            smallestPair = [first_Num, second_Num]\n",
    "    \n",
    "    return smallestPair\n",
    "    "
   ]
  },
  {
   "cell_type": "code",
   "execution_count": 2,
   "metadata": {},
   "outputs": [],
   "source": [
    "arr1 = [-1, 5, 10, 20, 28, 3]\n",
    "arr2 = [26, 134, 135, 15, 17]"
   ]
  },
  {
   "cell_type": "code",
   "execution_count": 3,
   "metadata": {},
   "outputs": [
    {
     "data": {
      "text/plain": [
       "[28, 26]"
      ]
     },
     "execution_count": 3,
     "metadata": {},
     "output_type": "execute_result"
    }
   ],
   "source": [
    "smallest_Difference(arr1, arr2)"
   ]
  },
  {
   "cell_type": "code",
   "execution_count": null,
   "metadata": {},
   "outputs": [],
   "source": []
  },
  {
   "cell_type": "code",
   "execution_count": null,
   "metadata": {},
   "outputs": [],
   "source": []
  }
 ],
 "metadata": {
  "kernelspec": {
   "display_name": "Python 3",
   "language": "python",
   "name": "python3"
  },
  "language_info": {
   "codemirror_mode": {
    "name": "ipython",
    "version": 3
   },
   "file_extension": ".py",
   "mimetype": "text/x-python",
   "name": "python",
   "nbconvert_exporter": "python",
   "pygments_lexer": "ipython3",
   "version": "3.8.3"
  }
 },
 "nbformat": 4,
 "nbformat_minor": 4
}
