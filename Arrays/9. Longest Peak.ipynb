{
 "cells": [
  {
   "cell_type": "markdown",
   "metadata": {},
   "source": [
    "# Given an array, find the length of the longest peak. A peak consists of atleast three numbers that strictly increase and then strictly decrease."
   ]
  },
  {
   "cell_type": "code",
   "execution_count": 1,
   "metadata": {},
   "outputs": [],
   "source": [
    "# O(n)T / O(1)S\n",
    "\n",
    "def longest_Peak2(array):\n",
    "    longestPeakLength = 0\n",
    "    i = 1\n",
    "    \n",
    "    while i < len(array) - 1:\n",
    "        isPeak = array[i-1] < array[i] and array[i] > array[i+1]\n",
    "        \n",
    "        if not isPeak:\n",
    "            i += 1\n",
    "            continue\n",
    "        \n",
    "        leftIdx = i - 2\n",
    "        while leftIdx >= 0 and array[leftIdx] < array[leftIdx+1]:\n",
    "            leftIdx -= 1\n",
    "        \n",
    "        rightIdx = i + 2\n",
    "        while rightIdx < len(array) and array[rightIdx] < array[rightIdx -1]:\n",
    "            rightIdx += 1\n",
    "        \n",
    "        currentPeakLength = rightIdx - leftIdx - 1\n",
    "        longestPeakLength = max(longestPeakLength, currentPeakLength)\n",
    "        \n",
    "        i = rightIdx\n",
    "    \n",
    "    return longestPeakLength"
   ]
  },
  {
   "cell_type": "code",
   "execution_count": 2,
   "metadata": {},
   "outputs": [],
   "source": [
    "array = [1,2,3,3,4,0,10,6,5,-1,-3,2,3]"
   ]
  },
  {
   "cell_type": "code",
   "execution_count": 3,
   "metadata": {},
   "outputs": [
    {
     "data": {
      "text/plain": [
       "6"
      ]
     },
     "execution_count": 3,
     "metadata": {},
     "output_type": "execute_result"
    }
   ],
   "source": [
    "longest_Peak2(array)"
   ]
  },
  {
   "cell_type": "code",
   "execution_count": 4,
   "metadata": {},
   "outputs": [
    {
     "name": "stdout",
     "output_type": "stream",
     "text": [
      "5.47 µs ± 368 ns per loop (mean ± std. dev. of 7 runs, 100000 loops each)\n"
     ]
    }
   ],
   "source": [
    "timeit(longest_Peak2(array))"
   ]
  },
  {
   "cell_type": "code",
   "execution_count": 5,
   "metadata": {},
   "outputs": [],
   "source": [
    "# My sol...\n",
    "\n",
    "def longest_Peak1(array):\n",
    "    longestLength = 0\n",
    "    \n",
    "    for i in range(1, len(array)-1):\n",
    "        if array[i-1] < array[i] > array[i+1]:\n",
    "            x = i\n",
    "            y = i\n",
    "            \n",
    "            while array[x-1] != None and array[x-1] < array[x]:\n",
    "                x -= 1\n",
    "            \n",
    "            while array[y+1] != None and array[y] > array[y+1]:\n",
    "                y += 1\n",
    "        \n",
    "            if longestLength < len(array[x:y+1]):\n",
    "                longestLength = len(array[x:y+1])\n",
    "    \n",
    "    return longestLength"
   ]
  },
  {
   "cell_type": "code",
   "execution_count": 6,
   "metadata": {},
   "outputs": [],
   "source": [
    "array = [1,2,3,3,4,0,10,6,5,-1,-3,2,3]"
   ]
  },
  {
   "cell_type": "code",
   "execution_count": 7,
   "metadata": {},
   "outputs": [
    {
     "data": {
      "text/plain": [
       "6"
      ]
     },
     "execution_count": 7,
     "metadata": {},
     "output_type": "execute_result"
    }
   ],
   "source": [
    "longest_Peak1(array)"
   ]
  },
  {
   "cell_type": "code",
   "execution_count": 8,
   "metadata": {},
   "outputs": [
    {
     "name": "stdout",
     "output_type": "stream",
     "text": [
      "6.79 µs ± 335 ns per loop (mean ± std. dev. of 7 runs, 100000 loops each)\n"
     ]
    }
   ],
   "source": [
    "timeit(longest_Peak1(array))"
   ]
  },
  {
   "cell_type": "code",
   "execution_count": null,
   "metadata": {},
   "outputs": [],
   "source": []
  }
 ],
 "metadata": {
  "kernelspec": {
   "display_name": "Python 3",
   "language": "python",
   "name": "python3"
  },
  "language_info": {
   "codemirror_mode": {
    "name": "ipython",
    "version": 3
   },
   "file_extension": ".py",
   "mimetype": "text/x-python",
   "name": "python",
   "nbconvert_exporter": "python",
   "pygments_lexer": "ipython3",
   "version": "3.8.3"
  }
 },
 "nbformat": 4,
 "nbformat_minor": 4
}
