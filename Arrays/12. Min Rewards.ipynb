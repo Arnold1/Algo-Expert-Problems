{
 "cells": [
  {
   "cell_type": "markdown",
   "metadata": {},
   "source": [
    "# Given an array of scores, find the minimum number of rewards you have to give. \n",
    "# Rules:\n",
    "# 1. Every student has to have atleast one reward\n",
    "# 2. For a given student, if that student has a higher score than a student next to him, he should have a strictly larger amount of rewards than the one next to him that has a smaller grade."
   ]
  },
  {
   "cell_type": "code",
   "execution_count": 1,
   "metadata": {},
   "outputs": [],
   "source": [
    "# O(n^2)T / O(n)S\n",
    "\n",
    "def min_Rewards(scores):\n",
    "    rewards = [1 for score in scores]\n",
    "    \n",
    "    for i in range(1, len(scores)):\n",
    "        j = i-1\n",
    "        if scores[i] > scores[j]:\n",
    "            rewards[i] = rewards[j] + 1\n",
    "        else:\n",
    "            while j >= 0 and scores[j] > scores[j+1]:\n",
    "                rewards[j] = max(rewards[j], rewards[j+1]+1)\n",
    "                j-=1\n",
    "        \n",
    "    return sum(rewards)"
   ]
  },
  {
   "cell_type": "code",
   "execution_count": 2,
   "metadata": {},
   "outputs": [],
   "source": [
    "scores = [8,4,2,1,3,6,7,9,5]"
   ]
  },
  {
   "cell_type": "code",
   "execution_count": 3,
   "metadata": {},
   "outputs": [
    {
     "data": {
      "text/plain": [
       "25"
      ]
     },
     "execution_count": 3,
     "metadata": {},
     "output_type": "execute_result"
    }
   ],
   "source": [
    "min_Rewards(scores)"
   ]
  },
  {
   "cell_type": "code",
   "execution_count": 4,
   "metadata": {},
   "outputs": [
    {
     "name": "stdout",
     "output_type": "stream",
     "text": [
      "7.47 µs ± 226 ns per loop (mean ± std. dev. of 7 runs, 100000 loops each)\n"
     ]
    }
   ],
   "source": [
    "timeit(min_Rewards(scores))"
   ]
  },
  {
   "cell_type": "code",
   "execution_count": 5,
   "metadata": {},
   "outputs": [],
   "source": [
    "# O(n)T / O(n)S\n",
    "\n",
    "def min_Rewards_2(scores):\n",
    "    rewards = [1 for score in scores]\n",
    "    localMinIdxs = getLocalMinIdxs(scores)\n",
    "    \n",
    "    for localMinIdx in localMinIdxs:\n",
    "        expandFromLocalMinIdx(localMinIdx, scores, rewards)\n",
    "    \n",
    "    return sum(rewards)\n",
    "\n",
    "def getLocalMinIdxs(array):\n",
    "    if len(array) == 1:\n",
    "        return [0]\n",
    "    \n",
    "    localMinIdxs = []\n",
    "    \n",
    "    for i in range(len(array)):\n",
    "        if i == 0 and array[i] < array[i+1]:\n",
    "            localMinIdxs.append(i)\n",
    "        \n",
    "        if i == len(array)-1 and array[i] < array[i-1]:\n",
    "            localMinIdxs.append(i)\n",
    "            \n",
    "        if i == 0 or i == len(array)-1:\n",
    "            continue\n",
    "        \n",
    "        if array[i] < array[i+1] and array[i] < array[i-1]:\n",
    "            localMinIdxs.append(i)\n",
    "    \n",
    "    return localMinIdxs\n",
    "\n",
    "def expandFromLocalMinIdx(localMinIdx, scores, rewards):\n",
    "    leftIdx = localMinIdx - 1\n",
    "    \n",
    "    while leftIdx >= 0 and scores[leftIdx] > scores[leftIdx+1]:\n",
    "        rewards[leftIdx] = max(rewards[leftIdx], rewards[leftIdx+1]+1)\n",
    "        leftIdx -= 1\n",
    "    \n",
    "    rightIdx = localMinIdx + 1\n",
    "    \n",
    "    while rightIdx < len(scores) and scores[rightIdx] > scores[rightIdx-1]:\n",
    "        rewards[rightIdx] = rewards[rightIdx-1]+1\n",
    "        rightIdx += 1"
   ]
  },
  {
   "cell_type": "code",
   "execution_count": 6,
   "metadata": {},
   "outputs": [],
   "source": [
    "scores = [8,4,2,1,3,6,7,9,5]"
   ]
  },
  {
   "cell_type": "code",
   "execution_count": 7,
   "metadata": {},
   "outputs": [
    {
     "data": {
      "text/plain": [
       "25"
      ]
     },
     "execution_count": 7,
     "metadata": {},
     "output_type": "execute_result"
    }
   ],
   "source": [
    "min_Rewards_2(scores)"
   ]
  },
  {
   "cell_type": "code",
   "execution_count": 8,
   "metadata": {},
   "outputs": [
    {
     "name": "stdout",
     "output_type": "stream",
     "text": [
      "11.5 µs ± 612 ns per loop (mean ± std. dev. of 7 runs, 100000 loops each)\n"
     ]
    }
   ],
   "source": [
    "timeit(min_Rewards_2(scores))"
   ]
  },
  {
   "cell_type": "code",
   "execution_count": 9,
   "metadata": {},
   "outputs": [],
   "source": [
    "# O(n)T / O(n)S\n",
    "\n",
    "def min_Rewards_3(scores):\n",
    "    rewards = [1 for score in scores]\n",
    "    \n",
    "    for i in range(1, len(scores)):\n",
    "        if scores[i] > scores[i-1]:\n",
    "            rewards[i] = rewards[i-1]+1\n",
    "            \n",
    "    for i in reversed(range(len(scores)-1)):\n",
    "        if scores[i] > scores[i+1]:\n",
    "            rewards[i] = max(rewards[i], rewards[i+1] + 1)\n",
    "       \n",
    "    return sum(rewards)"
   ]
  },
  {
   "cell_type": "code",
   "execution_count": 10,
   "metadata": {},
   "outputs": [],
   "source": [
    "scores = [8,4,2,1,3,6,7,9,5]"
   ]
  },
  {
   "cell_type": "code",
   "execution_count": 11,
   "metadata": {},
   "outputs": [
    {
     "data": {
      "text/plain": [
       "25"
      ]
     },
     "execution_count": 11,
     "metadata": {},
     "output_type": "execute_result"
    }
   ],
   "source": [
    "min_Rewards_3(scores)"
   ]
  },
  {
   "cell_type": "code",
   "execution_count": 12,
   "metadata": {},
   "outputs": [
    {
     "name": "stdout",
     "output_type": "stream",
     "text": [
      "6.48 µs ± 350 ns per loop (mean ± std. dev. of 7 runs, 100000 loops each)\n"
     ]
    }
   ],
   "source": [
    "timeit(min_Rewards_3(scores))"
   ]
  },
  {
   "cell_type": "code",
   "execution_count": null,
   "metadata": {},
   "outputs": [],
   "source": []
  }
 ],
 "metadata": {
  "kernelspec": {
   "display_name": "Python 3",
   "language": "python",
   "name": "python3"
  },
  "language_info": {
   "codemirror_mode": {
    "name": "ipython",
    "version": 3
   },
   "file_extension": ".py",
   "mimetype": "text/x-python",
   "name": "python",
   "nbconvert_exporter": "python",
   "pygments_lexer": "ipython3",
   "version": "3.8.3"
  }
 },
 "nbformat": 4,
 "nbformat_minor": 4
}
