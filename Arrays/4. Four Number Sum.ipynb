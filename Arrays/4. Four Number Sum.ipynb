{
 "cells": [
  {
   "cell_type": "markdown",
   "metadata": {},
   "source": [
    "# Given an array of distinct integers and an integer target, are there elements a, b, c, and d in nums such that a + b + c + d = target? Find all unique quadruplets in the array which gives the sum of target. Note: The solution set must not contain duplicate quadruplets."
   ]
  },
  {
   "cell_type": "code",
   "execution_count": null,
   "metadata": {},
   "outputs": [],
   "source": [
    "\"\"\"\n",
    "Sample Input: [7,6,4,-1,1,2], 16\n",
    "Sample Output: [[7, 6, 4, -1], [7, 6, 1, 2]]\n",
    "\"\"\""
   ]
  },
  {
   "cell_type": "code",
   "execution_count": 1,
   "metadata": {},
   "outputs": [],
   "source": [
    "# O(n^2)T / O(n^2)S\n",
    "\n",
    "def four_Number_Sum(arr, targetSum):\n",
    "    allPairSums = {}\n",
    "    quadruplets = []\n",
    "    \n",
    "    for i in range(1, len(arr)-1):\n",
    "        for j in range(i+1, len(arr)):\n",
    "            currentSum = arr[i] + arr[j]\n",
    "            difference = targetSum - currentSum        \n",
    "            \n",
    "            if difference in allPairSums:\n",
    "                for pair in allPairSums[difference]:\n",
    "                    quadruplets.append(pair + [arr[i], arr[j]])\n",
    "\n",
    "        for k in range(0, i):\n",
    "            currentSum = arr[k] + arr[i]\n",
    "            \n",
    "            if currentSum in allPairSums:\n",
    "                allPairSums[currentSum].append([arr[k],arr[i]])\n",
    "            else:\n",
    "                allPairSums[currentSum] = [[arr[k], arr[i]]]\n",
    "    \n",
    "    return quadruplets"
   ]
  },
  {
   "cell_type": "code",
   "execution_count": 2,
   "metadata": {},
   "outputs": [],
   "source": [
    "arr = [7,6,4,-1,1,2]\n",
    "val = 16"
   ]
  },
  {
   "cell_type": "code",
   "execution_count": 3,
   "metadata": {},
   "outputs": [
    {
     "data": {
      "text/plain": [
       "[[7, 6, 4, -1], [7, 6, 1, 2]]"
      ]
     },
     "execution_count": 3,
     "metadata": {},
     "output_type": "execute_result"
    }
   ],
   "source": [
    "four_Number_Sum(arr, val)"
   ]
  },
  {
   "cell_type": "code",
   "execution_count": 4,
   "metadata": {},
   "outputs": [],
   "source": [
    "arr = [1,0,-1,0,-2,2]\n",
    "val = 0"
   ]
  },
  {
   "cell_type": "code",
   "execution_count": 5,
   "metadata": {},
   "outputs": [
    {
     "data": {
      "text/plain": [
       "[[1, 0, -1, 0], [1, -1, -2, 2], [0, 0, -2, 2]]"
      ]
     },
     "execution_count": 5,
     "metadata": {},
     "output_type": "execute_result"
    }
   ],
   "source": [
    "four_Number_Sum(arr, val)"
   ]
  },
  {
   "cell_type": "code",
   "execution_count": null,
   "metadata": {},
   "outputs": [],
   "source": []
  }
 ],
 "metadata": {
  "kernelspec": {
   "display_name": "Python 3",
   "language": "python",
   "name": "python3"
  },
  "language_info": {
   "codemirror_mode": {
    "name": "ipython",
    "version": 3
   },
   "file_extension": ".py",
   "mimetype": "text/x-python",
   "name": "python",
   "nbconvert_exporter": "python",
   "pygments_lexer": "ipython3",
   "version": "3.8.3"
  }
 },
 "nbformat": 4,
 "nbformat_minor": 4
}
