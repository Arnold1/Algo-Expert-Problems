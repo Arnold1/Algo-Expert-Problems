{
 "cells": [
  {
   "cell_type": "markdown",
   "metadata": {},
   "source": [
    "# Given an array and a target value, find distinct quadruplets that sum up to the target value."
   ]
  },
  {
   "cell_type": "code",
   "execution_count": 5,
   "metadata": {},
   "outputs": [],
   "source": [
    "# O(n^2)T / O(n^2)S\n",
    "\n",
    "def four_Number_Sum(arr, targetSum):\n",
    "    allPairSums = {}\n",
    "    quadruplets = []\n",
    "    \n",
    "    for i in range(1, len(arr)-1):\n",
    "        for j in range(i+1, len(arr)):\n",
    "            currentSum = arr[i] + arr[j]\n",
    "            difference = targetSum - currentSum        \n",
    "            \n",
    "            if difference in allPairSums:\n",
    "                for pair in allPairSums[difference]:\n",
    "                    quadruplets.append(pair + [arr[i], arr[j]])\n",
    "\n",
    "        for k in range(0, i):\n",
    "            currentSum = arr[k] + arr[i]\n",
    "            \n",
    "            if currentSum in allPairSums:\n",
    "                allPairSums[currentSum].append([arr[k],arr[i]])\n",
    "            else:\n",
    "                allPairSums[currentSum] = [[arr[k], arr[i]]]\n",
    "    \n",
    "    return quadruplets"
   ]
  },
  {
   "cell_type": "code",
   "execution_count": 6,
   "metadata": {},
   "outputs": [],
   "source": [
    "arr = [7,6,4,-1,1,2]\n",
    "val = 16"
   ]
  },
  {
   "cell_type": "code",
   "execution_count": 7,
   "metadata": {},
   "outputs": [
    {
     "data": {
      "text/plain": [
       "[[7, 6, 4, -1], [7, 6, 1, 2]]"
      ]
     },
     "execution_count": 7,
     "metadata": {},
     "output_type": "execute_result"
    }
   ],
   "source": [
    "four_Number_Sum(arr, val)"
   ]
  },
  {
   "cell_type": "code",
   "execution_count": 4,
   "metadata": {},
   "outputs": [
    {
     "name": "stdout",
     "output_type": "stream",
     "text": [
      "11.5 µs ± 762 ns per loop (mean ± std. dev. of 7 runs, 100000 loops each)\n"
     ]
    }
   ],
   "source": [
    "timeit(four_Number_Sum(arr, val))"
   ]
  },
  {
   "cell_type": "code",
   "execution_count": null,
   "metadata": {},
   "outputs": [],
   "source": []
  }
 ],
 "metadata": {
  "kernelspec": {
   "display_name": "Python 3",
   "language": "python",
   "name": "python3"
  },
  "language_info": {
   "codemirror_mode": {
    "name": "ipython",
    "version": 3
   },
   "file_extension": ".py",
   "mimetype": "text/x-python",
   "name": "python",
   "nbconvert_exporter": "python",
   "pygments_lexer": "ipython3",
   "version": "3.8.3"
  }
 },
 "nbformat": 4,
 "nbformat_minor": 4
}
