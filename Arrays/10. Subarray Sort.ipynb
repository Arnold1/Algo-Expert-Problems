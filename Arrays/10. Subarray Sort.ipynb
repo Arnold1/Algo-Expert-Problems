{
 "cells": [
  {
   "cell_type": "markdown",
   "metadata": {},
   "source": [
    "# Given an array, find the sub array which is when sorted, the whole array becomes sorted."
   ]
  },
  {
   "cell_type": "code",
   "execution_count": null,
   "metadata": {},
   "outputs": [],
   "source": [
    "\"\"\"\n",
    "Sample Input: [0, 1, 15, 25, 6, 7, 30, 40, 50]\n",
    "Sample Output: [2, 5]\n",
    "Explanation:\n",
    "    If you sort the subarray from index 2 to index 5, the whole array becomes sorted.\n",
    "\"\"\""
   ]
  },
  {
   "cell_type": "code",
   "execution_count": 1,
   "metadata": {},
   "outputs": [],
   "source": [
    "# O(n)T / O(1)S\n",
    "\n",
    "def subarray_Sort(array):\n",
    "    minOutOfOrder = float(\"inf\")\n",
    "    maxOutOfOrder = float(\"-inf\")\n",
    "    \n",
    "    for i in range(len(array)):\n",
    "        num = array[i]\n",
    "        \n",
    "        if isOutOfOrder(i, num, array):\n",
    "            minOutOfOrder = min(minOutOfOrder, num)\n",
    "            maxOutOfOrder = max(maxOutOfOrder, num)\n",
    "    \n",
    "    if minOutOfOrder == float(\"inf\"):\n",
    "        return [-1, -1]\n",
    "    \n",
    "    leftIdx = 0\n",
    "    while minOutOfOrder > array[leftIdx]:\n",
    "        leftIdx += 1\n",
    "        \n",
    "    rightIdx = len(array)-1\n",
    "    while maxOutOfOrder < array[rightIdx]:\n",
    "        rightIdx -= 1\n",
    "        \n",
    "    return [leftIdx, rightIdx]\n",
    "\n",
    "def isOutOfOrder(i, num, array):\n",
    "    if i == 0:\n",
    "        return num > array[i+1]\n",
    "    \n",
    "    if i == len(array)-1:\n",
    "        return num < array[i-1]\n",
    "    \n",
    "    return num > array[i+1] or num < array[i-1]"
   ]
  },
  {
   "cell_type": "code",
   "execution_count": 2,
   "metadata": {},
   "outputs": [],
   "source": [
    "array = [1,2,4,7,10,11,7,6,12,7,16,18,19]"
   ]
  },
  {
   "cell_type": "code",
   "execution_count": 3,
   "metadata": {},
   "outputs": [
    {
     "data": {
      "text/plain": [
       "[3, 9]"
      ]
     },
     "execution_count": 3,
     "metadata": {},
     "output_type": "execute_result"
    }
   ],
   "source": [
    "subarray_Sort(array)"
   ]
  },
  {
   "cell_type": "code",
   "execution_count": 4,
   "metadata": {},
   "outputs": [],
   "source": [
    "array = [0, 1, 15, 25, 6, 7, 30, 40, 50]"
   ]
  },
  {
   "cell_type": "code",
   "execution_count": 5,
   "metadata": {},
   "outputs": [
    {
     "data": {
      "text/plain": [
       "[2, 5]"
      ]
     },
     "execution_count": 5,
     "metadata": {},
     "output_type": "execute_result"
    }
   ],
   "source": [
    "subarray_Sort(array)"
   ]
  },
  {
   "cell_type": "code",
   "execution_count": null,
   "metadata": {},
   "outputs": [],
   "source": []
  }
 ],
 "metadata": {
  "kernelspec": {
   "display_name": "Python 3",
   "language": "python",
   "name": "python3"
  },
  "language_info": {
   "codemirror_mode": {
    "name": "ipython",
    "version": 3
   },
   "file_extension": ".py",
   "mimetype": "text/x-python",
   "name": "python",
   "nbconvert_exporter": "python",
   "pygments_lexer": "ipython3",
   "version": "3.8.3"
  }
 },
 "nbformat": 4,
 "nbformat_minor": 4
}
