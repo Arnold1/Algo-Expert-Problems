{
 "cells": [
  {
   "cell_type": "markdown",
   "metadata": {},
   "source": [
    "# Given an array and a value, move all the instances of that value in the array to the end of the array."
   ]
  },
  {
   "cell_type": "code",
   "execution_count": 4,
   "metadata": {},
   "outputs": [],
   "source": [
    "# Using Two Pointers... O(n)T / O(1)S\n",
    "\n",
    "def move_Element_To_End_1(arr, val):\n",
    "    left = 0\n",
    "    right = len(arr)-1\n",
    "    \n",
    "    while left < right:\n",
    "        while left < right and arr[right] == val:\n",
    "            right -= 1\n",
    "        if arr[left] == val:\n",
    "            arr[left], arr[right] = arr[right], arr[left]\n",
    "        left += 1\n",
    "    \n",
    "    return arr"
   ]
  },
  {
   "cell_type": "code",
   "execution_count": 5,
   "metadata": {},
   "outputs": [],
   "source": [
    "arr = [2,1,3,7,8,2,2,22,333,4,5,2,2,2,2,3,4,2,2]\n",
    "val = 2"
   ]
  },
  {
   "cell_type": "code",
   "execution_count": 6,
   "metadata": {},
   "outputs": [
    {
     "data": {
      "text/plain": [
       "[4, 1, 3, 7, 8, 3, 5, 22, 333, 4, 2, 2, 2, 2, 2, 2, 2, 2, 2]"
      ]
     },
     "execution_count": 6,
     "metadata": {},
     "output_type": "execute_result"
    }
   ],
   "source": [
    "move_Element_To_End_1(arr, val)"
   ]
  },
  {
   "cell_type": "code",
   "execution_count": 1,
   "metadata": {},
   "outputs": [],
   "source": [
    "# My Sol... Using Two Pointers... O(n)T / O(1)S\n",
    "\n",
    "def move_Element_To_End_2(arr, val):\n",
    "    left = 0\n",
    "    right = len(arr)-1\n",
    "    \n",
    "    while left < right:\n",
    "        if arr[left] != val:\n",
    "            left += 1\n",
    "        if arr[right] == val:\n",
    "            right -= 1\n",
    "        \n",
    "        if arr[left] == val and arr[right] != val:\n",
    "            arr[left], arr[right] = arr[right], arr[left]\n",
    "    \n",
    "    return arr"
   ]
  },
  {
   "cell_type": "code",
   "execution_count": 2,
   "metadata": {},
   "outputs": [],
   "source": [
    "arr = [2,1,3,7,8,2,2,22,333,4,5,2,2,2,2,3,4,2,2]\n",
    "val = 2"
   ]
  },
  {
   "cell_type": "code",
   "execution_count": 3,
   "metadata": {},
   "outputs": [
    {
     "data": {
      "text/plain": [
       "[4, 1, 3, 7, 8, 3, 5, 22, 333, 4, 2, 2, 2, 2, 2, 2, 2, 2, 2]"
      ]
     },
     "execution_count": 3,
     "metadata": {},
     "output_type": "execute_result"
    }
   ],
   "source": [
    "move_Element_To_End_2(arr, val)"
   ]
  },
  {
   "cell_type": "code",
   "execution_count": 11,
   "metadata": {},
   "outputs": [
    {
     "name": "stdout",
     "output_type": "stream",
     "text": [
      "3.97 µs ± 137 ns per loop (mean ± std. dev. of 7 runs, 100000 loops each)\n"
     ]
    }
   ],
   "source": [
    "timeit(move_Element_To_End_1(arr, val))"
   ]
  },
  {
   "cell_type": "code",
   "execution_count": 12,
   "metadata": {},
   "outputs": [
    {
     "name": "stdout",
     "output_type": "stream",
     "text": [
      "3.03 µs ± 112 ns per loop (mean ± std. dev. of 7 runs, 100000 loops each)\n"
     ]
    }
   ],
   "source": [
    "timeit(move_Element_To_End_2(arr, val))"
   ]
  },
  {
   "cell_type": "code",
   "execution_count": null,
   "metadata": {},
   "outputs": [],
   "source": []
  }
 ],
 "metadata": {
  "kernelspec": {
   "display_name": "Python 3",
   "language": "python",
   "name": "python3"
  },
  "language_info": {
   "codemirror_mode": {
    "name": "ipython",
    "version": 3
   },
   "file_extension": ".py",
   "mimetype": "text/x-python",
   "name": "python",
   "nbconvert_exporter": "python",
   "pygments_lexer": "ipython3",
   "version": "3.8.3"
  }
 },
 "nbformat": 4,
 "nbformat_minor": 4
}
