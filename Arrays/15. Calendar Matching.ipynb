{
 "cells": [
  {
   "cell_type": "markdown",
   "metadata": {},
   "source": [
    "# You are given list of two calendar times where two individuals are busy and you are given two dailybounds of the two individuals, find the time interval where the two individuals can have a meeting for the given time duration."
   ]
  },
  {
   "cell_type": "code",
   "execution_count": 1,
   "metadata": {},
   "outputs": [],
   "source": [
    "# O(c1 + c2)T / O(c1 + c2)S\n",
    "\n",
    "def calendar_Matching(calendar1, dailyBounds1, calendar2, dailyBounds2, meetingDuration):\n",
    "    updatedCalendar1 = updateCalendar(calendar1, dailyBounds1)\n",
    "    updatedCalendar2 = updateCalendar(calendar2, dailyBounds2)\n",
    "    mergedCalendar = mergeCalendars(updatedCalendar1, updatedCalendar2)\n",
    "    flattenedCalendar = flattenCalendar(mergedCalendar)\n",
    "    \n",
    "    return getMatchingAvailabilities(flattenedCalendar, meetingDuration)\n",
    "\n",
    "def updateCalendar(calendar, dailyBounds):\n",
    "    updatedCalendar = calendar[:]\n",
    "    updatedCalendar.insert(0, [\"0:00\", dailyBounds[0]])\n",
    "    updatedCalendar.append([dailyBounds[1], \"23:59\"])\n",
    "    \n",
    "    return list(map(lambda m: [timeToMinutes(m[0]), timeToMinutes(m[1])], updatedCalendar))\n",
    "\n",
    "def mergeCalendars(calendar1, calendar2):\n",
    "    merged = []\n",
    "    i, j = 0, 0\n",
    "    \n",
    "    while i < len(calendar1) and j < len(calendar2):\n",
    "        meeting1, meeting2 = calendar1[i], calendar2[j]\n",
    "        \n",
    "        if meeting1[0] < meeting2[0]:\n",
    "            merged.append(meeting1)\n",
    "            i += 1\n",
    "        else:\n",
    "            merged.append(meeting2)\n",
    "            j += 1\n",
    "    \n",
    "    while i < len(calendar1):\n",
    "        meeting1 = calendar1[i]\n",
    "        merged.append(meeting1)\n",
    "        i += 1\n",
    "    \n",
    "    while j < len(calendar2):\n",
    "        meeting2 = calendar2[i]\n",
    "        merged.append(meeting2)\n",
    "        j += 1\n",
    "    \n",
    "    return merged\n",
    "\n",
    "def flattenCalendar(calendar):\n",
    "    flattened = [calendar[0][:]]\n",
    "    \n",
    "    for i in range(len(calendar)):\n",
    "        currentMeeting = calendar[i]\n",
    "        previousMeeting = flattened[-1]\n",
    "        currentStart, currentEnd = currentMeeting\n",
    "        previousStart, previousEnd = previousMeeting\n",
    "        \n",
    "        if previousEnd >= currentStart:\n",
    "            newPreviousMeeting = [previousStart, max(previousEnd, currentEnd)]\n",
    "            flattened[-1] = newPreviousMeeting\n",
    "        else:\n",
    "            flattened.append(currentMeeting[:])\n",
    "    \n",
    "    return flattened\n",
    "\n",
    "def getMatchingAvailabilities(calendar, meetingDuration):\n",
    "    matchingAvailabilities = []\n",
    "    \n",
    "    for i in range(1, len(calendar)):\n",
    "        start = calendar[i-1][1]\n",
    "        end = calendar[i][0]\n",
    "        availabilityDuration = end - start\n",
    "        \n",
    "        if availabilityDuration >= meetingDuration:\n",
    "            matchingAvailabilities.append([start, end])\n",
    "    \n",
    "    return list(map(lambda m: [minutesToTime(m[0]), minutesToTime(m[1])], matchingAvailabilities))\n",
    "\n",
    "def minutesToTime(minutes):\n",
    "    hours = minutes//60\n",
    "    mins = minutes%60\n",
    "    hoursString = str(hours)\n",
    "    minutesString = '0'+str(mins) if mins<10 else str(mins)\n",
    "    \n",
    "    return hoursString + ':' + minutesString\n",
    "\n",
    "def timeToMinutes(time):\n",
    "    hours, minutes = list(map(int, time.split(\":\")))\n",
    "    \n",
    "    return hours * 60 + minutes\n"
   ]
  },
  {
   "cell_type": "code",
   "execution_count": 2,
   "metadata": {},
   "outputs": [],
   "source": [
    "calendar1 = [[\"9:00\", \"10:30\"], [\"12:00\", \"13:00\"], [\"16:00\", \"18:00\"]]\n",
    "dailyBounds1 = [\"9:00\", \"20:00\"]\n",
    "calendar2 = [[\"10:00\", \"11:30\"], [\"12:30\", \"14:30\"], [\"14:30\", \"15:00\"],[\"16:00\", \"17:00\"]]\n",
    "dailyBounds2 = [\"10:00\", \"18:30\"]\n",
    "meetingDuration = 30"
   ]
  },
  {
   "cell_type": "code",
   "execution_count": 3,
   "metadata": {},
   "outputs": [
    {
     "data": {
      "text/plain": [
       "[['11:30', '12:00'], ['15:00', '16:00'], ['18:00', '18:30']]"
      ]
     },
     "execution_count": 3,
     "metadata": {},
     "output_type": "execute_result"
    }
   ],
   "source": [
    "calendar_Matching(calendar1, dailyBounds1, calendar2, dailyBounds2, meetingDuration)"
   ]
  },
  {
   "cell_type": "code",
   "execution_count": null,
   "metadata": {},
   "outputs": [],
   "source": []
  }
 ],
 "metadata": {
  "kernelspec": {
   "display_name": "Python 3",
   "language": "python",
   "name": "python3"
  },
  "language_info": {
   "codemirror_mode": {
    "name": "ipython",
    "version": 3
   },
   "file_extension": ".py",
   "mimetype": "text/x-python",
   "name": "python",
   "nbconvert_exporter": "python",
   "pygments_lexer": "ipython3",
   "version": "3.8.3"
  }
 },
 "nbformat": 4,
 "nbformat_minor": 4
}
