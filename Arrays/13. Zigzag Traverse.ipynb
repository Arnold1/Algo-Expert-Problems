{
 "cells": [
  {
   "cell_type": "markdown",
   "metadata": {},
   "source": [
    "# Given a two dimensional array, traverse it in a zigzag pattern."
   ]
  },
  {
   "cell_type": "code",
   "execution_count": 1,
   "metadata": {},
   "outputs": [],
   "source": [
    "def zigzag_Traverse(array):  \n",
    "    height = len(array)-1\n",
    "    width = len(array[0])-1\n",
    "    row, col = 0, 0\n",
    "    result = []\n",
    "    \n",
    "    goingDown = True\n",
    "\n",
    "    while not isOutOfBounds(row, col, height, width):\n",
    "        result.append(array[row][col])\n",
    "        \n",
    "        if goingDown:\n",
    "            if col == 0 or row == height:\n",
    "                goingDown = False\n",
    "                if row == height:\n",
    "                    col += 1\n",
    "                else:\n",
    "                    row += 1\n",
    "            else:\n",
    "                row += 1\n",
    "                col -= 1\n",
    "        else:\n",
    "            if row == 0 or col == width:\n",
    "                goingDown = True\n",
    "                if col == width:\n",
    "                    row += 1\n",
    "                else:\n",
    "                    col += 1\n",
    "            else:\n",
    "                row -= 1\n",
    "                col += 1\n",
    "                \n",
    "    return result\n",
    "\n",
    "def isOutOfBounds(row, col, height, width):\n",
    "    return row < 0 or row > height or col < 0 or col > width"
   ]
  },
  {
   "cell_type": "code",
   "execution_count": 2,
   "metadata": {},
   "outputs": [],
   "source": [
    "array = [[1,3,4,10],[2,5,9,11],[6,8,12,15],[7,13,14,16]]"
   ]
  },
  {
   "cell_type": "code",
   "execution_count": 3,
   "metadata": {},
   "outputs": [
    {
     "data": {
      "text/plain": [
       "[1, 2, 3, 4, 5, 6, 7, 8, 9, 10, 11, 12, 13, 14, 15, 16]"
      ]
     },
     "execution_count": 3,
     "metadata": {},
     "output_type": "execute_result"
    }
   ],
   "source": [
    "zigzag_Traverse(array)"
   ]
  },
  {
   "cell_type": "code",
   "execution_count": null,
   "metadata": {},
   "outputs": [],
   "source": []
  },
  {
   "cell_type": "code",
   "execution_count": null,
   "metadata": {},
   "outputs": [],
   "source": []
  }
 ],
 "metadata": {
  "kernelspec": {
   "display_name": "Python 3",
   "language": "python",
   "name": "python3"
  },
  "language_info": {
   "codemirror_mode": {
    "name": "ipython",
    "version": 3
   },
   "file_extension": ".py",
   "mimetype": "text/x-python",
   "name": "python",
   "nbconvert_exporter": "python",
   "pygments_lexer": "ipython3",
   "version": "3.8.3"
  }
 },
 "nbformat": 4,
 "nbformat_minor": 4
}
