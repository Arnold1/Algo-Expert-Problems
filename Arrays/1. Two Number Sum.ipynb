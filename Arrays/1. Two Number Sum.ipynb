{
 "cells": [
  {
   "cell_type": "markdown",
   "metadata": {},
   "source": [
    "# Given a list and a target value, find if there are two numbers in the list that sum up to the target value."
   ]
  },
  {
   "cell_type": "code",
   "execution_count": 1,
   "metadata": {},
   "outputs": [],
   "source": [
    "# Brute Force Method... O(n^2)T / O(1)S\n",
    "\n",
    "def two_Number_Sum1(array, target):\n",
    "    \n",
    "    for i in range(len(array)-1):\n",
    "        first_Num = array[i]\n",
    "        for j in range(i+1, len(array)):\n",
    "            second_Num = array[j]\n",
    "            if first_Num + second_Num == target:\n",
    "                return [first_Num, second_Num]\n",
    "    \n",
    "    return []"
   ]
  },
  {
   "cell_type": "code",
   "execution_count": 2,
   "metadata": {},
   "outputs": [
    {
     "data": {
      "text/plain": [
       "[11, -1]"
      ]
     },
     "execution_count": 2,
     "metadata": {},
     "output_type": "execute_result"
    }
   ],
   "source": [
    "arr = [3, 5, -4, 8, 11, 1, -1, 6] \n",
    "target = 10\n",
    "\n",
    "two_Number_Sum1(arr, target)"
   ]
  },
  {
   "cell_type": "code",
   "execution_count": 3,
   "metadata": {},
   "outputs": [],
   "source": [
    "# Using Hash Table... O(n)T / O(n)S\n",
    "\n",
    "def two_Number_Sum2(array, target):\n",
    "    nums = {}\n",
    "    for num in array:\n",
    "        match = target - num\n",
    "        if match in nums:\n",
    "            return [match, num]\n",
    "        else:\n",
    "            nums[num] = True\n",
    "    \n",
    "    return []"
   ]
  },
  {
   "cell_type": "code",
   "execution_count": 4,
   "metadata": {},
   "outputs": [
    {
     "data": {
      "text/plain": [
       "[11, -1]"
      ]
     },
     "execution_count": 4,
     "metadata": {},
     "output_type": "execute_result"
    }
   ],
   "source": [
    "arr = [3, 5, -4, 8, 11, 1, -1, 6] \n",
    "target = 10\n",
    "\n",
    "two_Number_Sum2(arr, target)"
   ]
  },
  {
   "cell_type": "code",
   "execution_count": 5,
   "metadata": {},
   "outputs": [],
   "source": [
    "# Using Two Pointers... O(nlog(n))T / O(1)S\n",
    "\n",
    "def two_Number_Sum3(array, target):\n",
    "    array.sort()\n",
    "    left = 0\n",
    "    right = len(array)-1\n",
    "    \n",
    "    while left < right:\n",
    "        current_Sum = array[left]+array[right]\n",
    "        if current_Sum == target:\n",
    "            return [array[left], array[right]]\n",
    "        elif current_Sum < target:\n",
    "            left += 1\n",
    "        elif current_Sum > target:\n",
    "            right -= 1\n",
    "    \n",
    "    return [ ]"
   ]
  },
  {
   "cell_type": "code",
   "execution_count": 6,
   "metadata": {},
   "outputs": [
    {
     "data": {
      "text/plain": [
       "[-1, 11]"
      ]
     },
     "execution_count": 6,
     "metadata": {},
     "output_type": "execute_result"
    }
   ],
   "source": [
    "arr = [3, 5, -4, 8, 11, 1, -1, 6] \n",
    "target = 10\n",
    "\n",
    "two_Number_Sum3(arr, target)"
   ]
  },
  {
   "cell_type": "code",
   "execution_count": null,
   "metadata": {},
   "outputs": [],
   "source": []
  }
 ],
 "metadata": {
  "kernelspec": {
   "display_name": "Python 3",
   "language": "python",
   "name": "python3"
  },
  "language_info": {
   "codemirror_mode": {
    "name": "ipython",
    "version": 3
   },
   "file_extension": ".py",
   "mimetype": "text/x-python",
   "name": "python",
   "nbconvert_exporter": "python",
   "pygments_lexer": "ipython3",
   "version": "3.8.3"
  }
 },
 "nbformat": 4,
 "nbformat_minor": 4
}
