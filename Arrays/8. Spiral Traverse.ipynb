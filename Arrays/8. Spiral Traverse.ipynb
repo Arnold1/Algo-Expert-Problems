{
 "cells": [
  {
   "cell_type": "markdown",
   "metadata": {},
   "source": [
    "# Given a two dimensional array, traverse it in a spiral."
   ]
  },
  {
   "cell_type": "code",
   "execution_count": 9,
   "metadata": {},
   "outputs": [],
   "source": [
    "# Iterative sol... O(n)T / O(n)S \n",
    "\n",
    "def spiral_Traverse(array):\n",
    "    result = []\n",
    "    \n",
    "    startRow, endRow = 0, len(array)-1\n",
    "    startCol, endCol = 0, len(array[0])-1\n",
    "    \n",
    "    while startRow <= endRow and startCol <= endCol:\n",
    "        for col in range(startCol, endCol+1):\n",
    "            result.append(array[startRow][col])\n",
    "        \n",
    "        for row in range(startRow+1, endRow+1):\n",
    "            result.append(array[row][endCol])\n",
    "        \n",
    "        for col in reversed(range(startCol,endCol)):\n",
    "            result.append(array[endRow][col])\n",
    "        \n",
    "        for row in reversed(range(startRow+1, endRow)):\n",
    "            result.append(array[row][startCol])\n",
    "        \n",
    "        startCol += 1\n",
    "        endCol -= 1\n",
    "        startRow += 1\n",
    "        endRow -= 1\n",
    "    \n",
    "    return result"
   ]
  },
  {
   "cell_type": "code",
   "execution_count": 10,
   "metadata": {},
   "outputs": [],
   "source": [
    "array = [[1,2,3,4],[12,13,14,5],[11,16,15,6],[10,9,8,7]]"
   ]
  },
  {
   "cell_type": "code",
   "execution_count": 11,
   "metadata": {},
   "outputs": [
    {
     "data": {
      "text/plain": [
       "[1, 2, 3, 4, 5, 6, 7, 8, 9, 10, 11, 12, 13, 14, 15, 16]"
      ]
     },
     "execution_count": 11,
     "metadata": {},
     "output_type": "execute_result"
    }
   ],
   "source": [
    "spiral_Traverse(array)"
   ]
  },
  {
   "cell_type": "code",
   "execution_count": 17,
   "metadata": {},
   "outputs": [
    {
     "name": "stdout",
     "output_type": "stream",
     "text": [
      "7.01 µs ± 366 ns per loop (mean ± std. dev. of 7 runs, 100000 loops each)\n"
     ]
    }
   ],
   "source": [
    "timeit(spiral_Traverse(array))"
   ]
  },
  {
   "cell_type": "code",
   "execution_count": 13,
   "metadata": {},
   "outputs": [],
   "source": [
    "# Recursive sol... O(n)T / O(n)S\n",
    "\n",
    "def spiral_Traverse_Recursive(array):\n",
    "    result = []\n",
    "    \n",
    "    startRow, endRow = 0, len(array)-1\n",
    "    startCol, endCol = 0, len(array[0])-1\n",
    "    \n",
    "    spiralFill(array, startRow, endRow, startCol, endCol, result)\n",
    "    \n",
    "    return result\n",
    "\n",
    "def spiralFill(array, startRow, endRow, startCol, endCol, result):\n",
    "    if startRow > endRow or startCol > endCol:\n",
    "        return \n",
    "    \n",
    "    for col in range(startCol, endCol+1):\n",
    "            result.append(array[startRow][col])\n",
    "        \n",
    "    for row in range(startRow+1, endRow+1):\n",
    "        result.append(array[row][endCol])\n",
    "\n",
    "    for col in reversed(range(startCol,endCol)):\n",
    "        result.append(array[endRow][col])\n",
    "\n",
    "    for row in reversed(range(startRow+1, endRow)):\n",
    "        result.append(array[row][startCol])\n",
    "    \n",
    "    spiralFill(array, startRow+1, endRow-1, startCol+1, endCol-1, result)\n",
    "        "
   ]
  },
  {
   "cell_type": "code",
   "execution_count": 14,
   "metadata": {},
   "outputs": [],
   "source": [
    "array = [[1,2,3,4],[12,13,14,5],[11,16,15,6],[10,9,8,7]]"
   ]
  },
  {
   "cell_type": "code",
   "execution_count": 15,
   "metadata": {},
   "outputs": [
    {
     "data": {
      "text/plain": [
       "[1, 2, 3, 4, 5, 6, 7, 8, 9, 10, 11, 12, 13, 14, 15, 16]"
      ]
     },
     "execution_count": 15,
     "metadata": {},
     "output_type": "execute_result"
    }
   ],
   "source": [
    "spiral_Traverse_Recursive(array)"
   ]
  },
  {
   "cell_type": "code",
   "execution_count": 16,
   "metadata": {},
   "outputs": [
    {
     "name": "stdout",
     "output_type": "stream",
     "text": [
      "7.11 µs ± 372 ns per loop (mean ± std. dev. of 7 runs, 100000 loops each)\n"
     ]
    }
   ],
   "source": [
    "timeit(spiral_Traverse_Recursive(array))"
   ]
  },
  {
   "cell_type": "code",
   "execution_count": null,
   "metadata": {},
   "outputs": [],
   "source": []
  }
 ],
 "metadata": {
  "kernelspec": {
   "display_name": "Python 3",
   "language": "python",
   "name": "python3"
  },
  "language_info": {
   "codemirror_mode": {
    "name": "ipython",
    "version": 3
   },
   "file_extension": ".py",
   "mimetype": "text/x-python",
   "name": "python",
   "nbconvert_exporter": "python",
   "pygments_lexer": "ipython3",
   "version": "3.8.3"
  }
 },
 "nbformat": 4,
 "nbformat_minor": 4
}
