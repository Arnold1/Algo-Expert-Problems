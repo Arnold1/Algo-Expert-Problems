{
 "cells": [
  {
   "cell_type": "markdown",
   "metadata": {},
   "source": [
    "# Find if the given array is monotonic. i.e, if it's either non-decreasing or non-increasing."
   ]
  },
  {
   "cell_type": "code",
   "execution_count": 1,
   "metadata": {},
   "outputs": [],
   "source": [
    "# O(n)T / O(1)S\n",
    "\n",
    "def is_Monotonic1(array):\n",
    "    isNonDecreasing = True\n",
    "    isNonIncreasing = True\n",
    "    \n",
    "    for i in range(1, len(array)):\n",
    "        if array[i] < array[i-1]:\n",
    "            isNonDecreasing = False\n",
    "        \n",
    "        if array[i] > array[i-1]:\n",
    "            isNonIncreasing = False\n",
    "    \n",
    "    return isNonDecreasing or isNonIncreasing"
   ]
  },
  {
   "cell_type": "code",
   "execution_count": 2,
   "metadata": {},
   "outputs": [],
   "source": [
    "array = [-1,-5,-10,-1100,-1100,-1101,-1102,-9001]"
   ]
  },
  {
   "cell_type": "code",
   "execution_count": 3,
   "metadata": {},
   "outputs": [
    {
     "data": {
      "text/plain": [
       "True"
      ]
     },
     "execution_count": 3,
     "metadata": {},
     "output_type": "execute_result"
    }
   ],
   "source": [
    "is_Monotonic1(array)"
   ]
  },
  {
   "cell_type": "code",
   "execution_count": 4,
   "metadata": {},
   "outputs": [
    {
     "name": "stdout",
     "output_type": "stream",
     "text": [
      "2.62 µs ± 269 ns per loop (mean ± std. dev. of 7 runs, 100000 loops each)\n"
     ]
    }
   ],
   "source": [
    "timeit(is_Monotonic1(array))"
   ]
  },
  {
   "cell_type": "code",
   "execution_count": 5,
   "metadata": {},
   "outputs": [],
   "source": [
    "# O(n)T / O(1)S\n",
    "\n",
    "def is_Monotonic2(array):\n",
    "    if len(array) <= 2:\n",
    "        return True\n",
    "    \n",
    "    direction = array[1] - array[0]\n",
    "    \n",
    "    for i in range(2, len(array)):\n",
    "        if direction == 0:\n",
    "            direction = array[i]- array[i-1]\n",
    "            continue\n",
    "        \n",
    "        if breakDirection(direction, array[i-1], array[i]):\n",
    "            return False\n",
    "        \n",
    "    return True\n",
    "\n",
    "def breakDirection(direction, previousInt, currentInt):\n",
    "    difference = currentInt - previousInt\n",
    "    \n",
    "    if direction > 0:\n",
    "        return difference < 0\n",
    "    \n",
    "    return difference > 0"
   ]
  },
  {
   "cell_type": "code",
   "execution_count": 6,
   "metadata": {},
   "outputs": [
    {
     "data": {
      "text/plain": [
       "True"
      ]
     },
     "execution_count": 6,
     "metadata": {},
     "output_type": "execute_result"
    }
   ],
   "source": [
    "is_Monotonic2(array)"
   ]
  },
  {
   "cell_type": "code",
   "execution_count": 7,
   "metadata": {},
   "outputs": [
    {
     "name": "stdout",
     "output_type": "stream",
     "text": [
      "3.15 µs ± 644 ns per loop (mean ± std. dev. of 7 runs, 100000 loops each)\n"
     ]
    }
   ],
   "source": [
    "timeit(is_Monotonic2(array))"
   ]
  },
  {
   "cell_type": "code",
   "execution_count": null,
   "metadata": {},
   "outputs": [],
   "source": []
  }
 ],
 "metadata": {
  "kernelspec": {
   "display_name": "Python 3",
   "language": "python",
   "name": "python3"
  },
  "language_info": {
   "codemirror_mode": {
    "name": "ipython",
    "version": 3
   },
   "file_extension": ".py",
   "mimetype": "text/x-python",
   "name": "python",
   "nbconvert_exporter": "python",
   "pygments_lexer": "ipython3",
   "version": "3.8.3"
  }
 },
 "nbformat": 4,
 "nbformat_minor": 4
}
