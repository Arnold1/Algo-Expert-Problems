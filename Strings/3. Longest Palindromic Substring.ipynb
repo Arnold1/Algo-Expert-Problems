{
 "cells": [
  {
   "cell_type": "markdown",
   "metadata": {},
   "source": [
    "# Given a string, find the longest substring that is a palindrome."
   ]
  },
  {
   "cell_type": "code",
   "execution_count": 1,
   "metadata": {},
   "outputs": [],
   "source": [
    "# O(n^2)T / O(1)S\n",
    "\n",
    "def longestPalindromicSubstring(string):\n",
    "    currentLongest = [0, 1]\n",
    "    \n",
    "    for i in range(1, len(string)):\n",
    "        odd = getLongestPalindromeFrom(string, i - 1, i + 1)\n",
    "        even = getLongestPalindromeFrom(string, i - 1, i)\n",
    "        longest = max(odd, even, key = lambda x: x[1] - x[0])\n",
    "        currentLongest = max(longest, currentLongest, key = lambda x: x[1] - x[0])\n",
    "        \n",
    "    return string[currentLongest[0]:currentLongest[1]]\n",
    "\n",
    "def getLongestPalindromeFrom(string, leftIdx, rightIdx):\n",
    "    while leftIdx >= 0 and rightIdx < len(string):\n",
    "        if string[leftIdx] != string[rightIdx]:\n",
    "            break\n",
    "            \n",
    "        leftIdx -= 1\n",
    "        rightIdx += 1\n",
    "        \n",
    "    return [leftIdx + 1, rightIdx]"
   ]
  },
  {
   "cell_type": "code",
   "execution_count": 2,
   "metadata": {},
   "outputs": [
    {
     "data": {
      "text/plain": [
       "'xyzzyx'"
      ]
     },
     "execution_count": 2,
     "metadata": {},
     "output_type": "execute_result"
    }
   ],
   "source": [
    "longestPalindromicSubstring('abaxyzzyxf')"
   ]
  },
  {
   "cell_type": "code",
   "execution_count": null,
   "metadata": {},
   "outputs": [],
   "source": []
  }
 ],
 "metadata": {
  "kernelspec": {
   "display_name": "Python 3",
   "language": "python",
   "name": "python3"
  },
  "language_info": {
   "codemirror_mode": {
    "name": "ipython",
    "version": 3
   },
   "file_extension": ".py",
   "mimetype": "text/x-python",
   "name": "python",
   "nbconvert_exporter": "python",
   "pygments_lexer": "ipython3",
   "version": "3.8.3"
  }
 },
 "nbformat": 4,
 "nbformat_minor": 4
}
