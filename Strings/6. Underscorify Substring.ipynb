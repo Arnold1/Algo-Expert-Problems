{
 "cells": [
  {
   "cell_type": "markdown",
   "metadata": {},
   "source": [
    "# Given a String and a Substring, write a function that will find every instance of the Substring in the String and return a new string which is basically the main string with underscores '_' wrapped around every instance of the substring. Note: If the instances of substring in the main string overlaps itself or comes immediately next to one another, then wrap the underscore on each ends of that group."
   ]
  },
  {
   "cell_type": "code",
   "execution_count": null,
   "metadata": {},
   "outputs": [],
   "source": [
    "\"\"\"\n",
    "    Sample Input: 'test is a test', 'test'\n",
    "    Sample Output: '_test_ is a _test_'\n",
    "\n",
    "    Sample Input: 'it is a testtest', 'test'\n",
    "    Sample Output: 'it is a _testtest_'\n",
    "    \n",
    "    Sample Input: 'it is a testestest', 'test'\n",
    "    Sample Output: 'it is a _testestest_'\n",
    "\"\"\""
   ]
  },
  {
   "cell_type": "code",
   "execution_count": 1,
   "metadata": {},
   "outputs": [],
   "source": [
    "# O(n + m)T / O(n)S\n",
    "\n",
    "def underscorifySubstring(string, substring):\n",
    "    locations = collapse(getLocation(string, substring))\n",
    "    \n",
    "    return underscorify(string, locations)\n",
    "\n",
    "def getLocation(string, substring):\n",
    "    locations = []\n",
    "    startIdx = 0\n",
    "    \n",
    "    while startIdx < len(string):\n",
    "        nextIdx = string.find(substring, startIdx)\n",
    "        \n",
    "        if nextIdx != -1:\n",
    "            locations.append([nextIdx, nextIdx + len(substring)])\n",
    "            startIdx = nextIdx + 1\n",
    "        else:\n",
    "            break\n",
    "            \n",
    "    return locations\n",
    "\n",
    "def collapse(locations):\n",
    "    if not len(locations):\n",
    "        return locations\n",
    "    \n",
    "    newLocations = [locations[0]]\n",
    "    previous = newLocations[0]\n",
    "    \n",
    "    for i in range(1, len(locations)):\n",
    "        current = locations[i]\n",
    "        \n",
    "        if current[0] <= previous[1]:\n",
    "            previous[1] = current[1]\n",
    "        else:\n",
    "            newLocations.append(current)\n",
    "            previous = current\n",
    "            \n",
    "    finalLocations = []\n",
    "    \n",
    "    for location in newLocations:\n",
    "        a, b = location\n",
    "        finalLocations.append(a)\n",
    "        finalLocations.append(b)\n",
    "            \n",
    "    return finalLocations\n",
    "\n",
    "def underscorify(string, locations):\n",
    "    stringIdx = 0\n",
    "    i = 0\n",
    "    finalArray = []\n",
    "    \n",
    "    for j, char in enumerate(string):\n",
    "        if i < len(locations) and j == locations[i]:\n",
    "            finalArray.append('_')\n",
    "            i += 1\n",
    "            \n",
    "        finalArray.append(char)\n",
    "        \n",
    "    return ''.join(finalArray)"
   ]
  },
  {
   "cell_type": "code",
   "execution_count": 2,
   "metadata": {},
   "outputs": [
    {
     "data": {
      "text/plain": [
       "'_test_this is a _testtest_ to see if _testestest_ it works'"
      ]
     },
     "execution_count": 2,
     "metadata": {},
     "output_type": "execute_result"
    }
   ],
   "source": [
    "string = 'testthis is a testtest to see if testestest it works'\n",
    "subString = 'test'\n",
    "\n",
    "underscorifySubstring(string, subString)"
   ]
  },
  {
   "cell_type": "code",
   "execution_count": null,
   "metadata": {},
   "outputs": [],
   "source": []
  }
 ],
 "metadata": {
  "kernelspec": {
   "display_name": "Python 3",
   "language": "python",
   "name": "python3"
  },
  "language_info": {
   "codemirror_mode": {
    "name": "ipython",
    "version": 3
   },
   "file_extension": ".py",
   "mimetype": "text/x-python",
   "name": "python",
   "nbconvert_exporter": "python",
   "pygments_lexer": "ipython3",
   "version": "3.8.3"
  }
 },
 "nbformat": 4,
 "nbformat_minor": 4
}
