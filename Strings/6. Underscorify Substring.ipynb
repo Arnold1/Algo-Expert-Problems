{
 "cells": [
  {
   "cell_type": "markdown",
   "metadata": {},
   "source": [
    "# Given a String and a Substring, write a function that will find every instance of the Substring in the String and return a new string which is basically the main string with underscores '_' wrapped around every instance of the substring. Note: If the instances of substring in the main string overlaps itself or comes immediately next to one another, then wrap the underscore on each ends of that group."
   ]
  },
  {
   "cell_type": "code",
   "execution_count": null,
   "metadata": {},
   "outputs": [],
   "source": [
    "\"\"\"\n",
    "    Sample Input: 'test is a test', 'test'\n",
    "    Sample Output: '_test_ is a _test_'\n",
    "\n",
    "    Sample Input: 'it is a testtest', 'test'\n",
    "    Sample Output: 'it is a _testtest_'\n",
    "    \n",
    "    Sample Input: 'it is a testestest', 'test'\n",
    "    Sample Output: 'it is a _testestest_'\n",
    "\"\"\""
   ]
  },
  {
   "cell_type": "code",
   "execution_count": 1,
   "metadata": {},
   "outputs": [],
   "source": [
    "# O(n + m)T / O(n)S\n",
    "\n",
    "def underscorifySubstring(string, substring):\n",
    "    locations = collapse(getLocation(string, substring))\n",
    "    \n",
    "    return underscorify(string, locations)\n",
    "\n",
    "def getLocation(string, substring):\n",
    "    locations = []\n",
    "    startIdx = 0\n",
    "    \n",
    "    while startIdx < len(string):\n",
    "        nextIdx = string.find(substring, startIdx)\n",
    "        \n",
    "        if nextIdx != -1:\n",
    "            locations.append([nextIdx, nextIdx + len(substring)])\n",
    "            startIdx = nextIdx + 1\n",
    "        else:\n",
    "            break\n",
    "            \n",
    "    return locations\n",
    "\n",
    "def collapse(locations):\n",
    "    if not len(locations):\n",
    "        return locations\n",
    "    \n",
    "    newLocations = [locations[0]]\n",
    "    previous = newLocations[0]\n",
    "    \n",
    "    for i in range(1, len(locations)):\n",
    "        current = locations[i]\n",
    "        \n",
    "        if current[0] <= previous[1]:\n",
    "            previous[1] = current[1]\n",
    "        else:\n",
    "            newLocations.append(current)\n",
    "            previous = current\n",
    "            \n",
    "    return newLocations\n",
    "\n",
    "def underscorify(string, locations):\n",
    "    locationIdx = 0\n",
    "    stringIdx = 0\n",
    "    inBetweenUnderscores = False\n",
    "    finalChars = []\n",
    "    i = 0\n",
    "    \n",
    "    while stringIdx < len(string) and locationIdx < len(locations):\n",
    "        if stringIdx == locations[locationIdx][i]:\n",
    "            finalChars.append('_')\n",
    "            inBetweenUnderscores = not inBetweenUnderscores\n",
    "            \n",
    "            if not inBetweenUnderscores:\n",
    "                locationIdx += 1\n",
    "                \n",
    "            i = 0 if i == 1 else 1\n",
    "            \n",
    "        finalChars.append(string[stringIdx])\n",
    "        stringIdx += 1\n",
    "        \n",
    "    if locationIdx < len(locations):\n",
    "        finalChars.append('_')\n",
    "    elif stringIdx < len(string):\n",
    "        finalChars.append(string[stringIdx:])\n",
    "        \n",
    "    return ''.join(finalChars)"
   ]
  },
  {
   "cell_type": "code",
   "execution_count": 2,
   "metadata": {},
   "outputs": [
    {
     "data": {
      "text/plain": [
       "'_test_this is a _testtest_ to see if _testestest_ it works'"
      ]
     },
     "execution_count": 2,
     "metadata": {},
     "output_type": "execute_result"
    }
   ],
   "source": [
    "string = 'testthis is a testtest to see if testestest it works'\n",
    "subString = 'test'\n",
    "\n",
    "underscorifySubstring(string, subString)"
   ]
  },
  {
   "cell_type": "code",
   "execution_count": 3,
   "metadata": {},
   "outputs": [
    {
     "data": {
      "text/plain": [
       "'_tttttttt_'"
      ]
     },
     "execution_count": 3,
     "metadata": {},
     "output_type": "execute_result"
    }
   ],
   "source": [
    "string = 'tttttttt'\n",
    "subString = 't'\n",
    "\n",
    "underscorifySubstring(string, subString)"
   ]
  },
  {
   "cell_type": "code",
   "execution_count": null,
   "metadata": {},
   "outputs": [],
   "source": []
  }
 ],
 "metadata": {
  "kernelspec": {
   "display_name": "Python 3",
   "language": "python",
   "name": "python3"
  },
  "language_info": {
   "codemirror_mode": {
    "name": "ipython",
    "version": 3
   },
   "file_extension": ".py",
   "mimetype": "text/x-python",
   "name": "python",
   "nbconvert_exporter": "python",
   "pygments_lexer": "ipython3",
   "version": "3.8.3"
  }
 },
 "nbformat": 4,
 "nbformat_minor": 4
}
