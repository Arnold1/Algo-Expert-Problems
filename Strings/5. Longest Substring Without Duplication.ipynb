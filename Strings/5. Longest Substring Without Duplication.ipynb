{
 "cells": [
  {
   "cell_type": "markdown",
   "metadata": {},
   "source": [
    "# Given a string, find the longest substring without repeating characters."
   ]
  },
  {
   "cell_type": "code",
   "execution_count": 1,
   "metadata": {},
   "outputs": [],
   "source": [
    "# O(n)T / O(min(n, a))S\n",
    "# a is length of set of unique characters in the string\n",
    "\n",
    "def longestSubstringWithoutDuplication(string):\n",
    "    lastSeen = {}\n",
    "    longest = [0, 1]\n",
    "    startIdx = 0\n",
    "    \n",
    "    for i, char in enumerate(string):\n",
    "        if char in lastSeen:\n",
    "            startIdx = max(startIdx, lastSeen[char] + 1)\n",
    "        \n",
    "        if longest[1] - longest[0] < i - startIdx + 1:\n",
    "            longest = [startIdx, i + 1]\n",
    "        \n",
    "        lastSeen[char] = i\n",
    "        \n",
    "    return string[longest[0]:longest[1]]"
   ]
  },
  {
   "cell_type": "code",
   "execution_count": 2,
   "metadata": {},
   "outputs": [
    {
     "data": {
      "text/plain": [
       "'eksforg'"
      ]
     },
     "execution_count": 2,
     "metadata": {},
     "output_type": "execute_result"
    }
   ],
   "source": [
    "longestSubstringWithoutDuplication('geeksforgeeks')"
   ]
  },
  {
   "cell_type": "code",
   "execution_count": 3,
   "metadata": {},
   "outputs": [
    {
     "data": {
      "text/plain": [
       "'abc'"
      ]
     },
     "execution_count": 3,
     "metadata": {},
     "output_type": "execute_result"
    }
   ],
   "source": [
    "longestSubstringWithoutDuplication('abcabcbb')"
   ]
  },
  {
   "cell_type": "code",
   "execution_count": null,
   "metadata": {},
   "outputs": [],
   "source": []
  }
 ],
 "metadata": {
  "kernelspec": {
   "display_name": "Python 3",
   "language": "python",
   "name": "python3"
  },
  "language_info": {
   "codemirror_mode": {
    "name": "ipython",
    "version": 3
   },
   "file_extension": ".py",
   "mimetype": "text/x-python",
   "name": "python",
   "nbconvert_exporter": "python",
   "pygments_lexer": "ipython3",
   "version": "3.8.3"
  }
 },
 "nbformat": 4,
 "nbformat_minor": 4
}
