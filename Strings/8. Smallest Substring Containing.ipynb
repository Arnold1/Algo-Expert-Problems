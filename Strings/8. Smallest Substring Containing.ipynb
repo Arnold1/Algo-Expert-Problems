{
 "cells": [
  {
   "cell_type": "markdown",
   "metadata": {},
   "source": [
    "# Given two strings, big string and a small string, find the substring of minimal length in the big string that has all the characters in the small string. Note: Characters in small string don't need to be in the same order and if there are repeating characters in small string, your substring in the big string should have all the repeating characters as well."
   ]
  },
  {
   "cell_type": "code",
   "execution_count": 1,
   "metadata": {},
   "outputs": [],
   "source": [
    "# O(b + s)T / O(b + s)S\n",
    "# b is length of bigString & s is length of smallString\n",
    "\n",
    "def smallestSubstringContaining(bigString, smallString):\n",
    "    targetCharCounts = getCharCounts(smallString)\n",
    "    substringBounds = getSubstringBounds(bigString, targetCharCounts)\n",
    "    \n",
    "    return getStringFromBounds(bigString, substringBounds)\n",
    "    \n",
    "def getCharCounts(string):\n",
    "    charCounts = {}\n",
    "    \n",
    "    for char in string:\n",
    "        increaseCharCount(char, charCounts)\n",
    "        \n",
    "    return charCounts\n",
    "\n",
    "def getSubstringBounds(string, targetCharCounts):\n",
    "    substringBounds = [0, float('inf')]\n",
    "    substringCharCounts = {}\n",
    "    numUniqueChars = len(targetCharCounts.keys())\n",
    "    numUniqueCharsDone = 0\n",
    "    leftIdx = 0\n",
    "    rightIdx = 0\n",
    "    \n",
    "    while rightIdx < len(string):\n",
    "        rightChar = string[rightIdx]\n",
    "        \n",
    "        if rightChar not in targetCharCounts:\n",
    "            rightIdx += 1\n",
    "            continue\n",
    "        \n",
    "        increaseCharCount(rightChar, substringCharCounts)\n",
    "        \n",
    "        if substringCharCounts[rightChar] == targetCharCounts[rightChar]:\n",
    "            numUniqueCharsDone += 1\n",
    "            \n",
    "        while numUniqueChars == numUniqueCharsDone and leftIdx <= rightIdx:\n",
    "            substringBounds = getCloserBounds(leftIdx, rightIdx, substringBounds[0], substringBounds[1])\n",
    "            leftChar = string[leftIdx]\n",
    "            \n",
    "            if leftChar not in targetCharCounts:\n",
    "                leftIdx += 1\n",
    "                continue\n",
    "            \n",
    "            if substringCharCounts[leftChar] == targetCharCounts[leftChar]:\n",
    "                numUniqueCharsDone -= 1\n",
    "                \n",
    "            decreaseCharCount(leftChar, substringCharCounts)\n",
    "            leftIdx += 1\n",
    "            \n",
    "        rightIdx += 1\n",
    "        \n",
    "    return substringBounds\n",
    "            \n",
    "def getCloserBounds(idx1, idx2, idx3, idx4):\n",
    "    return [idx1, idx2] if idx2 - idx1 < idx4 - idx3 else [idx3, idx4]\n",
    "\n",
    "def getStringFromBounds(string, bounds):\n",
    "    start, end = bounds\n",
    "    \n",
    "    if end == float('inf'):\n",
    "        return []\n",
    "    \n",
    "    return string[start : end + 1]\n",
    "\n",
    "def increaseCharCount(char, charCounts):\n",
    "    if char not in charCounts:\n",
    "        charCounts[char] = 0\n",
    "    \n",
    "    charCounts[char] += 1 \n",
    "    \n",
    "def decreaseCharCount(char, charCounts):\n",
    "    charCounts[char] -= 1"
   ]
  },
  {
   "cell_type": "code",
   "execution_count": 2,
   "metadata": {},
   "outputs": [
    {
     "data": {
      "text/plain": [
       "'f$axb$'"
      ]
     },
     "execution_count": 2,
     "metadata": {},
     "output_type": "execute_result"
    }
   ],
   "source": [
    "bigString = 'abcd$ef$axb$c$'\n",
    "smallString = '$$abf'\n",
    " \n",
    "smallestSubstringContaining(bigString, smallString)"
   ]
  },
  {
   "cell_type": "code",
   "execution_count": null,
   "metadata": {},
   "outputs": [],
   "source": [
    " "
   ]
  }
 ],
 "metadata": {
  "kernelspec": {
   "display_name": "Python 3",
   "language": "python",
   "name": "python3"
  },
  "language_info": {
   "codemirror_mode": {
    "name": "ipython",
    "version": 3
   },
   "file_extension": ".py",
   "mimetype": "text/x-python",
   "name": "python",
   "nbconvert_exporter": "python",
   "pygments_lexer": "ipython3",
   "version": "3.8.3"
  }
 },
 "nbformat": 4,
 "nbformat_minor": 4
}
