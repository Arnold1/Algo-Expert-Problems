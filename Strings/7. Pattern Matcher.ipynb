{
 "cells": [
  {
   "cell_type": "markdown",
   "metadata": {},
   "source": [
    "# You are given two strings, the first is a pattern which only consists of only 'x' and 'y' and the second string is a bunch of letters, figure out if the second string matches the given pattern, if yes, then return the value of x and y that matches the string."
   ]
  },
  {
   "cell_type": "code",
   "execution_count": 1,
   "metadata": {},
   "outputs": [],
   "source": [
    "# O(n^2 + m)T / O(n + m)S - n is length of string and m is length of pattern\n",
    "\n",
    "def patternMatcher(pattern, string):\n",
    "    if len(pattern) > len(string):\n",
    "        return []\n",
    "    \n",
    "    newPattern = getNewPattern(pattern)\n",
    "    didSwitch = newPattern[0] != pattern[0]\n",
    "    counts = {'x': 0, 'y': 0}\n",
    "    firstYPos = getCountsAndFirstYPos(newPattern, counts)\n",
    "    \n",
    "    if counts['y'] != 0:\n",
    "        for lenOfX in range(1, len(string)):\n",
    "            lenOfY = (len(string) - lenOfX * counts['x']) / counts['y']\n",
    "            \n",
    "            if lenOfY <= 0 or lenOfY % 1 != 0:\n",
    "                continue\n",
    "                \n",
    "            lenOfY = int(lenOfY)\n",
    "            yIdx = firstYPos * lenOfX\n",
    "            x = string[:lenOfX]\n",
    "            y = string[yIdx: yIdx + lenOfY]\n",
    "            potentialMatch = map(lambda char: x if char == 'x' else y, newPattern)\n",
    "            \n",
    "            if string == ''.join(potentialMatch):\n",
    "                return [x, y] if not didSwitch else [y, x]\n",
    "    else:\n",
    "        lenOfX = len(string) / counts['x']\n",
    "        \n",
    "        if lenOfX % 1 == 0:\n",
    "            lenOfX = int(lenOfX)\n",
    "            x = string[:lenOfX]\n",
    "            potentialMatch = map(lambda char: x, newPattern)\n",
    "            \n",
    "            if string == ''.join(potentialMatch):\n",
    "                return [x, ''] if not didSwitch else ['', x]\n",
    "    \n",
    "    return []\n",
    "\n",
    "def getNewPattern(pattern):\n",
    "    patternLetters = list(pattern)\n",
    "    \n",
    "    if pattern[0] == 'x':\n",
    "        return patternLetters\n",
    "    else:\n",
    "        return list(map(lambda char: 'x' if char == 'y' else 'y', patternLetters))\n",
    "\n",
    "def getCountsAndFirstYPos(pattern, counts):\n",
    "    firstYPos = None\n",
    "    \n",
    "    for i, char in enumerate(pattern):\n",
    "        counts[char] += 1\n",
    "        if char == 'y' and firstYPos is None:\n",
    "            firstYPos = i\n",
    "            \n",
    "    return firstYPos"
   ]
  },
  {
   "cell_type": "code",
   "execution_count": 2,
   "metadata": {},
   "outputs": [
    {
     "data": {
      "text/plain": [
       "['go', 'powerranger']"
      ]
     },
     "execution_count": 2,
     "metadata": {},
     "output_type": "execute_result"
    }
   ],
   "source": [
    "pattern = 'xxyxxy'\n",
    "string = 'gogopowerrangergogopowerranger'\n",
    "\n",
    "patternMatcher(pattern, string)"
   ]
  },
  {
   "cell_type": "code",
   "execution_count": null,
   "metadata": {},
   "outputs": [],
   "source": []
  }
 ],
 "metadata": {
  "kernelspec": {
   "display_name": "Python 3",
   "language": "python",
   "name": "python3"
  },
  "language_info": {
   "codemirror_mode": {
    "name": "ipython",
    "version": 3
   },
   "file_extension": ".py",
   "mimetype": "text/x-python",
   "name": "python",
   "nbconvert_exporter": "python",
   "pygments_lexer": "ipython3",
   "version": "3.8.3"
  }
 },
 "nbformat": 4,
 "nbformat_minor": 4
}
