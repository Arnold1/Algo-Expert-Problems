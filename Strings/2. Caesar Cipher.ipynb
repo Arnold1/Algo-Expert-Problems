{
 "cells": [
  {
   "cell_type": "markdown",
   "metadata": {},
   "source": [
    "# Given a string and an integer 'n', replace every letter in the string with the n'th letter after it in the english alphabet a to z. Note: We are given only small english alphabet letters."
   ]
  },
  {
   "cell_type": "code",
   "execution_count": 1,
   "metadata": {},
   "outputs": [],
   "source": [
    "# O(n)T / O(n)S\n",
    "\n",
    "def caesarCipher_1(string, key):\n",
    "    newLetters = []\n",
    "    newKey = key % 26\n",
    "    \n",
    "    for letter in string:\n",
    "        newLetters.append(getNewLetter(letter, newKey))\n",
    "            \n",
    "    return ''.join(newLetters)\n",
    "\n",
    "def getNewLetter(letter, key):\n",
    "    # ord function gives the unicode of a letter\n",
    "    # unicode of 'a' is 97 and 'z' is 122\n",
    "    newLetterCode = ord(letter) + key\n",
    "    \n",
    "    if newLetterCode > 122:\n",
    "        newLetterCode = 96 + (newLetterCode % 122)\n",
    "        \n",
    "    return chr(newLetterCode)"
   ]
  },
  {
   "cell_type": "code",
   "execution_count": 2,
   "metadata": {},
   "outputs": [
    {
     "data": {
      "text/plain": [
       "'zab'"
      ]
     },
     "execution_count": 2,
     "metadata": {},
     "output_type": "execute_result"
    }
   ],
   "source": [
    "caesarCipher_1('xyz', 2)"
   ]
  },
  {
   "cell_type": "code",
   "execution_count": 3,
   "metadata": {},
   "outputs": [
    {
     "data": {
      "text/plain": [
       "'bcde'"
      ]
     },
     "execution_count": 3,
     "metadata": {},
     "output_type": "execute_result"
    }
   ],
   "source": [
    "caesarCipher_1('abcd', 1)"
   ]
  },
  {
   "cell_type": "code",
   "execution_count": 4,
   "metadata": {},
   "outputs": [],
   "source": [
    "# O(n)T / O(n)S\n",
    "\n",
    "def caesarCipher_2(string, key):\n",
    "    newLetters = []\n",
    "    newKey = key % 26\n",
    "    alphabets = list('abcdefghijklmnopqrstuvwxyz')\n",
    "    \n",
    "    for letter in string:\n",
    "        newLetters.append(getNewLetter(letter, newKey, alphabets))\n",
    "            \n",
    "    return ''.join(newLetters)\n",
    "\n",
    "def getNewLetter(letter, key, alphabets):\n",
    "    # ord function gives the unicode of a letter\n",
    "    # unicode of 'a' is 97 and 'z' is 122\n",
    "    newLetterCode = alphabets.index(letter) + key\n",
    "    \n",
    "    if newLetterCode > 25:\n",
    "        newLetterCode = -1 + (newLetterCode % 25)\n",
    "        \n",
    "    return alphabets[newLetterCode]"
   ]
  },
  {
   "cell_type": "code",
   "execution_count": 5,
   "metadata": {},
   "outputs": [
    {
     "data": {
      "text/plain": [
       "'zab'"
      ]
     },
     "execution_count": 5,
     "metadata": {},
     "output_type": "execute_result"
    }
   ],
   "source": [
    "caesarCipher_2('xyz', 2)"
   ]
  },
  {
   "cell_type": "code",
   "execution_count": 6,
   "metadata": {},
   "outputs": [
    {
     "data": {
      "text/plain": [
       "'bcde'"
      ]
     },
     "execution_count": 6,
     "metadata": {},
     "output_type": "execute_result"
    }
   ],
   "source": [
    "caesarCipher_2('abcd', 1)"
   ]
  },
  {
   "cell_type": "code",
   "execution_count": null,
   "metadata": {},
   "outputs": [],
   "source": []
  }
 ],
 "metadata": {
  "kernelspec": {
   "display_name": "Python 3",
   "language": "python",
   "name": "python3"
  },
  "language_info": {
   "codemirror_mode": {
    "name": "ipython",
    "version": 3
   },
   "file_extension": ".py",
   "mimetype": "text/x-python",
   "name": "python",
   "nbconvert_exporter": "python",
   "pygments_lexer": "ipython3",
   "version": "3.8.3"
  }
 },
 "nbformat": 4,
 "nbformat_minor": 4
}
