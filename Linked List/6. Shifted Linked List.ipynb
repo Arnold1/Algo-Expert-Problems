{
 "cells": [
  {
   "cell_type": "markdown",
   "metadata": {},
   "source": [
    "# Given a linked list and a number, shift the linked list by the given number of elements. If number is positive shift to right, if number is negative shift to left."
   ]
  },
  {
   "cell_type": "code",
   "execution_count": null,
   "metadata": {},
   "outputs": [],
   "source": [
    "# O(n)T / O(1)S\n",
    "\n",
    "def shiftedLinkedList(head, k):\n",
    "    listLength = 1\n",
    "    listTail = head\n",
    "    \n",
    "    while listTail is not None:\n",
    "        listTail = listTail.next\n",
    "        listLength += 1\n",
    "        \n",
    "    offset = abs(k) % listLength\n",
    "    \n",
    "    if offset == 0:\n",
    "        return head\n",
    "    \n",
    "    newTailPosition = listLength - offset if k > 0 else offset\n",
    "    newTail = head\n",
    "    \n",
    "    for i in range(1, newTailPosition):\n",
    "        newTail = newTail.next\n",
    "        \n",
    "    newHead = newTail.next\n",
    "    newTail.next = None\n",
    "    listTail.next = head\n",
    "    \n",
    "    return newHead"
   ]
  }
 ],
 "metadata": {
  "kernelspec": {
   "display_name": "Python 3",
   "language": "python",
   "name": "python3"
  },
  "language_info": {
   "codemirror_mode": {
    "name": "ipython",
    "version": 3
   },
   "file_extension": ".py",
   "mimetype": "text/x-python",
   "name": "python",
   "nbconvert_exporter": "python",
   "pygments_lexer": "ipython3",
   "version": "3.8.3"
  }
 },
 "nbformat": 4,
 "nbformat_minor": 4
}
