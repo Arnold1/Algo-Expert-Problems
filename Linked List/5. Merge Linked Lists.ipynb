{
 "cells": [
  {
   "cell_type": "markdown",
   "metadata": {},
   "source": [
    "# Given two sorted singly linked lists, write a function to merge them into one sorted singly linked list."
   ]
  },
  {
   "cell_type": "code",
   "execution_count": null,
   "metadata": {},
   "outputs": [],
   "source": [
    "class LinkedList:\n",
    "    def __init__(self, value):\n",
    "        self.value = value\n",
    "        self.next = None"
   ]
  },
  {
   "cell_type": "code",
   "execution_count": null,
   "metadata": {},
   "outputs": [],
   "source": [
    "# Iterative Sol.. O(n + m)T / O(1)S\n",
    "\n",
    "def mergeLinkedLists(headOne, headTwo):\n",
    "    p1 = headOne\n",
    "    p1Prev = None\n",
    "    p2 = headTwo\n",
    "    \n",
    "    while p1 is not None and p2 is not None:\n",
    "        if p1.value < p2.value:\n",
    "            p1.prev = p1\n",
    "            p1 = p1.next\n",
    "        else:\n",
    "            if p1Prev is not None:\n",
    "                p1Prev.next = p2\n",
    "                \n",
    "            p1Prev = p2\n",
    "            p2 = p2.next\n",
    "            p1Prev.next = p1\n",
    "    \n",
    "    if p1 is None:\n",
    "        p1Prev.next = p2\n",
    "        \n",
    "    return headOne if headOne.value < headTwo.value else headTwo"
   ]
  },
  {
   "cell_type": "code",
   "execution_count": null,
   "metadata": {},
   "outputs": [],
   "source": [
    "# Recursive Sol.. O(n + m)T / O(n + m)S\n",
    "\n",
    "def mergeLinkedLists(headOne, headTwo):\n",
    "    recursiveMerge(headOne, headTwo, None)\n",
    "    \n",
    "    return headOne if headOne.value < headTwo.value else headTwo\n",
    "\n",
    "def recursiveMerge(p1, p2, p1Prev):\n",
    "    if p1 is None:\n",
    "        p1Prev.next = p2\n",
    "        return \n",
    "    \n",
    "    if p2 is None:\n",
    "        return\n",
    "    \n",
    "    if p1.value < p2.value:\n",
    "        recursiveMerge(p1.next, p2, p1)\n",
    "    else:\n",
    "        if p1Prev is not None:\n",
    "            p1Prev.next = p2\n",
    "        \n",
    "        newP2 = p2.next\n",
    "        p2.next = p1\n",
    "        \n",
    "        recursiveMerge(p1, newP2,p2)"
   ]
  }
 ],
 "metadata": {
  "kernelspec": {
   "display_name": "Python 3",
   "language": "python",
   "name": "python3"
  },
  "language_info": {
   "codemirror_mode": {
    "name": "ipython",
    "version": 3
   },
   "file_extension": ".py",
   "mimetype": "text/x-python",
   "name": "python",
   "nbconvert_exporter": "python",
   "pygments_lexer": "ipython3",
   "version": "3.8.3"
  }
 },
 "nbformat": 4,
 "nbformat_minor": 4
}
