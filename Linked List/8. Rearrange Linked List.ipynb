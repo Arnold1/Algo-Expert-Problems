{
 "cells": [
  {
   "cell_type": "markdown",
   "metadata": {},
   "source": [
    "# Given a linked list and a value k, rearrange the linked list around the node with given value k, such that the nodes with values less than the given value should come before the node with given value and nodes with values greater than the given value should come after the node. All the nodes in the final linked list should maintain their relative order if possible. Note: There can be multiple nodes with given value k."
   ]
  },
  {
   "cell_type": "code",
   "execution_count": null,
   "metadata": {},
   "outputs": [],
   "source": [
    "# O(n)T / O(1)S\n",
    "\n",
    "def rearrangeLinkedList(head, k):\n",
    "    smallerListHead = None\n",
    "    smallerListTail = None\n",
    "    equalListHead = None\n",
    "    equalListTail = None\n",
    "    greaterListHead = None\n",
    "    greaterListTail = None\n",
    "    \n",
    "    node = head\n",
    "    \n",
    "    while node is not None:\n",
    "        if node.value < k:\n",
    "            smallerListHead, smallerListTail = growLinkedList(smallerListHead, smallerListTail, node)\n",
    "        elif node.value > k:\n",
    "            greaterListHead, greaterListTail = growLinkedList(greaterListHead, greaterListTail, node)\n",
    "        else:\n",
    "            equalListHead, equalListTail = growLinkedList(equalListHead, equalListTail, node)\n",
    "        \n",
    "        prevNode = node\n",
    "        node = node.next\n",
    "        prevNode.next = None\n",
    "    \n",
    "    firstHead, firstTail = connectLinkedList(smallerListHead, smallerListTail, equalListHead, equalListTail)\n",
    "    finalHead, _ = connectLinkedList(firstHead, firstTail, greaterListHead, greaterListTail)\n",
    "    \n",
    "    return finalHead\n",
    "    \n",
    "def growLinkedList(head, tail, node):\n",
    "    newHead = head\n",
    "    newTail = node\n",
    "    \n",
    "    if newHead is None:\n",
    "        newHead = node\n",
    "        \n",
    "    if tail is not None:\n",
    "        tail.next = node\n",
    "        \n",
    "    return (newHead, newTail)\n",
    "\n",
    "def connectLinkedList(headOne, tailOne, headTwo, tailTwo):\n",
    "    newHead = headTwo if headOne is None else headOne\n",
    "    newTail = tailOne if tailTwo is None else tailTwo\n",
    "    \n",
    "    if tailOne is not None:\n",
    "        tailOne.next = headTwo\n",
    "        \n",
    "    return (newHead, newTail)"
   ]
  }
 ],
 "metadata": {
  "kernelspec": {
   "display_name": "Python 3",
   "language": "python",
   "name": "python3"
  },
  "language_info": {
   "codemirror_mode": {
    "name": "ipython",
    "version": 3
   },
   "file_extension": ".py",
   "mimetype": "text/x-python",
   "name": "python",
   "nbconvert_exporter": "python",
   "pygments_lexer": "ipython3",
   "version": "3.8.3"
  }
 },
 "nbformat": 4,
 "nbformat_minor": 4
}
