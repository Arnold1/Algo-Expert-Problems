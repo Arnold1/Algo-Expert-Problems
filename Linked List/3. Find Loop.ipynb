{
 "cells": [
  {
   "cell_type": "markdown",
   "metadata": {},
   "source": [
    "# In the given singly linked list, there is a loop i.e the tail of linked list points to another node in the linked list instead of a null value. Find the origins of the loop."
   ]
  },
  {
   "cell_type": "code",
   "execution_count": null,
   "metadata": {},
   "outputs": [],
   "source": [
    "# O(n)T / O(1)S\n",
    "\n",
    "def findLoop(head):\n",
    "    first = head.next\n",
    "    second = head.next.next\n",
    "    \n",
    "    while first != second:\n",
    "        first = first.next\n",
    "        second = second.next.next\n",
    "        \n",
    "    first = head\n",
    "    \n",
    "    while first != second:\n",
    "        first = first.next\n",
    "        second = second.next\n",
    "        \n",
    "    return first"
   ]
  }
 ],
 "metadata": {
  "kernelspec": {
   "display_name": "Python 3",
   "language": "python",
   "name": "python3"
  },
  "language_info": {
   "codemirror_mode": {
    "name": "ipython",
    "version": 3
   },
   "file_extension": ".py",
   "mimetype": "text/x-python",
   "name": "python",
   "nbconvert_exporter": "python",
   "pygments_lexer": "ipython3",
   "version": "3.8.3"
  }
 },
 "nbformat": 4,
 "nbformat_minor": 4
}
