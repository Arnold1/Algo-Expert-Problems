{
 "cells": [
  {
   "cell_type": "markdown",
   "metadata": {},
   "source": [
    "# Given a singly linked list and an integer n, remove the n'th node from the end of the list."
   ]
  },
  {
   "cell_type": "code",
   "execution_count": null,
   "metadata": {},
   "outputs": [],
   "source": [
    "# O(n)T / O(1)S - n is the length of the list\n",
    "\n",
    "def removeNthNodeFromEnd(head, n):\n",
    "    first = head\n",
    "    second = head\n",
    "    counter = 1\n",
    "    \n",
    "    while counter <= n:\n",
    "        second = second.next\n",
    "        counter += 1\n",
    "        \n",
    "    if second is None:\n",
    "        head.value = head.next.value\n",
    "        head.next = head.next.next\n",
    "        return \n",
    "    \n",
    "    while second.next is not None:\n",
    "        second = second.next\n",
    "        first = first.next\n",
    "        \n",
    "    first.next = first.next.next"
   ]
  }
 ],
 "metadata": {
  "kernelspec": {
   "display_name": "Python 3",
   "language": "python",
   "name": "python3"
  },
  "language_info": {
   "codemirror_mode": {
    "name": "ipython",
    "version": 3
   },
   "file_extension": ".py",
   "mimetype": "text/x-python",
   "name": "python",
   "nbconvert_exporter": "python",
   "pygments_lexer": "ipython3",
   "version": "3.8.3"
  }
 },
 "nbformat": 4,
 "nbformat_minor": 4
}
