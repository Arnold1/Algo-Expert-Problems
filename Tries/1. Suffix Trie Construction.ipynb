{
 "cells": [
  {
   "cell_type": "markdown",
   "metadata": {},
   "source": [
    "# Construct a Suffix Trie"
   ]
  },
  {
   "cell_type": "code",
   "execution_count": 1,
   "metadata": {},
   "outputs": [],
   "source": [
    "class SuffixTrie:\n",
    "    def __init__(self, string):\n",
    "        self.root = {}\n",
    "        self.endSymbol = \"*\"\n",
    "        self.populateSuffixTrieFrom(string)\n",
    "        print(self.root) # for understanding\n",
    "    \n",
    "    # O(n^2)T / O(n^2)S\n",
    "    def populateSuffixTrieFrom(self, string):\n",
    "        for i in range(len(string)):\n",
    "            self.insertSubstringStartingAt(i, string)\n",
    "            \n",
    "    def insertSubstringStartingAt(self, i, string):\n",
    "        node = self.root\n",
    "        \n",
    "        for j in range(i, len(string)):\n",
    "            letter = string[j]\n",
    "            \n",
    "            if letter not in node:\n",
    "                node[letter] = {}\n",
    "            \n",
    "            node = node[letter]\n",
    "        \n",
    "        node[self.endSymbol] = True\n",
    "        \n",
    "    # O(m)T / O(1)S - m is the lenght of the input string    \n",
    "    def contains(self, string):\n",
    "        node = self.root\n",
    "        \n",
    "        for letter in string:\n",
    "            if letter not in node:\n",
    "                return False\n",
    "            \n",
    "            node = node[letter]\n",
    "            \n",
    "        return self.endSymbol in node"
   ]
  },
  {
   "cell_type": "code",
   "execution_count": 2,
   "metadata": {},
   "outputs": [
    {
     "name": "stdout",
     "output_type": "stream",
     "text": [
      "{'b': {'a': {'b': {'c': {'*': True}}}, 'c': {'*': True}}, 'a': {'b': {'c': {'*': True}}}, 'c': {'*': True}}\n"
     ]
    }
   ],
   "source": [
    "a = SuffixTrie('babc')"
   ]
  },
  {
   "cell_type": "code",
   "execution_count": null,
   "metadata": {},
   "outputs": [],
   "source": [
    "\"\"\"\n",
    "                ''\n",
    "             /   |   \\\n",
    "            b    a    c\n",
    "          / |    |    |\n",
    "         c  a    b    *\n",
    "         |  |    |\n",
    "         *  b    c\n",
    "            |    |\n",
    "            c    *\n",
    "            |\n",
    "            *\n",
    "\"\"\""
   ]
  },
  {
   "cell_type": "code",
   "execution_count": 3,
   "metadata": {},
   "outputs": [
    {
     "data": {
      "text/plain": [
       "True"
      ]
     },
     "execution_count": 3,
     "metadata": {},
     "output_type": "execute_result"
    }
   ],
   "source": [
    "a.contains('abc')"
   ]
  },
  {
   "cell_type": "code",
   "execution_count": 4,
   "metadata": {},
   "outputs": [
    {
     "data": {
      "text/plain": [
       "False"
      ]
     },
     "execution_count": 4,
     "metadata": {},
     "output_type": "execute_result"
    }
   ],
   "source": [
    "a.contains('bab') # bab is not a suffix in the input string, its a prefix."
   ]
  },
  {
   "cell_type": "code",
   "execution_count": 5,
   "metadata": {},
   "outputs": [
    {
     "data": {
      "text/plain": [
       "True"
      ]
     },
     "execution_count": 5,
     "metadata": {},
     "output_type": "execute_result"
    }
   ],
   "source": [
    "a.contains('bc')"
   ]
  },
  {
   "cell_type": "code",
   "execution_count": 6,
   "metadata": {},
   "outputs": [
    {
     "data": {
      "text/plain": [
       "False"
      ]
     },
     "execution_count": 6,
     "metadata": {},
     "output_type": "execute_result"
    }
   ],
   "source": [
    "a.contains('abf')"
   ]
  },
  {
   "cell_type": "code",
   "execution_count": null,
   "metadata": {},
   "outputs": [],
   "source": []
  }
 ],
 "metadata": {
  "kernelspec": {
   "display_name": "Python 3",
   "language": "python",
   "name": "python3"
  },
  "language_info": {
   "codemirror_mode": {
    "name": "ipython",
    "version": 3
   },
   "file_extension": ".py",
   "mimetype": "text/x-python",
   "name": "python",
   "nbconvert_exporter": "python",
   "pygments_lexer": "ipython3",
   "version": "3.8.3"
  }
 },
 "nbformat": 4,
 "nbformat_minor": 4
}
