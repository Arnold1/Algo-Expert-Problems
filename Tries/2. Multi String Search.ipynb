{
 "cells": [
  {
   "cell_type": "markdown",
   "metadata": {},
   "source": [
    "# Given a big string and a list of small strings, find if every string in the list of small strings is contained in the bigger string. Return a list of same length as list of small strings with boolean at every index representing whether that small string is contained in the big string or not."
   ]
  },
  {
   "cell_type": "code",
   "execution_count": 1,
   "metadata": {},
   "outputs": [],
   "source": [
    "# Naive sol... O(bns)T / O(n)S - b is length of big string, n is number of small strings\n",
    "# s is length of largest small string \n",
    "\n",
    "def multiStringSearch_1(bigString,smallStrings):\n",
    "    return [isInBigString(bigString, smallString) for smallString in smallStrings]\n",
    "\n",
    "def isInBigString(bigString, smallString):\n",
    "    for i in range(len(bigString)):\n",
    "        if i + len(smallString) > len(bigString):\n",
    "            break\n",
    "        if isInBigStringHelper(bigString, smallString, i):\n",
    "            return True\n",
    "        \n",
    "    return False\n",
    "\n",
    "def isInBigStringHelper(bigString, smallString, startIdx):\n",
    "    leftBigIdx = startIdx\n",
    "    rightBIgIdx = startIdx + len(smallString) - 1\n",
    "    leftSmallIdx = 0\n",
    "    rightSmallIdx = len(smallString) - 1\n",
    "    \n",
    "    while leftBigIdx <= rightBIgIdx:\n",
    "        if (\n",
    "            bigString[leftBigIdx] != smallString[leftSmallIdx] or\n",
    "            bigString[rightBIgIdx] != smallString[rightSmallIdx]\n",
    "            ):\n",
    "            return False\n",
    "        \n",
    "        leftBigIdx += 1\n",
    "        rightBIgIdx -= 1\n",
    "        leftSmallIdx += 1\n",
    "        rightSmallIdx -= 1\n",
    "    \n",
    "    return True"
   ]
  },
  {
   "cell_type": "code",
   "execution_count": 2,
   "metadata": {},
   "outputs": [],
   "source": [
    "bigString = 'this is a big string'\n",
    "smallStrings = ['this','yo','is','a','bigger','string','kappa']"
   ]
  },
  {
   "cell_type": "code",
   "execution_count": 3,
   "metadata": {},
   "outputs": [
    {
     "data": {
      "text/plain": [
       "[True, False, True, True, False, True, False]"
      ]
     },
     "execution_count": 3,
     "metadata": {},
     "output_type": "execute_result"
    }
   ],
   "source": [
    "multiStringSearch_1(bigString, smallStrings)"
   ]
  },
  {
   "cell_type": "code",
   "execution_count": 4,
   "metadata": {},
   "outputs": [],
   "source": [
    "# Optimal sol... O(b^2 + ns)T / O(b^2 + n)S \n",
    "# b^2 is from creating the suffix trie, ns is calling the contains method \n",
    "\n",
    "class ModifiedSuffixTrie:\n",
    "    def __init__(self, string):\n",
    "        self.root = {}\n",
    "        self.populateModifiedSuffixTrieFrom(string)\n",
    "        \n",
    "    def populateModifiedSuffixTrieFrom(self, string):\n",
    "        for i in range(len(string)):\n",
    "            self.insertSubstringStartingAt(i, string)\n",
    "    \n",
    "    def insertSubstringStartingAt(self, i, string):\n",
    "        node = self.root\n",
    "        \n",
    "        for j in range(i, len(string)):\n",
    "            letter = string[j]\n",
    "            \n",
    "            if letter not in node:\n",
    "                node[letter] = {}\n",
    "                \n",
    "            node = node[letter]\n",
    "            \n",
    "    def contains(self, string):\n",
    "        node = self.root\n",
    "        \n",
    "        for letter in string:\n",
    "            if letter not in node:\n",
    "                return False\n",
    "            \n",
    "            node = node[letter]\n",
    "            \n",
    "        return True\n",
    "\n",
    "def multiStringSearch_2(bigString, smallStrings):\n",
    "    modifiedSuffixTrie = ModifiedSuffixTrie(bigString)\n",
    "    \n",
    "    return [modifiedSuffixTrie.contains(string) for string in smallStrings]"
   ]
  },
  {
   "cell_type": "code",
   "execution_count": 5,
   "metadata": {},
   "outputs": [
    {
     "data": {
      "text/plain": [
       "[True, False, True, True, False, True, False]"
      ]
     },
     "execution_count": 5,
     "metadata": {},
     "output_type": "execute_result"
    }
   ],
   "source": [
    "multiStringSearch_2(bigString, smallStrings)"
   ]
  },
  {
   "cell_type": "code",
   "execution_count": 6,
   "metadata": {},
   "outputs": [],
   "source": [
    "# More Optimal sol... O(ns + bs)T / O(ns)S\n",
    "\n",
    "class Trie:\n",
    "    def __init__(self):\n",
    "        self.root = {}\n",
    "        self.endSymbol = '*'\n",
    "        \n",
    "    def insert(self, string):\n",
    "        current = self.root\n",
    "        \n",
    "        for i in range(len(string)):\n",
    "            if string[i] not in current:\n",
    "                current[string[i]] = {}\n",
    "            \n",
    "            current = current[string[i]]\n",
    "            \n",
    "        current[self.endSymbol] = string\n",
    "        \n",
    "def multiStringSearch_3(bigString, smallStrings):\n",
    "    trie = Trie()\n",
    "    \n",
    "    for string in smallStrings:\n",
    "        trie.insert(string)\n",
    "    \n",
    "    containedStrings = {}\n",
    "    \n",
    "    for i in range(len(bigString)): # bs\n",
    "        findSmallStringsIn(bigString, i, trie, containedStrings)\n",
    "        \n",
    "    return [string in containedStrings for string in smallStrings]\n",
    "\n",
    "def findSmallStringsIn(string, startIdx, trie, containedStrings):\n",
    "    currentNode = trie.root\n",
    "    \n",
    "    for i in range(startIdx, len(string)):\n",
    "        currentChar = string[i]\n",
    "        \n",
    "        if currentChar not in currentNode:\n",
    "            break\n",
    "            \n",
    "        currentNode = currentNode[currentChar]\n",
    "        \n",
    "        if trie.endSymbol in currentNode:\n",
    "            containedStrings[currentNode[trie.endSymbol]] = True"
   ]
  },
  {
   "cell_type": "code",
   "execution_count": 7,
   "metadata": {},
   "outputs": [
    {
     "data": {
      "text/plain": [
       "[True, False, True, True, False, True, False]"
      ]
     },
     "execution_count": 7,
     "metadata": {},
     "output_type": "execute_result"
    }
   ],
   "source": [
    "multiStringSearch_3(bigString, smallStrings)"
   ]
  },
  {
   "cell_type": "code",
   "execution_count": null,
   "metadata": {},
   "outputs": [],
   "source": []
  }
 ],
 "metadata": {
  "kernelspec": {
   "display_name": "Python 3",
   "language": "python",
   "name": "python3"
  },
  "language_info": {
   "codemirror_mode": {
    "name": "ipython",
    "version": 3
   },
   "file_extension": ".py",
   "mimetype": "text/x-python",
   "name": "python",
   "nbconvert_exporter": "python",
   "pygments_lexer": "ipython3",
   "version": "3.8.3"
  }
 },
 "nbformat": 4,
 "nbformat_minor": 4
}
