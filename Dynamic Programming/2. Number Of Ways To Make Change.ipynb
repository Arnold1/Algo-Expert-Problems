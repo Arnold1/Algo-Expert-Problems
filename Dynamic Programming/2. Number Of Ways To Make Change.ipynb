{
 "cells": [
  {
   "cell_type": "markdown",
   "metadata": {},
   "source": [
    "# You are given coins of different denominations and a total amount of money. Write a function to compute the number of combinations that make up that amount. You may assume that you have infinite number of each kind of coin."
   ]
  },
  {
   "cell_type": "code",
   "execution_count": null,
   "metadata": {},
   "outputs": [],
   "source": [
    "\"\"\"\n",
    "Link for better understanding: https://www.youtube.com/watch?v=DJ4a7cmjZY0\n",
    "\"\"\""
   ]
  },
  {
   "cell_type": "code",
   "execution_count": null,
   "metadata": {},
   "outputs": [],
   "source": [
    "\"\"\"\n",
    "Example 1:\n",
    "Input: amount = 5, coins = [1, 2, 5]\n",
    "Output: 4\n",
    "Explanation: there are four ways to make up the amount:\n",
    "5=5\n",
    "5=2+2+1\n",
    "5=2+1+1+1\n",
    "5=1+1+1+1+1\n",
    "\n",
    "Example 2:\n",
    "Input: amount = 3, coins = [2]\n",
    "Output: 0\n",
    "Explanation: the amount of 3 cannot be made up just with coins of 2.\n",
    "\n",
    "Example 3:\n",
    "Input: amount = 10, coins = [10] \n",
    "Output: 1\n",
    "\n",
    "\"\"\""
   ]
  },
  {
   "cell_type": "code",
   "execution_count": null,
   "metadata": {},
   "outputs": [],
   "source": [
    "\"\"\"\n",
    "Input: amount = 5, coins = [1, 2, 5]\n",
    "Output: 4\n",
    "\n",
    "Solution:\n",
    "\n",
    "                | 0  1  2  3  4  5 -> amount\n",
    "        __________________________\n",
    "        []      | 1  0  0  0  0  0\n",
    "        __________________________\n",
    "coins - [1]     | 1  1  1  1  1  1 -> ways to make change for given column with given coins for that row        \n",
    "to use  __________________________\n",
    "        [1,2]   | 1  1  2  2  3  3            \n",
    "        __________________________\n",
    "        [1,2,5] | 1  1  2  2  3  4            \n",
    "        __________________________\n",
    "        \n",
    "\n",
    "\"\"\""
   ]
  },
  {
   "cell_type": "code",
   "execution_count": 1,
   "metadata": {},
   "outputs": [],
   "source": [
    "# My Solution.. O(nd)T / O(nd)S - n is given amount, d is number of coins given \n",
    "\n",
    "def numberOfWaysToMakeChange(n, denoms):\n",
    "    table = [[0 for i in range(n + 1)] for i in range(len(denoms) + 1)]\n",
    "    table[0][0] = 1\n",
    "        \n",
    "    for row in range(1, len(table)):\n",
    "        for col in range(len(table[row])):\n",
    "            table[row][col] = table[row - 1][col] + (table[row][col - denoms[row - 1]] if col - denoms[row - 1] >= 0 else 0)\n",
    "        \n",
    "    return table[-1][-1]"
   ]
  },
  {
   "cell_type": "code",
   "execution_count": 2,
   "metadata": {},
   "outputs": [
    {
     "data": {
      "text/plain": [
       "4"
      ]
     },
     "execution_count": 2,
     "metadata": {},
     "output_type": "execute_result"
    }
   ],
   "source": [
    "amount = 5\n",
    "coins = [1,2,5]\n",
    "\n",
    "numberOfWaysToMakeChange(amount, coins)"
   ]
  },
  {
   "cell_type": "code",
   "execution_count": 3,
   "metadata": {},
   "outputs": [
    {
     "data": {
      "text/plain": [
       "0"
      ]
     },
     "execution_count": 3,
     "metadata": {},
     "output_type": "execute_result"
    }
   ],
   "source": [
    "amount = 3\n",
    "coins = [2]\n",
    "\n",
    "numberOfWaysToMakeChange(amount, coins)"
   ]
  },
  {
   "cell_type": "code",
   "execution_count": 4,
   "metadata": {},
   "outputs": [
    {
     "data": {
      "text/plain": [
       "1"
      ]
     },
     "execution_count": 4,
     "metadata": {},
     "output_type": "execute_result"
    }
   ],
   "source": [
    "amount = 10\n",
    "coins = [10] \n",
    "\n",
    "numberOfWaysToMakeChange(amount, coins)"
   ]
  },
  {
   "cell_type": "code",
   "execution_count": 5,
   "metadata": {},
   "outputs": [
    {
     "data": {
      "text/plain": [
       "1"
      ]
     },
     "execution_count": 5,
     "metadata": {},
     "output_type": "execute_result"
    }
   ],
   "source": [
    "amount = 100\n",
    "coins = [1,101,102,103]\n",
    "\n",
    "numberOfWaysToMakeChange(amount, coins)"
   ]
  },
  {
   "cell_type": "code",
   "execution_count": 6,
   "metadata": {},
   "outputs": [],
   "source": [
    "# O(nd)T / O(n)S\n",
    "\n",
    "def numberOfWaysToMakeChange_1(n, denoms):\n",
    "    ways = [0 for amount in range(n + 1)]\n",
    "    ways[0] = 1\n",
    "    \n",
    "    for denom in denoms:\n",
    "        for amount in range(1, n + 1):\n",
    "            if denom <= amount:\n",
    "                ways[amount] += ways[amount - denom]\n",
    "                \n",
    "    return ways[n]"
   ]
  },
  {
   "cell_type": "code",
   "execution_count": 7,
   "metadata": {},
   "outputs": [
    {
     "data": {
      "text/plain": [
       "4"
      ]
     },
     "execution_count": 7,
     "metadata": {},
     "output_type": "execute_result"
    }
   ],
   "source": [
    "amount = 5\n",
    "coins = [1,2,5]\n",
    "\n",
    "numberOfWaysToMakeChange_1(amount, coins)"
   ]
  },
  {
   "cell_type": "code",
   "execution_count": 8,
   "metadata": {},
   "outputs": [
    {
     "data": {
      "text/plain": [
       "1"
      ]
     },
     "execution_count": 8,
     "metadata": {},
     "output_type": "execute_result"
    }
   ],
   "source": [
    "amount = 100\n",
    "coins = [1,101,102,103]\n",
    "\n",
    "numberOfWaysToMakeChange_1(amount, coins)"
   ]
  },
  {
   "cell_type": "code",
   "execution_count": null,
   "metadata": {},
   "outputs": [],
   "source": []
  }
 ],
 "metadata": {
  "kernelspec": {
   "display_name": "Python 3",
   "language": "python",
   "name": "python3"
  },
  "language_info": {
   "codemirror_mode": {
    "name": "ipython",
    "version": 3
   },
   "file_extension": ".py",
   "mimetype": "text/x-python",
   "name": "python",
   "nbconvert_exporter": "python",
   "pygments_lexer": "ipython3",
   "version": "3.8.3"
  }
 },
 "nbformat": 4,
 "nbformat_minor": 4
}
