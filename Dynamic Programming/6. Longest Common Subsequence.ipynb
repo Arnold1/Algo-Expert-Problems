{
 "cells": [
  {
   "cell_type": "markdown",
   "metadata": {},
   "source": [
    "# Given two strings str1 and str2, return their longest common subsequence.\n",
    "# A subsequence of a string is a new string generated from the original string with some characters(can be none) deleted without changing the relative order of the remaining characters. (eg, \"ace\" is a subsequence of \"abcde\" while \"aec\" is not). A common subsequence of two strings is a subsequence that is common to both strings."
   ]
  },
  {
   "cell_type": "code",
   "execution_count": 1,
   "metadata": {},
   "outputs": [],
   "source": [
    "# O(nm * min(n, m))T / O(nm * min(n, m))S - n is length of str1, m is length of str2\n",
    "\n",
    "def longestCommonSubsequence_1(str1, str2):\n",
    "    lcs = [[[] for x in range(len(str1) + 1)] for y in range(len(str2) + 1)]\n",
    "    \n",
    "    for i in range(1, len(str2) + 1):\n",
    "        for j in range(1, len(str1) + 1):\n",
    "            if str2[i - 1] == str1[j - 1]:\n",
    "                lcs[i][j] = lcs[i - 1][j - 1] + [str2[i - 1]]\n",
    "            else:\n",
    "                lcs[i][j] = max(lcs[i - 1][j], lcs[i][j - 1], key = len)\n",
    "                \n",
    "    return lcs[-1][-1]"
   ]
  },
  {
   "cell_type": "code",
   "execution_count": 2,
   "metadata": {},
   "outputs": [
    {
     "data": {
      "text/plain": [
       "['x', 'y', 'z', 'w']"
      ]
     },
     "execution_count": 2,
     "metadata": {},
     "output_type": "execute_result"
    }
   ],
   "source": [
    "str1 = 'xkykzpw'\n",
    "str2 = 'zxvvyzw'\n",
    "\n",
    "longestCommonSubsequence_1(str1, str2)"
   ]
  },
  {
   "cell_type": "code",
   "execution_count": 3,
   "metadata": {},
   "outputs": [],
   "source": [
    "# Optimal Sol.. O(nm)T / O(nm)S\n",
    "\n",
    "def longestCommonSubsequence_2(str1, str2):\n",
    "    lcs = [[[None, 0, None, None] for x in range(len(str1) + 1)] for y in range(len(str2) + 1)]\n",
    "    \n",
    "    for i in range(1, len(str2) + 1):\n",
    "        for j in range(1, len(str1) + 1):\n",
    "            if str2[i - 1] == str1[j - 1]:\n",
    "                lcs[i][j] = [str2[i - 1], lcs[i - 1][j - 1][1] + 1, i - 1, j - 1]\n",
    "            else:\n",
    "                if lcs[i - 1][j][1] > lcs[i][j - 1][1]:\n",
    "                    lcs[i][j] = [None, lcs[i - 1][j][1], i - 1, j]\n",
    "                else:\n",
    "                    lcs[i][j] = [None, lcs[i][j - 1][1], i, j - 1]\n",
    "                    \n",
    "    return buildSequence(lcs)\n",
    "\n",
    "def buildSequence(lcs):\n",
    "    sequence = []\n",
    "    i = len(lcs) - 1\n",
    "    j = len(lcs[0]) - 1\n",
    "    \n",
    "    while i != 0 and j != 0:\n",
    "        currentEntry = lcs[i][j]\n",
    "        \n",
    "        if currentEntry[0] is not None:\n",
    "            sequence.append(currentEntry[0])\n",
    "            \n",
    "        i = currentEntry[2]\n",
    "        j = currentEntry[3]\n",
    "        \n",
    "    return list(reversed(sequence))"
   ]
  },
  {
   "cell_type": "code",
   "execution_count": 4,
   "metadata": {},
   "outputs": [
    {
     "data": {
      "text/plain": [
       "['x', 'y', 'z', 'w']"
      ]
     },
     "execution_count": 4,
     "metadata": {},
     "output_type": "execute_result"
    }
   ],
   "source": [
    "str1 = 'xkykzpw'\n",
    "str2 = 'zxvvyzw'\n",
    "\n",
    "longestCommonSubsequence_2(str1, str2)"
   ]
  },
  {
   "cell_type": "code",
   "execution_count": null,
   "metadata": {},
   "outputs": [],
   "source": []
  }
 ],
 "metadata": {
  "kernelspec": {
   "display_name": "Python 3",
   "language": "python",
   "name": "python3"
  },
  "language_info": {
   "codemirror_mode": {
    "name": "ipython",
    "version": 3
   },
   "file_extension": ".py",
   "mimetype": "text/x-python",
   "name": "python",
   "nbconvert_exporter": "python",
   "pygments_lexer": "ipython3",
   "version": "3.8.3"
  }
 },
 "nbformat": 4,
 "nbformat_minor": 4
}
