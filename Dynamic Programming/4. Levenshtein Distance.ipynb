{
 "cells": [
  {
   "cell_type": "markdown",
   "metadata": {},
   "source": [
    "# Given two strings word1 and word2, return the minimum number of operations required to convert word1 to word2.\n",
    "\n",
    "# You have the following three operations permitted on a word:\n",
    "# Insert a character\n",
    "# Delete a character\n",
    "# Replace a character"
   ]
  },
  {
   "cell_type": "code",
   "execution_count": null,
   "metadata": {},
   "outputs": [],
   "source": [
    "\"\"\"\n",
    "Example 1:\n",
    "Input: word1 = \"horse\", word2 = \"ros\"\n",
    "Output: 3\n",
    "Explanation: \n",
    "horse -> rorse (replace 'h' with 'r')\n",
    "rorse -> rose (remove 'r')\n",
    "rose -> ros (remove 'e')\n",
    "\n",
    "Example 2:\n",
    "Input: word1 = \"intention\", word2 = \"execution\"\n",
    "Output: 5\n",
    "Explanation: \n",
    "intention -> inention (remove 't')\n",
    "inention -> enention (replace 'i' with 'e')\n",
    "enention -> exention (replace 'n' with 'x')\n",
    "exention -> exection (replace 'n' with 'c')\n",
    "exection -> execution (insert 'u')\n",
    "\n",
    "\"\"\""
   ]
  },
  {
   "cell_type": "code",
   "execution_count": 1,
   "metadata": {},
   "outputs": [],
   "source": [
    "# O(nm)T / O(nm)S - n is length of word1, m is length of word2\n",
    "\n",
    "def levenshteinDistance_1(word1, word2):\n",
    "    edits = [[x for x in range(len(word1) + 1)] for y in range(len(word2) + 1)]\n",
    "        \n",
    "    for i in range(1, len(word2) + 1):\n",
    "        edits[i][0] = 1 + edits[i - 1][0]\n",
    "\n",
    "    for i in range(1, len(word2) + 1):\n",
    "        for j in range(1, len(word1) + 1):\n",
    "            if word2[i - 1] == word1[j - 1]:\n",
    "                edits[i][j] = edits[i - 1][j - 1]\n",
    "            else:\n",
    "                edits[i][j] = 1 + min(edits[i- 1][j], edits[i][j - 1], edits[i - 1][j - 1])\n",
    "\n",
    "    return edits[-1][-1]"
   ]
  },
  {
   "cell_type": "code",
   "execution_count": 2,
   "metadata": {},
   "outputs": [
    {
     "data": {
      "text/plain": [
       "3"
      ]
     },
     "execution_count": 2,
     "metadata": {},
     "output_type": "execute_result"
    }
   ],
   "source": [
    "word1 = 'horse'\n",
    "word2 = 'ros'\n",
    "\n",
    "levenshteinDistance_1(word1, word2)"
   ]
  },
  {
   "cell_type": "code",
   "execution_count": 3,
   "metadata": {},
   "outputs": [
    {
     "data": {
      "text/plain": [
       "5"
      ]
     },
     "execution_count": 3,
     "metadata": {},
     "output_type": "execute_result"
    }
   ],
   "source": [
    "word1 = 'intention'\n",
    "word2 = 'execution'\n",
    "\n",
    "levenshteinDistance_1(word1, word2)"
   ]
  },
  {
   "cell_type": "code",
   "execution_count": 4,
   "metadata": {},
   "outputs": [],
   "source": [
    "# O(nm)T / O(min(n,m))S\n",
    "\n",
    "def levenshteinDistance_2(str1, str2):\n",
    "    small = str1 if len(str1) < len(str2) else str2\n",
    "    big = str1 if len(str1) >= len(str2) else str2\n",
    "    \n",
    "    evenEdits = [x for x in range(len(small) + 1)]\n",
    "    oddEdits = [None for x in range(len(small) + 1)]\n",
    "    \n",
    "    for i in range(1, len(big) + 1):\n",
    "        if i % 2 == 1:\n",
    "            currentEdits = oddEdits\n",
    "            previousEdits = evenEdits\n",
    "        else:\n",
    "            currentEdits = evenEdits\n",
    "            previousEdits = oddEdits\n",
    "            \n",
    "        currentEdits[0] = i\n",
    "        \n",
    "        for j in range(1, len(small) + 1):\n",
    "            if big[i - 1] == small[j - 1]:\n",
    "                currentEdits[j] = previousEdits[j - 1]\n",
    "            else:\n",
    "                currentEdits[j] = 1 + min(previousEdits[j - 1], previousEdits[j], currentEdits[j - 1])\n",
    "    \n",
    "    return evenEdits[-1] if len(big) % 2 == 0 else oddEdits[-1]"
   ]
  },
  {
   "cell_type": "code",
   "execution_count": 5,
   "metadata": {},
   "outputs": [
    {
     "data": {
      "text/plain": [
       "3"
      ]
     },
     "execution_count": 5,
     "metadata": {},
     "output_type": "execute_result"
    }
   ],
   "source": [
    "word1 = 'horse'\n",
    "word2 = 'ros'\n",
    "\n",
    "levenshteinDistance_2(word1, word2)"
   ]
  },
  {
   "cell_type": "code",
   "execution_count": 6,
   "metadata": {},
   "outputs": [
    {
     "data": {
      "text/plain": [
       "5"
      ]
     },
     "execution_count": 6,
     "metadata": {},
     "output_type": "execute_result"
    }
   ],
   "source": [
    "word1 = 'intention'\n",
    "word2 = 'execution'\n",
    "\n",
    "levenshteinDistance_2(word1, word2)"
   ]
  },
  {
   "cell_type": "code",
   "execution_count": null,
   "metadata": {},
   "outputs": [],
   "source": []
  }
 ],
 "metadata": {
  "kernelspec": {
   "display_name": "Python 3",
   "language": "python",
   "name": "python3"
  },
  "language_info": {
   "codemirror_mode": {
    "name": "ipython",
    "version": 3
   },
   "file_extension": ".py",
   "mimetype": "text/x-python",
   "name": "python",
   "nbconvert_exporter": "python",
   "pygments_lexer": "ipython3",
   "version": "3.8.3"
  }
 },
 "nbformat": 4,
 "nbformat_minor": 4
}
