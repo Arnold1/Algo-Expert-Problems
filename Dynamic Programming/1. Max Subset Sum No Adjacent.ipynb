{
 "cells": [
  {
   "cell_type": "markdown",
   "metadata": {},
   "source": [
    "# Given an array of positive integers, find the greatest sum you can generate without adding up two numbers that are positioned next to each other in the array."
   ]
  },
  {
   "cell_type": "code",
   "execution_count": 1,
   "metadata": {},
   "outputs": [],
   "source": [
    "# O(n)T / O(n)S\n",
    "\n",
    "def maxSubsetSumNoAdjacent_1(array):\n",
    "    if not len(array):\n",
    "        return\n",
    "    elif len(array) == 1:\n",
    "        return array[0]\n",
    "    \n",
    "    maxSums = array[:]\n",
    "    maxSums[1] = max(array[0], array[1])\n",
    "    \n",
    "    for i in range(2, len(array)):\n",
    "        maxSums[i] = max(maxSums[i - 1], maxSums[i - 2] + array[i])\n",
    "        \n",
    "    return maxSums[-1]"
   ]
  },
  {
   "cell_type": "code",
   "execution_count": 2,
   "metadata": {},
   "outputs": [
    {
     "data": {
      "text/plain": [
       "33"
      ]
     },
     "execution_count": 2,
     "metadata": {},
     "output_type": "execute_result"
    }
   ],
   "source": [
    "array = [7,10,12,7,9,14]\n",
    "\n",
    "maxSubsetSumNoAdjacent_1(array)"
   ]
  },
  {
   "cell_type": "code",
   "execution_count": 3,
   "metadata": {},
   "outputs": [],
   "source": [
    "# O(n)T / O(1)S\n",
    "\n",
    "def maxSubsetSumNoAdjacent_2(array):\n",
    "    if not len(array):\n",
    "        return\n",
    "    elif len(array) == 1:\n",
    "        return array[0]\n",
    "    \n",
    "    second = array[0]\n",
    "    first = max(array[0], array[1])\n",
    "    \n",
    "    for i in range(2, len(array)):\n",
    "        current = max(first, second + array[i])\n",
    "        second = first\n",
    "        first = current\n",
    "        \n",
    "    return first"
   ]
  },
  {
   "cell_type": "code",
   "execution_count": 4,
   "metadata": {},
   "outputs": [
    {
     "data": {
      "text/plain": [
       "33"
      ]
     },
     "execution_count": 4,
     "metadata": {},
     "output_type": "execute_result"
    }
   ],
   "source": [
    "array = [7,10,12,7,9,14]\n",
    "\n",
    "maxSubsetSumNoAdjacent_2(array)"
   ]
  },
  {
   "cell_type": "code",
   "execution_count": null,
   "metadata": {},
   "outputs": [],
   "source": []
  }
 ],
 "metadata": {
  "kernelspec": {
   "display_name": "Python 3",
   "language": "python",
   "name": "python3"
  },
  "language_info": {
   "codemirror_mode": {
    "name": "ipython",
    "version": 3
   },
   "file_extension": ".py",
   "mimetype": "text/x-python",
   "name": "python",
   "nbconvert_exporter": "python",
   "pygments_lexer": "ipython3",
   "version": "3.8.3"
  }
 },
 "nbformat": 4,
 "nbformat_minor": 4
}
