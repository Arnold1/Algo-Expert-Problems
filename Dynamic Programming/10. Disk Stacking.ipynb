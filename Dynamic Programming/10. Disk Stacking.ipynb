{
 "cells": [
  {
   "cell_type": "markdown",
   "metadata": {},
   "source": [
    "# You are given a non-empty array of arrays. Each subarray holds three integers and represents a disk. These integers denote each disk's width, depth, and height, respectively. Your goal is to stack up the disks and to maximize the total height of the stack. A disk must have a strictly smaller width, depth, and height than any other disk below it. \n",
    "# Write a function that returns an array of the disks in the final stack, starting with the top disk and ending with the bottom disk. \n",
    "# Note that you cannot rotate disks; in other words, the integers in each subarray must represent [width, depth, height] at all times. Assume that there will only be one stack with the greatest total height.\n"
   ]
  },
  {
   "cell_type": "code",
   "execution_count": null,
   "metadata": {},
   "outputs": [],
   "source": [
    "\"\"\"\n",
    "\n",
    "Sample Input: [[2, 1, 2], [3, 2, 3], [2, 2, 8], [2, 3, 4], [1, 3, 1], [4, 4, 5]] \n",
    "Sample Output: [[2, 1, 2], [3, 2, 3], [4, 4, 5]]\n",
    "\n",
    "\"\"\""
   ]
  },
  {
   "cell_type": "code",
   "execution_count": 1,
   "metadata": {},
   "outputs": [],
   "source": [
    "# O(n^2)T / O(n)S\n",
    "\n",
    "def diskStacking(disks):\n",
    "    disks.sort(key = lambda x: x[2])\n",
    "    \n",
    "    heights = [x[2] for x in disks]\n",
    "    sequences = [None for x in disks]\n",
    "    maxHeightIdx = 0\n",
    "    \n",
    "    for i in range(1, len(disks)):\n",
    "        curDisk = disks[i]\n",
    "        \n",
    "        for j in range(i):\n",
    "            otherDisk = disks[j]\n",
    "            \n",
    "            if isValid(otherDisk, curDisk):\n",
    "                if heights[i] <= curDisk[2] + heights[j]:\n",
    "                    heights[i] = curDisk[2] + heights[j]\n",
    "                    sequences[i] = j\n",
    "        \n",
    "        if heights[i] >= heights[maxHeightIdx]:\n",
    "            maxHeightIdx = i\n",
    "            \n",
    "    return buildSequence(disks, sequences, maxHeightIdx)\n",
    "            \n",
    "def isValid(o, c):\n",
    "    return o[0] < c[0] and o[1] < c[1] and o[2] < c[2]\n",
    "\n",
    "def buildSequence(arr, seq, idx):\n",
    "    res = []\n",
    "    \n",
    "    while idx is not None:\n",
    "        res.append(arr[idx])\n",
    "        idx = seq[idx]\n",
    "        \n",
    "    return list(reversed(res))"
   ]
  },
  {
   "cell_type": "code",
   "execution_count": 2,
   "metadata": {},
   "outputs": [
    {
     "data": {
      "text/plain": [
       "[[2, 1, 2], [3, 2, 3], [4, 4, 5]]"
      ]
     },
     "execution_count": 2,
     "metadata": {},
     "output_type": "execute_result"
    }
   ],
   "source": [
    "disks = [[2, 1, 2], [3, 2, 3], [2, 2, 8], [2, 3, 4], [1, 3, 1], [4, 4, 5]] \n",
    "\n",
    "diskStacking(disks)"
   ]
  },
  {
   "cell_type": "code",
   "execution_count": null,
   "metadata": {},
   "outputs": [],
   "source": []
  }
 ],
 "metadata": {
  "kernelspec": {
   "display_name": "Python 3",
   "language": "python",
   "name": "python3"
  },
  "language_info": {
   "codemirror_mode": {
    "name": "ipython",
    "version": 3
   },
   "file_extension": ".py",
   "mimetype": "text/x-python",
   "name": "python",
   "nbconvert_exporter": "python",
   "pygments_lexer": "ipython3",
   "version": "3.8.3"
  }
 },
 "nbformat": 4,
 "nbformat_minor": 4
}
