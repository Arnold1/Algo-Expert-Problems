{
 "cells": [
  {
   "cell_type": "markdown",
   "metadata": {},
   "source": [
    "# Given n non-negative integers representing an elevation map where the width of each bar is 1, compute how much water it can trap after raining."
   ]
  },
  {
   "cell_type": "code",
   "execution_count": null,
   "metadata": {},
   "outputs": [],
   "source": [
    "\"\"\"\n",
    "Check Leetcode No.42 for graphical explanation\n",
    "\n",
    "Input: [0,8,0,0,5,0,0,10,0,0,1,1,0,3]\n",
    "Output: 48\n",
    "\n",
    "Input: height = [0,1,0,2,1,0,1,3,2,1,2,1]\n",
    "Output: 6\n",
    "\n",
    "Input: height = [4,2,0,3,2,5]\n",
    "Output: 9\n",
    "\"\"\""
   ]
  },
  {
   "cell_type": "code",
   "execution_count": 1,
   "metadata": {},
   "outputs": [],
   "source": [
    "# O(n)T / O(n)S\n",
    "\n",
    "def waterArea_1(heights):   \n",
    "    if not heights:\n",
    "        return 0\n",
    "\n",
    "    n = len(heights)\n",
    "    leftMaxes = [0 for i in range(n)]\n",
    "    rightMaxes = [0 for i in range(n)]\n",
    "    finalMaxes = [0 for i in range(n)]\n",
    "\n",
    "    leftMax = 0\n",
    "\n",
    "    for i in range(n):\n",
    "        curHeight = heights[i]\n",
    "        leftMaxes[i] = leftMax\n",
    "        leftMax = max(leftMax, curHeight)\n",
    "\n",
    "    rightMax = 0\n",
    "\n",
    "    for i in reversed(range(n)):\n",
    "        curHeight = heights[i]\n",
    "        rightMaxes[i] = rightMax\n",
    "        rightMax = max(rightMax, curHeight)\n",
    "\n",
    "    for i in range(n):\n",
    "        minHeight = min(leftMaxes[i], rightMaxes[i])\n",
    "        curHeight = heights[i]\n",
    "\n",
    "        if curHeight < minHeight:\n",
    "            finalMaxes[i] = minHeight - curHeight\n",
    "        else:\n",
    "            finalMaxes[i] = 0\n",
    "\n",
    "    return sum(finalMaxes)"
   ]
  },
  {
   "cell_type": "code",
   "execution_count": 2,
   "metadata": {},
   "outputs": [
    {
     "data": {
      "text/plain": [
       "48"
      ]
     },
     "execution_count": 2,
     "metadata": {},
     "output_type": "execute_result"
    }
   ],
   "source": [
    "heights = [0,8,0,0,5,0,0,10,0,0,1,1,0,3]\n",
    "\n",
    "waterArea_1(heights)"
   ]
  },
  {
   "cell_type": "code",
   "execution_count": 3,
   "metadata": {},
   "outputs": [
    {
     "data": {
      "text/plain": [
       "6"
      ]
     },
     "execution_count": 3,
     "metadata": {},
     "output_type": "execute_result"
    }
   ],
   "source": [
    "heights = [0,1,0,2,1,0,1,3,2,1,2,1]\n",
    "\n",
    "waterArea_1(heights)"
   ]
  },
  {
   "cell_type": "code",
   "execution_count": 4,
   "metadata": {},
   "outputs": [
    {
     "data": {
      "text/plain": [
       "9"
      ]
     },
     "execution_count": 4,
     "metadata": {},
     "output_type": "execute_result"
    }
   ],
   "source": [
    "heights = [4,2,0,3,2,5]\n",
    "\n",
    "waterArea_1(heights)"
   ]
  },
  {
   "cell_type": "code",
   "execution_count": 5,
   "metadata": {},
   "outputs": [],
   "source": [
    "# Above code optimised for better runtime and space... no change in space time complexity though...\n",
    "# O(n)T / O(n)S\n",
    "\n",
    "def waterArea_2(heights):    \n",
    "    maxes = [0 for x in heights]\n",
    "    n = len(heights)\n",
    "    \n",
    "    leftMax = 0\n",
    "    \n",
    "    for i in range(n):\n",
    "        curHeight = heights[i]\n",
    "        maxes[i] = leftMax\n",
    "        leftMax = max(leftMax, curHeight)\n",
    "        \n",
    "    rightMax = 0\n",
    "    \n",
    "    for i in reversed(range(n)):\n",
    "        curHeight = heights[i]\n",
    "        minHeight = min(rightMax, maxes[i])\n",
    "        \n",
    "        if curHeight < minHeight:\n",
    "            maxes[i] = minHeight - curHeight\n",
    "        else:\n",
    "            maxes[i] = 0\n",
    "            \n",
    "        rightMax = max(rightMax, curHeight)\n",
    "        \n",
    "    return sum(maxes)"
   ]
  },
  {
   "cell_type": "code",
   "execution_count": 6,
   "metadata": {},
   "outputs": [
    {
     "data": {
      "text/plain": [
       "48"
      ]
     },
     "execution_count": 6,
     "metadata": {},
     "output_type": "execute_result"
    }
   ],
   "source": [
    "heights = [0,8,0,0,5,0,0,10,0,0,1,1,0,3]\n",
    "\n",
    "waterArea_2(heights)"
   ]
  },
  {
   "cell_type": "code",
   "execution_count": 7,
   "metadata": {},
   "outputs": [
    {
     "data": {
      "text/plain": [
       "6"
      ]
     },
     "execution_count": 7,
     "metadata": {},
     "output_type": "execute_result"
    }
   ],
   "source": [
    "heights = [0,1,0,2,1,0,1,3,2,1,2,1]\n",
    "\n",
    "waterArea_2(heights)"
   ]
  },
  {
   "cell_type": "code",
   "execution_count": 8,
   "metadata": {},
   "outputs": [
    {
     "data": {
      "text/plain": [
       "9"
      ]
     },
     "execution_count": 8,
     "metadata": {},
     "output_type": "execute_result"
    }
   ],
   "source": [
    "heights = [4,2,0,3,2,5]\n",
    "\n",
    "waterArea_2(heights)"
   ]
  },
  {
   "cell_type": "code",
   "execution_count": null,
   "metadata": {},
   "outputs": [],
   "source": []
  }
 ],
 "metadata": {
  "kernelspec": {
   "display_name": "Python 3",
   "language": "python",
   "name": "python3"
  },
  "language_info": {
   "codemirror_mode": {
    "name": "ipython",
    "version": 3
   },
   "file_extension": ".py",
   "mimetype": "text/x-python",
   "name": "python",
   "nbconvert_exporter": "python",
   "pygments_lexer": "ipython3",
   "version": "3.8.3"
  }
 },
 "nbformat": 4,
 "nbformat_minor": 4
}
