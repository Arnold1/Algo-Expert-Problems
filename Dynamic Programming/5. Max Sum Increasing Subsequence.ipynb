{
 "cells": [
  {
   "cell_type": "markdown",
   "metadata": {},
   "source": [
    "# Given an array of n positive integers, write a program to find a subsequence such that the subsequence sum is as high as possible and the subsequence's elements should be in strictly increasing order. Return the subsequence and its sum."
   ]
  },
  {
   "cell_type": "code",
   "execution_count": null,
   "metadata": {},
   "outputs": [],
   "source": [
    "\"\"\"\n",
    "Input: [1,101,2,3,100,4,5]\n",
    "Output: [106,[1,2,3,100]]\n",
    "\n",
    "Input: [3,4,5,10]\n",
    "Output: [22,[3,4,5,10]]\n",
    "\n",
    "Input: [10,5,4,3]\n",
    "Output: [10,[10]]\n",
    "\"\"\""
   ]
  },
  {
   "cell_type": "code",
   "execution_count": 1,
   "metadata": {},
   "outputs": [],
   "source": [
    "# O(n^2)T / O(n)S\n",
    "\n",
    "def maxSumIncreasingSubsequence(array):\n",
    "    sequences = [None for x in array]\n",
    "    sums = array[:]\n",
    "    maxSumIdx = 0\n",
    "    \n",
    "    for i in range(len(array)):\n",
    "        currentNum = array[i]\n",
    "        \n",
    "        for j in range(i):\n",
    "            otherNum = array[j]\n",
    "            \n",
    "            if otherNum < currentNum and sums[j] + currentNum >= sums[i]:\n",
    "                sums[i] = sums[j] + currentNum\n",
    "                sequences[i] = j\n",
    "                \n",
    "        if sums[i] >= sums[maxSumIdx]:\n",
    "            maxSumIdx = i\n",
    "    \n",
    "    return [sums[maxSumIdx], buildSequence(array, sequences, maxSumIdx)]\n",
    "\n",
    "def buildSequence(array, sequences, currentIdx):\n",
    "    sequence = []\n",
    "    \n",
    "    while currentIdx is not None:\n",
    "        sequence.append(array[currentIdx])\n",
    "        currentIdx = sequences[currentIdx]\n",
    "        \n",
    "    return list(reversed(sequence))"
   ]
  },
  {
   "cell_type": "code",
   "execution_count": 2,
   "metadata": {},
   "outputs": [
    {
     "data": {
      "text/plain": [
       "[106, [1, 2, 3, 100]]"
      ]
     },
     "execution_count": 2,
     "metadata": {},
     "output_type": "execute_result"
    }
   ],
   "source": [
    "array = [1,101,2,3,100,4,5]\n",
    "\n",
    "maxSumIncreasingSubsequence(array)"
   ]
  },
  {
   "cell_type": "code",
   "execution_count": 3,
   "metadata": {},
   "outputs": [
    {
     "data": {
      "text/plain": [
       "[22, [3, 4, 5, 10]]"
      ]
     },
     "execution_count": 3,
     "metadata": {},
     "output_type": "execute_result"
    }
   ],
   "source": [
    "array = [3,4,5,10]\n",
    "\n",
    "maxSumIncreasingSubsequence(array)"
   ]
  },
  {
   "cell_type": "code",
   "execution_count": 4,
   "metadata": {},
   "outputs": [
    {
     "data": {
      "text/plain": [
       "[10, [10]]"
      ]
     },
     "execution_count": 4,
     "metadata": {},
     "output_type": "execute_result"
    }
   ],
   "source": [
    "array = [10,5,4,3]\n",
    "\n",
    "maxSumIncreasingSubsequence(array)"
   ]
  },
  {
   "cell_type": "code",
   "execution_count": null,
   "metadata": {},
   "outputs": [],
   "source": []
  }
 ],
 "metadata": {
  "kernelspec": {
   "display_name": "Python 3",
   "language": "python",
   "name": "python3"
  },
  "language_info": {
   "codemirror_mode": {
    "name": "ipython",
    "version": 3
   },
   "file_extension": ".py",
   "mimetype": "text/x-python",
   "name": "python",
   "nbconvert_exporter": "python",
   "pygments_lexer": "ipython3",
   "version": "3.8.3"
  }
 },
 "nbformat": 4,
 "nbformat_minor": 4
}
