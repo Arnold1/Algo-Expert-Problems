{
 "cells": [
  {
   "cell_type": "markdown",
   "metadata": {},
   "source": [
    "# You are given an array of items and capacity of a bag, each item has a value and a weight, determine the items to include in the bag so that the total weight is less than or equal to a given capacity and the total value is as large as possible."
   ]
  },
  {
   "cell_type": "code",
   "execution_count": null,
   "metadata": {},
   "outputs": [],
   "source": [
    "\"\"\"\n",
    "\n",
    "Input: items = [[1,2],[4,3],[5,6],[6,7]], capacity = 10\n",
    "Output: [10, [1,3]] -> 10 is the max value and [1,3] is the index of items that gives the max value\n",
    "\n",
    "\"\"\""
   ]
  },
  {
   "cell_type": "code",
   "execution_count": 1,
   "metadata": {},
   "outputs": [],
   "source": [
    "# O(nc)T / O(nc)S - n is length of items and c is capacity\n",
    "\n",
    "def knapsackProblem(items, capacity):\n",
    "    knapsackValues = [[0 for x in range(0, capacity + 1)] for y in range(0, len(items) + 1)]\n",
    "    \n",
    "    for i in range(1, len(items) + 1):\n",
    "        curWeight = items[i - 1][1]\n",
    "        curValue = items[i - 1][0]\n",
    "        \n",
    "        for c in range(0, capacity + 1):\n",
    "            if curWeight > c:\n",
    "                knapsackValues[i][c] = knapsackValues[i - 1][c]\n",
    "            else:\n",
    "                knapsackValues[i][c] = max(knapsackValues[i - 1][c], knapsackValues[i - 1][c - curWeight] + curValue)\n",
    "                \n",
    "    return [knapsackValues[-1][-1], getKnapsackItems(knapsackValues, items)]\n",
    "\n",
    "def getKnapsackItems(knapsackValues, items):\n",
    "    sequence = []\n",
    "    i = len(knapsackValues) - 1\n",
    "    c = len(knapsackValues[0]) - 1\n",
    "    \n",
    "    while i > 0:\n",
    "        if knapsackValues[i][c] == knapsackValues[i - 1][c]:\n",
    "            i -= 1\n",
    "        else:\n",
    "            sequence.append(i - 1)\n",
    "            c -= items[i - 1][1]\n",
    "            i -= 1\n",
    "            \n",
    "        if c == 0:\n",
    "            break\n",
    "    \n",
    "    return list(reversed(sequence))"
   ]
  },
  {
   "cell_type": "code",
   "execution_count": 2,
   "metadata": {},
   "outputs": [
    {
     "data": {
      "text/plain": [
       "[10, [1, 3]]"
      ]
     },
     "execution_count": 2,
     "metadata": {},
     "output_type": "execute_result"
    }
   ],
   "source": [
    "items = [[1,2],[4,3],[5,6],[6,7]]\n",
    "capacity = 10\n",
    "\n",
    "knapsackProblem(items, capacity)"
   ]
  },
  {
   "cell_type": "code",
   "execution_count": null,
   "metadata": {},
   "outputs": [],
   "source": []
  }
 ],
 "metadata": {
  "kernelspec": {
   "display_name": "Python 3",
   "language": "python",
   "name": "python3"
  },
  "language_info": {
   "codemirror_mode": {
    "name": "ipython",
    "version": 3
   },
   "file_extension": ".py",
   "mimetype": "text/x-python",
   "name": "python",
   "nbconvert_exporter": "python",
   "pygments_lexer": "ipython3",
   "version": "3.8.3"
  }
 },
 "nbformat": 4,
 "nbformat_minor": 4
}
