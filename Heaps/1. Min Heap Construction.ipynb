{
 "cells": [
  {
   "cell_type": "markdown",
   "metadata": {},
   "source": [
    "# Construct a Min Heap"
   ]
  },
  {
   "cell_type": "code",
   "execution_count": 1,
   "metadata": {},
   "outputs": [],
   "source": [
    "class MinHeap:\n",
    "    def __init__(self, array):\n",
    "        self.heap = self.buildHeap(array)\n",
    "    \n",
    "    # O(n)T / O(1)S\n",
    "    def buildHeap(self, array):\n",
    "        firstParentIdx = (len(array) - 1 - 1) // 2\n",
    "        \n",
    "        for currentIdx in reversed(range(firstParentIdx)):\n",
    "            self.siftDown(currentIdx, len(array) - 1, array)\n",
    "            \n",
    "        return array\n",
    "    \n",
    "    # O(log(n))T / O(1)S\n",
    "    def siftDown(self, currentIdx, endIdx, heap):\n",
    "        childOneIdx = (currentIdx * 2) + 1\n",
    "        \n",
    "        while childOneIdx <= endIdx:\n",
    "            childTwoIdx = (currentIdx * 2) + 2 if (currentIdx * 2) + 2 <= endIdx else -1\n",
    "            \n",
    "            if childTwoIdx != -1 and heap[childTwoIdx] < heap[childOneIdx]:\n",
    "                idxToSwap = childTwoIdx\n",
    "            else:\n",
    "                idxToSwap = childOneIdx\n",
    "                \n",
    "            if heap[idxToSwap] < heap[currentIdx]:\n",
    "                self.swap(currentIdx, idxToSwap, heap)\n",
    "                currentIdx = idxToSwap\n",
    "                childOneIdx = (currentIdx * 2) + 2\n",
    "            else:\n",
    "                break\n",
    "    \n",
    "    # O(log(n))T / O(1)S\n",
    "    def siftUp(self, currentIdx, heap):\n",
    "        parentIdx = (currentIdx - 1) // 2\n",
    "        \n",
    "        while currentIdx > 0 and heap[currentIdx] < heap[parentIdx]:\n",
    "            self.swap(currentIdx, parentIdx, heap)\n",
    "            currentIdx = parentIdx\n",
    "            parentIdx = (currentIdx - 1) // 2\n",
    "        \n",
    "    def peek(self):\n",
    "        return self.heap[0]\n",
    "    \n",
    "    def remove(self):\n",
    "        self.swap(0, len(self.heap) - 1, self.heap)\n",
    "        valueToRemove = self.heap.pop()\n",
    "        self.siftDown(0, len(self.heap) - 1, self.heap)\n",
    "        return valueToRemove\n",
    "        \n",
    "    def insert(self, value):\n",
    "        self.heap.append(value)\n",
    "        self.siftUp(len(self.heap) - 1, self.heap)\n",
    "        \n",
    "    def swap(self, i, j, heap):\n",
    "        heap[i], heap[j] = heap[j], heap[i]"
   ]
  },
  {
   "cell_type": "code",
   "execution_count": 2,
   "metadata": {},
   "outputs": [],
   "source": [
    "array = [30,102,23,17,18,9,44,12,31]\n",
    "\n",
    "myHeap = MinHeap(array)"
   ]
  },
  {
   "cell_type": "code",
   "execution_count": 3,
   "metadata": {},
   "outputs": [
    {
     "data": {
      "text/plain": [
       "9"
      ]
     },
     "execution_count": 3,
     "metadata": {},
     "output_type": "execute_result"
    }
   ],
   "source": [
    "myHeap.peek()"
   ]
  },
  {
   "cell_type": "code",
   "execution_count": 4,
   "metadata": {},
   "outputs": [],
   "source": [
    "myHeap.insert(1)"
   ]
  },
  {
   "cell_type": "code",
   "execution_count": 5,
   "metadata": {},
   "outputs": [
    {
     "data": {
      "text/plain": [
       "1"
      ]
     },
     "execution_count": 5,
     "metadata": {},
     "output_type": "execute_result"
    }
   ],
   "source": [
    "myHeap.peek()"
   ]
  },
  {
   "cell_type": "code",
   "execution_count": 6,
   "metadata": {},
   "outputs": [
    {
     "data": {
      "text/plain": [
       "1"
      ]
     },
     "execution_count": 6,
     "metadata": {},
     "output_type": "execute_result"
    }
   ],
   "source": [
    "myHeap.remove()"
   ]
  },
  {
   "cell_type": "code",
   "execution_count": 7,
   "metadata": {},
   "outputs": [
    {
     "data": {
      "text/plain": [
       "9"
      ]
     },
     "execution_count": 7,
     "metadata": {},
     "output_type": "execute_result"
    }
   ],
   "source": [
    "myHeap.peek()"
   ]
  },
  {
   "cell_type": "code",
   "execution_count": null,
   "metadata": {},
   "outputs": [],
   "source": []
  }
 ],
 "metadata": {
  "kernelspec": {
   "display_name": "Python 3",
   "language": "python",
   "name": "python3"
  },
  "language_info": {
   "codemirror_mode": {
    "name": "ipython",
    "version": 3
   },
   "file_extension": ".py",
   "mimetype": "text/x-python",
   "name": "python",
   "nbconvert_exporter": "python",
   "pygments_lexer": "ipython3",
   "version": "3.8.3"
  }
 },
 "nbformat": 4,
 "nbformat_minor": 4
}
