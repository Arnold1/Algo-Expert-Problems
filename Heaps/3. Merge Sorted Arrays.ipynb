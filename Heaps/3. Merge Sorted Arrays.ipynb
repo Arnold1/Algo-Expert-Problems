{
 "cells": [
  {
   "cell_type": "markdown",
   "metadata": {},
   "source": [
    "# Given a list of lists of integers in sorted order, write a function to merge the sorted lists into one sorted list."
   ]
  },
  {
   "cell_type": "code",
   "execution_count": 1,
   "metadata": {},
   "outputs": [],
   "source": [
    "# Naive Sol.. O(nk)T / O(n + k)S\n",
    "# n is total number of elements in all sub arrays\n",
    "# k is total number of sub arrays\n",
    "\n",
    "def mergeSortedArrays_1(arrays):\n",
    "    sortedList = []\n",
    "    elementIdxs = [0 for array in arrays]\n",
    "    \n",
    "    while True:\n",
    "        smallestItems = []\n",
    "        \n",
    "        for arrayIdx in range(len(arrays)):\n",
    "            relevantArray = arrays[arrayIdx]\n",
    "            elementIdx = elementIdxs[arrayIdx]\n",
    "            \n",
    "            if elementIdx == len(relevantArray):\n",
    "                continue\n",
    "            \n",
    "            smallestItems.append({'arrayIdx': arrayIdx, 'num': relevantArray[elementIdx]})\n",
    "            \n",
    "        if len(smallestItems) == 0:\n",
    "            break\n",
    "            \n",
    "        nextItem = getMinValue(smallestItems)\n",
    "        sortedList.append(nextItem['num'])\n",
    "        elementIdxs[nextItem['arrayIdx']] += 1\n",
    "        \n",
    "    return sortedList\n",
    "\n",
    "def getMinValue(items):\n",
    "    minValueIdx = 0\n",
    "    \n",
    "    for i in range(1, len(items)):\n",
    "        if items[i]['num'] < items[minValueIdx]['num']:\n",
    "            minValueIdx = i\n",
    "            \n",
    "    return items[minValueIdx]"
   ]
  },
  {
   "cell_type": "code",
   "execution_count": 2,
   "metadata": {},
   "outputs": [
    {
     "data": {
      "text/plain": [
       "[-124, -1, 0, 1, 3, 5, 6, 9, 12, 20, 21, 81, 121, 150]"
      ]
     },
     "execution_count": 2,
     "metadata": {},
     "output_type": "execute_result"
    }
   ],
   "source": [
    "arrays = [[1,5,9,21], [-1,0], [-124,81,121], [3,6,12,20,150]]\n",
    "\n",
    "mergeSortedArrays_1(arrays)"
   ]
  },
  {
   "cell_type": "code",
   "execution_count": 3,
   "metadata": {},
   "outputs": [],
   "source": [
    "# Optimal Sol.. O(n * log(k) + k)T / O(n + k)S\n",
    "# n is total number of elements in all sub arrays\n",
    "# k is total number of sub arrays\n",
    "\n",
    "def mergeSortedArrays_2(arrays):\n",
    "    sortedList = []\n",
    "    smallestItems = []\n",
    "    \n",
    "    for arrayIdx in range(len(arrays)):\n",
    "        smallestItems.append({'arrayIdx': arrayIdx, 'elementIdx': 0, 'num': arrays[arrayIdx][0]})\n",
    "                \n",
    "    minHeap = MinHeap(smallestItems)\n",
    "    \n",
    "    while not minHeap.isEmpty():\n",
    "        smallestItem = minHeap.remove()\n",
    "        arrayIdx, elementIdx, num = smallestItem['arrayIdx'], smallestItem['elementIdx'], smallestItem['num']\n",
    "        sortedList.append(num)\n",
    "        \n",
    "        if elementIdx == len(arrays[arrayIdx]) - 1:\n",
    "            continue\n",
    "            \n",
    "        minHeap.insert({'arrayIdx': arrayIdx, 'elementIdx': elementIdx + 1, 'num': arrays[arrayIdx][elementIdx + 1]})\n",
    "        \n",
    "    return sortedList\n",
    "        \n",
    "class MinHeap:\n",
    "    def __init__(self, array):\n",
    "        self.heap = self.buildHeap(array)\n",
    "    \n",
    "    def isEmpty(self):\n",
    "        return len(self.heap) == 0\n",
    "    \n",
    "    # O(n)T / O(1)S\n",
    "    def buildHeap(self, array):\n",
    "        firstParentIdx = (len(array) - 1 - 1) // 2\n",
    "        \n",
    "        for currentIdx in reversed(range(firstParentIdx)):\n",
    "            self.siftDown(currentIdx, len(array) - 1, array)\n",
    "            \n",
    "        return array\n",
    "    \n",
    "    # O(log(n))T / O(1)S\n",
    "    def siftDown(self, currentIdx, endIdx, heap):\n",
    "        childOneIdx = (currentIdx * 2) + 1\n",
    "        \n",
    "        while childOneIdx <= endIdx:\n",
    "            childTwoIdx = (currentIdx * 2) + 2 if (currentIdx * 2) + 2 <= endIdx else -1\n",
    "            \n",
    "            if childTwoIdx != -1 and heap[childTwoIdx]['num'] < heap[childOneIdx]['num']:\n",
    "                idxToSwap = childTwoIdx\n",
    "            else:\n",
    "                idxToSwap = childOneIdx\n",
    "                \n",
    "            if heap[idxToSwap]['num'] < heap[currentIdx]['num']:\n",
    "                self.swap(currentIdx, idxToSwap, heap)\n",
    "                currentIdx = idxToSwap\n",
    "                childOneIdx = (currentIdx * 2) + 1\n",
    "            else:\n",
    "                return \n",
    "    \n",
    "    # O(log(n))T / O(1)S\n",
    "    def siftUp(self, currentIdx, heap):\n",
    "        parentIdx = (currentIdx - 1) // 2\n",
    "        \n",
    "        while currentIdx > 0 and heap[currentIdx]['num'] < heap[parentIdx]['num']:\n",
    "            self.swap(currentIdx, parentIdx, heap)\n",
    "            currentIdx = parentIdx\n",
    "            parentIdx = (currentIdx - 1) // 2\n",
    "        \n",
    "    def peek(self):\n",
    "        return self.heap[0]\n",
    "    \n",
    "    def remove(self):\n",
    "        self.swap(0, len(self.heap) - 1, self.heap)\n",
    "        valueToRemove = self.heap.pop()\n",
    "        self.siftDown(0, len(self.heap) - 1, self.heap)\n",
    "        return valueToRemove\n",
    "        \n",
    "    def insert(self, value):\n",
    "        self.heap.append(value)\n",
    "        self.siftUp(len(self.heap) - 1, self.heap)\n",
    "        \n",
    "    def swap(self, i, j, heap):\n",
    "        heap[i], heap[j] = heap[j], heap[i]"
   ]
  },
  {
   "cell_type": "code",
   "execution_count": 4,
   "metadata": {},
   "outputs": [
    {
     "data": {
      "text/plain": [
       "[-124, -1, 0, 1, 3, 5, 6, 9, 12, 20, 21, 81, 121, 150]"
      ]
     },
     "execution_count": 4,
     "metadata": {},
     "output_type": "execute_result"
    }
   ],
   "source": [
    "arrays = [[1,5,9,21], [-1,0], [-124,81,121], [3,6,12,20,150]]\n",
    "\n",
    "mergeSortedArrays_2(arrays)"
   ]
  },
  {
   "cell_type": "code",
   "execution_count": null,
   "metadata": {},
   "outputs": [],
   "source": []
  }
 ],
 "metadata": {
  "kernelspec": {
   "display_name": "Python 3",
   "language": "python",
   "name": "python3"
  },
  "language_info": {
   "codemirror_mode": {
    "name": "ipython",
    "version": 3
   },
   "file_extension": ".py",
   "mimetype": "text/x-python",
   "name": "python",
   "nbconvert_exporter": "python",
   "pygments_lexer": "ipython3",
   "version": "3.8.3"
  }
 },
 "nbformat": 4,
 "nbformat_minor": 4
}
