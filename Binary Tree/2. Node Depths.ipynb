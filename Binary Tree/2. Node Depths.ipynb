{
 "cells": [
  {
   "cell_type": "markdown",
   "metadata": {},
   "source": [
    "# Given a binary tree, find the depth of every node in the binary tree, return the sum of all of these depths."
   ]
  },
  {
   "cell_type": "code",
   "execution_count": 1,
   "metadata": {},
   "outputs": [],
   "source": [
    "class BinaryTree:\n",
    "    def __init__(self, value):\n",
    "        self.value = value\n",
    "        self.left = None\n",
    "        self.right = None"
   ]
  },
  {
   "cell_type": "code",
   "execution_count": 2,
   "metadata": {},
   "outputs": [],
   "source": [
    "a = BinaryTree(1)\n",
    "a.left = BinaryTree(2)\n",
    "a.right = BinaryTree(3)\n",
    "a.left.left = BinaryTree(4)\n",
    "a.left.right = BinaryTree(5)\n",
    "a.right.left = BinaryTree(6)\n",
    "a.right.right = BinaryTree(7)\n",
    "a.left.left.left = BinaryTree(8)\n",
    "a.left.left.right = BinaryTree(9)"
   ]
  },
  {
   "cell_type": "code",
   "execution_count": null,
   "metadata": {},
   "outputs": [],
   "source": [
    "\"\"\"\n",
    "        1\n",
    "       / \\\n",
    "      2   3\n",
    "     / \\ / \\\n",
    "    4  5 6  7\n",
    "   / \\  \n",
    "  8  9   \n",
    "\"\"\""
   ]
  },
  {
   "cell_type": "code",
   "execution_count": 3,
   "metadata": {},
   "outputs": [],
   "source": [
    "# Recursive sol... O(n)T / O(h)S - h is height of the tree\n",
    "\n",
    "def nodeDepths_1(root, depth=0):\n",
    "    if root is None:\n",
    "        return 0\n",
    "    \n",
    "    return depth + nodeDepths_1(root.left, depth+1) + nodeDepths_1(root.right, depth+1)"
   ]
  },
  {
   "cell_type": "code",
   "execution_count": 4,
   "metadata": {},
   "outputs": [
    {
     "data": {
      "text/plain": [
       "16"
      ]
     },
     "execution_count": 4,
     "metadata": {},
     "output_type": "execute_result"
    }
   ],
   "source": [
    "nodeDepths_1(a)"
   ]
  },
  {
   "cell_type": "code",
   "execution_count": 5,
   "metadata": {},
   "outputs": [],
   "source": [
    "# Iterative sol... O(n)T / O(h)S - h is height of the tree\n",
    "\n",
    "def nodeDepths_2(root):\n",
    "    sumOfDepths = 0\n",
    "    stack = [{\"node\": root, \"depth\": 0}]\n",
    "    \n",
    "    while len(stack) > 0:\n",
    "        nodeInfo = stack.pop()\n",
    "        node, depth = nodeInfo['node'], nodeInfo['depth']\n",
    "        \n",
    "        if node is None:\n",
    "            continue\n",
    "        \n",
    "        sumOfDepths += depth\n",
    "        \n",
    "        stack.append({\"node\": node.left, \"depth\": depth + 1})\n",
    "        stack.append({\"node\": node.right, \"depth\": depth + 1})\n",
    "    \n",
    "    return sumOfDepths"
   ]
  },
  {
   "cell_type": "code",
   "execution_count": 6,
   "metadata": {},
   "outputs": [
    {
     "data": {
      "text/plain": [
       "16"
      ]
     },
     "execution_count": 6,
     "metadata": {},
     "output_type": "execute_result"
    }
   ],
   "source": [
    "nodeDepths_2(a)"
   ]
  },
  {
   "cell_type": "code",
   "execution_count": null,
   "metadata": {},
   "outputs": [],
   "source": []
  }
 ],
 "metadata": {
  "kernelspec": {
   "display_name": "Python 3",
   "language": "python",
   "name": "python3"
  },
  "language_info": {
   "codemirror_mode": {
    "name": "ipython",
    "version": 3
   },
   "file_extension": ".py",
   "mimetype": "text/x-python",
   "name": "python",
   "nbconvert_exporter": "python",
   "pygments_lexer": "ipython3",
   "version": "3.8.3"
  }
 },
 "nbformat": 4,
 "nbformat_minor": 4
}
