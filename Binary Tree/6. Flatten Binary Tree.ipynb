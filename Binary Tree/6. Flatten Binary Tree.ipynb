{
 "cells": [
  {
   "cell_type": "markdown",
   "metadata": {},
   "source": [
    "# Given a binary tree, flatten it into linked list in-place and return the left most node of the flattened tree. After flattening, right of each node should contain next node in in-order."
   ]
  },
  {
   "cell_type": "code",
   "execution_count": 1,
   "metadata": {},
   "outputs": [],
   "source": [
    "class BinaryTree:\n",
    "    def __init__(self, value):\n",
    "        self.value = value\n",
    "        self.left = None\n",
    "        self.right = None"
   ]
  },
  {
   "cell_type": "code",
   "execution_count": 2,
   "metadata": {},
   "outputs": [],
   "source": [
    "a = BinaryTree(1)\n",
    "a.left = BinaryTree(2)\n",
    "a.right = BinaryTree(3)\n",
    "a.left.left = BinaryTree(4)\n",
    "a.left.right = BinaryTree(5)\n",
    "a.right.left = BinaryTree(6)\n",
    "a.left.right.left = BinaryTree(7)\n",
    "a.left.right.right = BinaryTree(8)"
   ]
  },
  {
   "cell_type": "code",
   "execution_count": null,
   "metadata": {},
   "outputs": [],
   "source": [
    "\"\"\"\n",
    "        1\n",
    "       / \\\n",
    "      2   3\n",
    "     / \\ / \n",
    "    4  5 6  \n",
    "      / \\  \n",
    "      7  8   \n",
    "\"\"\""
   ]
  },
  {
   "cell_type": "code",
   "execution_count": 3,
   "metadata": {},
   "outputs": [],
   "source": [
    "# Naive sol.. O(n)T / O(n)S\n",
    "\n",
    "def flattenBinaryTree_1(root):\n",
    "    inOrderNodes = getNodesInOrder(root, [])\n",
    "    \n",
    "    for i in range(0, len(inOrderNodes)-1):\n",
    "        leftNode = inOrderNodes[i]\n",
    "        rightNode = inOrderNodes[i+1]\n",
    "        \n",
    "        leftNode.right = rightNode\n",
    "        rightNode.left = leftNode\n",
    "        \n",
    "    return inOrderNodes[0].value\n",
    "\n",
    "def getNodesInOrder(tree, array):\n",
    "    if tree is not None:\n",
    "        getNodesInOrder(tree.left, array)\n",
    "        array.append(tree)\n",
    "        getNodesInOrder(tree.right, array)\n",
    "    \n",
    "    return array"
   ]
  },
  {
   "cell_type": "code",
   "execution_count": 4,
   "metadata": {},
   "outputs": [
    {
     "data": {
      "text/plain": [
       "4"
      ]
     },
     "execution_count": 4,
     "metadata": {},
     "output_type": "execute_result"
    }
   ],
   "source": [
    "flattenBinaryTree_1(a)"
   ]
  },
  {
   "cell_type": "code",
   "execution_count": 5,
   "metadata": {},
   "outputs": [],
   "source": [
    "class BinaryTree:\n",
    "    def __init__(self, value):\n",
    "        self.value = value\n",
    "        self.left = None\n",
    "        self.right = None"
   ]
  },
  {
   "cell_type": "code",
   "execution_count": 6,
   "metadata": {},
   "outputs": [],
   "source": [
    "a = BinaryTree(1)\n",
    "a.left = BinaryTree(2)\n",
    "a.right = BinaryTree(3)\n",
    "a.left.left = BinaryTree(4)\n",
    "a.left.right = BinaryTree(5)\n",
    "a.right.left = BinaryTree(6)\n",
    "a.left.right.left = BinaryTree(7)\n",
    "a.left.right.right = BinaryTree(8)"
   ]
  },
  {
   "cell_type": "code",
   "execution_count": null,
   "metadata": {},
   "outputs": [],
   "source": [
    "\"\"\"\n",
    "        1\n",
    "       / \\\n",
    "      2   3\n",
    "     / \\ / \n",
    "    4  5 6  \n",
    "      / \\  \n",
    "      7  8   \n",
    "\"\"\""
   ]
  },
  {
   "cell_type": "code",
   "execution_count": 7,
   "metadata": {},
   "outputs": [],
   "source": [
    "# Optimal sol.. O(n)T / O(d)S - d is depth of tree\n",
    "\n",
    "def flattenBinaryTree_2(root):\n",
    "    leftMost, _ = flattenTree(root)\n",
    "    \n",
    "    return leftMost.value\n",
    "\n",
    "def flattenTree(node):\n",
    "    if node.left is None:\n",
    "        leftMost = node\n",
    "    else:\n",
    "        leftSubtreeLeftMost, leftSubtreeRightMost = flattenTree(node.left)\n",
    "        connectNodes(leftSubtreeRightMost, node)\n",
    "        leftMost = leftSubtreeLeftMost\n",
    "        \n",
    "    if node.right is None:\n",
    "        rightMost = node\n",
    "    else:\n",
    "        rightSubtreeLeftMost, rightSubtreeRightMost = flattenTree(node.right)\n",
    "        connectNodes(node, rightSubtreeLeftMost)\n",
    "        rightMost = rightSubtreeRightMost\n",
    "    \n",
    "    return [leftMost, rightMost]\n",
    "\n",
    "def connectNodes(left, right):\n",
    "    left.right = right\n",
    "    right.left = left"
   ]
  },
  {
   "cell_type": "code",
   "execution_count": 8,
   "metadata": {},
   "outputs": [
    {
     "data": {
      "text/plain": [
       "4"
      ]
     },
     "execution_count": 8,
     "metadata": {},
     "output_type": "execute_result"
    }
   ],
   "source": [
    "flattenBinaryTree_2(a)"
   ]
  },
  {
   "cell_type": "code",
   "execution_count": null,
   "metadata": {},
   "outputs": [],
   "source": [
    " "
   ]
  }
 ],
 "metadata": {
  "kernelspec": {
   "display_name": "Python 3",
   "language": "python",
   "name": "python3"
  },
  "language_info": {
   "codemirror_mode": {
    "name": "ipython",
    "version": 3
   },
   "file_extension": ".py",
   "mimetype": "text/x-python",
   "name": "python",
   "nbconvert_exporter": "python",
   "pygments_lexer": "ipython3",
   "version": "3.8.3"
  }
 },
 "nbformat": 4,
 "nbformat_minor": 4
}
