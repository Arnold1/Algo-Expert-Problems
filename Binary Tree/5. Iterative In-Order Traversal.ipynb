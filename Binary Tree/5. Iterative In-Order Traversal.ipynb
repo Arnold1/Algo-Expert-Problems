{
 "cells": [
  {
   "cell_type": "markdown",
   "metadata": {},
   "source": [
    "# You are given a binary tree, where every node has a parent node, left child and right child. Traverse the binary tree using the in-order traversal method and call the given callback method on the nodes as you traverse it in-order. You have to do it iteratively, not recursively.\n",
    "\n",
    "# Alternate question: Traverse the binary tree in-order using constant space."
   ]
  },
  {
   "cell_type": "code",
   "execution_count": null,
   "metadata": {},
   "outputs": [],
   "source": [
    "\"\"\"\n",
    "        1\n",
    "       / \\\n",
    "      2   3\n",
    "     /   / \\\n",
    "    4   6   7\n",
    "     \\  \n",
    "      9  \n",
    "  \n",
    "\"\"\""
   ]
  },
  {
   "cell_type": "code",
   "execution_count": null,
   "metadata": {},
   "outputs": [],
   "source": [
    "# O(n)T / O(1)S\n",
    "\n",
    "def iterativeInOrderTraversal(tree, callback):\n",
    "    previousNode = None\n",
    "    currentNode = tree\n",
    "    \n",
    "    while currentNode is not None:\n",
    "        if previousNode is None or previousNode == currentNode.parent:\n",
    "            if currentNode.left is not None:\n",
    "                nextNode = currentNode.left\n",
    "            else:\n",
    "                callback(currentNode)\n",
    "                nextNode = currentNode.right if currentNode.right is not None else currentNode.parent\n",
    "        elif previousNode == currentNode.left:\n",
    "            callback(currentNode)\n",
    "            nextNode = currentNode.right if currentNode.right is not None else currentNode.parent\n",
    "        else:\n",
    "            nextNode = currentNode.parent\n",
    "        \n",
    "        previousNode = currentNode\n",
    "        currentNode = nextNode"
   ]
  }
 ],
 "metadata": {
  "kernelspec": {
   "display_name": "Python 3",
   "language": "python",
   "name": "python3"
  },
  "language_info": {
   "codemirror_mode": {
    "name": "ipython",
    "version": 3
   },
   "file_extension": ".py",
   "mimetype": "text/x-python",
   "name": "python",
   "nbconvert_exporter": "python",
   "pygments_lexer": "ipython3",
   "version": "3.8.3"
  }
 },
 "nbformat": 4,
 "nbformat_minor": 4
}
