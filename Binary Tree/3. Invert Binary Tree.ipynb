{
 "cells": [
  {
   "cell_type": "markdown",
   "metadata": {},
   "source": [
    "# Given a binary tree, invert it. i.e, swap the left and right values of all the nodes."
   ]
  },
  {
   "cell_type": "code",
   "execution_count": null,
   "metadata": {},
   "outputs": [],
   "source": [
    "\"\"\"\n",
    "Sample Input:\n",
    "\n",
    "        1\n",
    "       / \\\n",
    "      2   3\n",
    "     / \\ / \\\n",
    "    4  5 6  7\n",
    "   / \\  \n",
    "  8   9\n",
    "\n",
    "Sample Output:\n",
    "\n",
    "        1\n",
    "       / \\\n",
    "      3   2\n",
    "     / \\ / \\\n",
    "    7  6 5  4\n",
    "           / \\  \n",
    "          9   8\n",
    "  \n",
    "\"\"\""
   ]
  },
  {
   "cell_type": "code",
   "execution_count": null,
   "metadata": {},
   "outputs": [],
   "source": [
    "# Recursive sol.. O(n)T / O(d)S - d is depth of tree\n",
    "\n",
    "def invertBinaryTree_1(tree):\n",
    "    if tree is None:\n",
    "        return\n",
    "    \n",
    "    swapLeftAndRight(tree)\n",
    "\n",
    "    invertBinaryTree_1(tree.left)\n",
    "    invertBinaryTree_1(tree.right)\n",
    "\n",
    "def swapLeftAndRight(tree):\n",
    "    tree.left, tree.right = tree.right, tree.left"
   ]
  },
  {
   "cell_type": "code",
   "execution_count": null,
   "metadata": {},
   "outputs": [],
   "source": [
    "# Iterative sol.. O(n)T / O(n)S\n",
    "\n",
    "def invertBinaryTree_2(tree):\n",
    "    queue = [tree]\n",
    "    \n",
    "    while len(array):\n",
    "        current = queue.pop(0)\n",
    "        \n",
    "        if current is None:\n",
    "            continue\n",
    "        \n",
    "        swapLeftAndRight(current)\n",
    "        \n",
    "        queue.append(current.left)\n",
    "        queue.append(current.right)\n",
    "\n",
    "def swapLeftAndRight(tree):\n",
    "    tree.left, tree.right = tree.right, tree.left"
   ]
  }
 ],
 "metadata": {
  "kernelspec": {
   "display_name": "Python 3",
   "language": "python",
   "name": "python3"
  },
  "language_info": {
   "codemirror_mode": {
    "name": "ipython",
    "version": 3
   },
   "file_extension": ".py",
   "mimetype": "text/x-python",
   "name": "python",
   "nbconvert_exporter": "python",
   "pygments_lexer": "ipython3",
   "version": "3.8.3"
  }
 },
 "nbformat": 4,
 "nbformat_minor": 4
}
