{
 "cells": [
  {
   "cell_type": "markdown",
   "metadata": {},
   "source": [
    "# Given a binary tree, write a function to sum the depths of all the nodes in all the sub trees."
   ]
  },
  {
   "cell_type": "code",
   "execution_count": 1,
   "metadata": {},
   "outputs": [],
   "source": [
    "class BinaryTree:\n",
    "    def __init__(self, value):\n",
    "        self.value = value\n",
    "        self.left = None\n",
    "        self.right = None\n",
    "        \n",
    "a = BinaryTree(1)\n",
    "a.left = BinaryTree(2)\n",
    "a.right = BinaryTree(3)\n",
    "a.left.left = BinaryTree(4)\n",
    "a.left.right = BinaryTree(5)\n",
    "a.right.left = BinaryTree(6)\n",
    "a.right.right = BinaryTree(7)\n",
    "a.left.left.left = BinaryTree(8)\n",
    "a.left.left.right = BinaryTree(9)"
   ]
  },
  {
   "cell_type": "code",
   "execution_count": null,
   "metadata": {},
   "outputs": [],
   "source": [
    "\"\"\"\n",
    "        1\n",
    "       / \\\n",
    "      2   3\n",
    "     / \\ / \\\n",
    "    4  5 6  7\n",
    "   / \\  \n",
    "  8  9 \n",
    "  \n",
    "  Answer: 26\n",
    "  Explanation: The root node 1 has total 16 depths, node 2 has 6 depths,\n",
    "               node 3 has 2 depths, node 4 has 2 depths, node 5, 6, 7, 8\n",
    "               & 9 has 0 depths. So the sum 16 + 6 + 2 + 2 = 26. \n",
    "  \n",
    "\"\"\""
   ]
  },
  {
   "cell_type": "code",
   "execution_count": 2,
   "metadata": {},
   "outputs": [],
   "source": [
    "# Naive sol.. O(n * log(n))T / O(h)S\n",
    "# h is height of the tree\n",
    "\n",
    "def allKindsOfNodeDepths_1(root):\n",
    "    sumOfAllDepths = 0\n",
    "    stack = [root]\n",
    "    \n",
    "    while len(stack) > 0:\n",
    "        node = stack.pop()\n",
    "        \n",
    "        if node is None:\n",
    "            continue\n",
    "            \n",
    "        sumOfAllDepths += nodeDepths(node)\n",
    "        \n",
    "        stack.append(node.left)\n",
    "        stack.append(node.right)\n",
    "        \n",
    "    return sumOfAllDepths\n",
    "\n",
    "def nodeDepths(node, depth = 0):\n",
    "    if node is None:\n",
    "        return 0\n",
    "    \n",
    "    return depth + nodeDepths(node.left, depth + 1) + nodeDepths(node.right, depth + 1)"
   ]
  },
  {
   "cell_type": "code",
   "execution_count": 3,
   "metadata": {},
   "outputs": [
    {
     "data": {
      "text/plain": [
       "26"
      ]
     },
     "execution_count": 3,
     "metadata": {},
     "output_type": "execute_result"
    }
   ],
   "source": [
    "allKindsOfNodeDepths_1(a)"
   ]
  },
  {
   "cell_type": "code",
   "execution_count": 4,
   "metadata": {},
   "outputs": [],
   "source": [
    "# Naive recursive sol.. O(n * log(n))T / O(h)S\n",
    "# h is height of the tree\n",
    "\n",
    "def allKindsOfNodeDepths_2(root):\n",
    "    if root is None:\n",
    "        return 0\n",
    "    \n",
    "    return allKindsOfNodeDepths_2(root.left) + allKindsOfNodeDepths_2(root.right) + nodeDepths(root)\n",
    "\n",
    "def nodeDepths(node, depth = 0):\n",
    "    if node is None:\n",
    "        return 0\n",
    "    \n",
    "    return depth + nodeDepths(node.left, depth + 1) + nodeDepths(node.right, depth + 1)"
   ]
  },
  {
   "cell_type": "code",
   "execution_count": 5,
   "metadata": {},
   "outputs": [
    {
     "data": {
      "text/plain": [
       "26"
      ]
     },
     "execution_count": 5,
     "metadata": {},
     "output_type": "execute_result"
    }
   ],
   "source": [
    "allKindsOfNodeDepths_2(a)"
   ]
  },
  {
   "cell_type": "code",
   "execution_count": 6,
   "metadata": {},
   "outputs": [],
   "source": [
    "# Optimal sol.. O(n)T / O(n)S\n",
    "\n",
    "def allKindsOfNodeDepths_3(root):\n",
    "    nodeCounts = {}\n",
    "    addNodeCounts(root, nodeCounts)\n",
    "    \n",
    "    nodeDepths = {}\n",
    "    addNodeDepths(root, nodeDepths, nodeCounts)\n",
    "    \n",
    "    return sumAllNodeDepths(root, nodeDepths)\n",
    "\n",
    "def addNodeCounts(node, nodeCounts):\n",
    "    nodeCounts[node] = 1\n",
    "    \n",
    "    if node.left is not None:\n",
    "        addNodeCounts(node.left, nodeCounts)\n",
    "        nodeCounts[node] += nodeCounts[node.left]\n",
    "        \n",
    "    if node.right is not None:\n",
    "        addNodeCounts(node.right, nodeCounts)\n",
    "        nodeCounts[node] += nodeCounts[node.right]\n",
    "        \n",
    "def addNodeDepths(node, nodeDepths, nodeCounts):\n",
    "    nodeDepths[node] = 0\n",
    "    \n",
    "    if node.left is not None:\n",
    "        addNodeDepths(node.left, nodeDepths, nodeCounts)\n",
    "        nodeDepths[node] += nodeDepths[node.left] + nodeCounts[node.left]\n",
    "        \n",
    "    if node.right is not None:\n",
    "        addNodeDepths(node.right, nodeDepths, nodeCounts)\n",
    "        nodeDepths[node] += nodeDepths[node.right] + nodeCounts[node.right]\n",
    "        \n",
    "def sumAllNodeDepths(node, nodeDepths):\n",
    "    if node is None:\n",
    "        return 0\n",
    "    \n",
    "    return sumAllNodeDepths(node.left, nodeDepths) + sumAllNodeDepths(node.right, nodeDepths) + nodeDepths[node]"
   ]
  },
  {
   "cell_type": "code",
   "execution_count": 7,
   "metadata": {},
   "outputs": [
    {
     "data": {
      "text/plain": [
       "26"
      ]
     },
     "execution_count": 7,
     "metadata": {},
     "output_type": "execute_result"
    }
   ],
   "source": [
    "allKindsOfNodeDepths_3(a)"
   ]
  },
  {
   "cell_type": "code",
   "execution_count": 8,
   "metadata": {},
   "outputs": [],
   "source": [
    "# Optimal sol.. O(n)T / O(h)S\n",
    "# h is height of tree\n",
    "\n",
    "def allKindsOfNodeDepths_4(root):\n",
    "    return getTreeInfo(root).sumOfAllDepths\n",
    "\n",
    "def getTreeInfo(tree):\n",
    "    if tree is None:\n",
    "        return TreeInfo(0, 0, 0)\n",
    "    \n",
    "    leftTreeInfo = getTreeInfo(tree.left)\n",
    "    rightTreeInfo = getTreeInfo(tree.right)\n",
    "    \n",
    "    sumOfLeftDepths = leftTreeInfo.sumOfDepths + leftTreeInfo.numNodesInTree\n",
    "    sumOfRightDepths = rightTreeInfo.sumOfDepths + rightTreeInfo.numNodesInTree\n",
    "    \n",
    "    numNodesInTree = 1 + leftTreeInfo.numNodesInTree + rightTreeInfo.numNodesInTree\n",
    "    sumOfDepths = sumOfLeftDepths + sumOfRightDepths\n",
    "    sumOfAllDepths = sumOfDepths + leftTreeInfo.sumOfAllDepths + rightTreeInfo.sumOfAllDepths\n",
    "    \n",
    "    return TreeInfo(numNodesInTree, sumOfDepths, sumOfAllDepths)\n",
    "\n",
    "class TreeInfo:\n",
    "    def __init__(self, numNodesInTree, sumOfDepths, sumOfAllDepths):\n",
    "        self.numNodesInTree = numNodesInTree\n",
    "        self.sumOfDepths = sumOfDepths\n",
    "        self.sumOfAllDepths = sumOfAllDepths"
   ]
  },
  {
   "cell_type": "code",
   "execution_count": 9,
   "metadata": {},
   "outputs": [
    {
     "data": {
      "text/plain": [
       "26"
      ]
     },
     "execution_count": 9,
     "metadata": {},
     "output_type": "execute_result"
    }
   ],
   "source": [
    "allKindsOfNodeDepths_4(a)"
   ]
  },
  {
   "cell_type": "code",
   "execution_count": null,
   "metadata": {},
   "outputs": [],
   "source": []
  }
 ],
 "metadata": {
  "kernelspec": {
   "display_name": "Python 3",
   "language": "python",
   "name": "python3"
  },
  "language_info": {
   "codemirror_mode": {
    "name": "ipython",
    "version": 3
   },
   "file_extension": ".py",
   "mimetype": "text/x-python",
   "name": "python",
   "nbconvert_exporter": "python",
   "pygments_lexer": "ipython3",
   "version": "3.8.3"
  }
 },
 "nbformat": 4,
 "nbformat_minor": 4
}
