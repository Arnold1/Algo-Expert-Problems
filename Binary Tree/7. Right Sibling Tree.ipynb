{
 "cells": [
  {
   "cell_type": "markdown",
   "metadata": {},
   "source": [
    "# Given a binary tree, transform it into a right sibling tree in place."
   ]
  },
  {
   "cell_type": "code",
   "execution_count": null,
   "metadata": {},
   "outputs": [],
   "source": [
    "\"\"\"\n",
    "Sample Input:\n",
    "\n",
    "             1\n",
    "           /   \\\n",
    "         2       3\n",
    "      /   \\     /   \\\n",
    "    4     5    6     7\n",
    "  /  \\    \\   /     /  \\\n",
    " 8   9    10  11  12   13\n",
    "              /\n",
    "             14\n",
    "\n",
    "Sample Output:\n",
    "\n",
    "            1\n",
    "          /   \n",
    "         2-->  3\n",
    "       /       /   \n",
    "      4-->5--> 6 --> 7\n",
    "     /         /     /  \n",
    "    8-->9 10-->11  12-->13\n",
    "               /\n",
    "              14\n",
    "              \n",
    "\"\"\""
   ]
  },
  {
   "cell_type": "code",
   "execution_count": null,
   "metadata": {},
   "outputs": [],
   "source": [
    "# O(n)T / O(d)S - d is depth of tree\n",
    "\n",
    "def rightSiblingTree(root):\n",
    "    mutate(root, None, None)\n",
    "    \n",
    "    return root\n",
    "\n",
    "def mutate(root, parent, isLeftChild):\n",
    "    if node is None:\n",
    "        return \n",
    "    \n",
    "    left, right = node.left, node.right\n",
    "    \n",
    "    mutate(left, node, True)\n",
    "    \n",
    "    if parent is None:\n",
    "        node.right = None\n",
    "    elif isLeftChild:\n",
    "        node.right = parent.right\n",
    "    else:\n",
    "        if parent.right is None:\n",
    "            node.right = None\n",
    "        else:\n",
    "            node.right = parent.right.left\n",
    "    \n",
    "    mutate(right, node, False)"
   ]
  }
 ],
 "metadata": {
  "kernelspec": {
   "display_name": "Python 3",
   "language": "python",
   "name": "python3"
  },
  "language_info": {
   "codemirror_mode": {
    "name": "ipython",
    "version": 3
   },
   "file_extension": ".py",
   "mimetype": "text/x-python",
   "name": "python",
   "nbconvert_exporter": "python",
   "pygments_lexer": "ipython3",
   "version": "3.8.3"
  }
 },
 "nbformat": 4,
 "nbformat_minor": 4
}
